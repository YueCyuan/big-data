{
  "nbformat": 4,
  "nbformat_minor": 0,
  "metadata": {
    "colab": {
      "name": "assessments1",
      "provenance": [],
      "collapsed_sections": [],
      "include_colab_link": true
    },
    "kernelspec": {
      "name": "ir",
      "display_name": "R"
    }
  },
  "cells": [
    {
      "cell_type": "markdown",
      "metadata": {
        "id": "view-in-github",
        "colab_type": "text"
      },
      "source": [
        "<a href=\"https://colab.research.google.com/github/YueCyuan/big-data/blob/master/assessments1.ipynb\" target=\"_parent\"><img src=\"https://colab.research.google.com/assets/colab-badge.svg\" alt=\"Open In Colab\"/></a>"
      ]
    },
    {
      "cell_type": "code",
      "metadata": {
        "id": "CuEKiwBqW9eE",
        "colab_type": "code",
        "colab": {
          "base_uri": "https://localhost:8080/",
          "height": 34
        },
        "outputId": "718ca23f-b851-4ed3-807f-27cc6e828f90"
      },
      "source": [
        "class(2)"
      ],
      "execution_count": null,
      "outputs": [
        {
          "output_type": "display_data",
          "data": {
            "text/plain": [
              "[1] \"numeric\""
            ],
            "text/latex": "'numeric'",
            "text/markdown": "'numeric'",
            "text/html": [
              "'numeric'"
            ]
          },
          "metadata": {
            "tags": []
          }
        }
      ]
    },
    {
      "cell_type": "code",
      "metadata": {
        "id": "BG8mpVWmXMIk",
        "colab_type": "code",
        "colab": {
          "base_uri": "https://localhost:8080/",
          "height": 34
        },
        "outputId": "dbb7f8f2-22e5-4cd1-a2d4-157b6ccd3c2f"
      },
      "source": [
        "class(\"舟公\")"
      ],
      "execution_count": null,
      "outputs": [
        {
          "output_type": "display_data",
          "data": {
            "text/plain": [
              "[1] \"character\""
            ],
            "text/latex": "'character'",
            "text/markdown": "'character'",
            "text/html": [
              "'character'"
            ]
          },
          "metadata": {
            "tags": []
          }
        }
      ]
    },
    {
      "cell_type": "code",
      "metadata": {
        "id": "DuHfLCihXdho",
        "colab_type": "code",
        "colab": {
          "base_uri": "https://localhost:8080/",
          "height": 34
        },
        "outputId": "f345597e-8223-4626-d81c-c96163fec942"
      },
      "source": [
        "8+9"
      ],
      "execution_count": null,
      "outputs": [
        {
          "output_type": "display_data",
          "data": {
            "text/plain": [
              "[1] 17"
            ],
            "text/latex": "17",
            "text/markdown": "17",
            "text/html": [
              "17"
            ]
          },
          "metadata": {
            "tags": []
          }
        }
      ]
    },
    {
      "cell_type": "code",
      "metadata": {
        "id": "xK-2ffqcXmfi",
        "colab_type": "code",
        "colab": {
          "base_uri": "https://localhost:8080/",
          "height": 34
        },
        "outputId": "4dc76034-eeff-4f78-8847-97ef381bf17c"
      },
      "source": [
        "123456789+12631651526"
      ],
      "execution_count": null,
      "outputs": [
        {
          "output_type": "display_data",
          "data": {
            "text/plain": [
              "[1] 12755108315"
            ],
            "text/latex": "12755108315",
            "text/markdown": "12755108315",
            "text/html": [
              "12755108315"
            ]
          },
          "metadata": {
            "tags": []
          }
        }
      ]
    },
    {
      "cell_type": "code",
      "metadata": {
        "id": "wGQKCTmMXrqB",
        "colab_type": "code",
        "colab": {}
      },
      "source": [
        "H <- 190"
      ],
      "execution_count": null,
      "outputs": []
    },
    {
      "cell_type": "code",
      "metadata": {
        "id": "8Xgh7bdHYoDR",
        "colab_type": "code",
        "colab": {}
      },
      "source": [
        "W <- 50"
      ],
      "execution_count": null,
      "outputs": []
    },
    {
      "cell_type": "code",
      "metadata": {
        "id": "Ig0VRU5YZZcj",
        "colab_type": "code",
        "colab": {
          "base_uri": "https://localhost:8080/",
          "height": 34
        },
        "outputId": "46bb1e1c-c460-4bd7-b734-9129808e74ad"
      },
      "source": [
        "H"
      ],
      "execution_count": null,
      "outputs": [
        {
          "output_type": "display_data",
          "data": {
            "text/plain": [
              "[1] 171"
            ],
            "text/latex": "171",
            "text/markdown": "171",
            "text/html": [
              "171"
            ]
          },
          "metadata": {
            "tags": []
          }
        }
      ]
    },
    {
      "cell_type": "code",
      "metadata": {
        "id": "oNCcClkqZoJQ",
        "colab_type": "code",
        "colab": {}
      },
      "source": [
        "BMI<-W/(H/100)^2"
      ],
      "execution_count": null,
      "outputs": []
    },
    {
      "cell_type": "code",
      "metadata": {
        "id": "A3bAyPMscG8X",
        "colab_type": "code",
        "colab": {
          "base_uri": "https://localhost:8080/",
          "height": 34
        },
        "outputId": "e23fbc18-1828-4a89-a73a-9499548e47cd"
      },
      "source": [
        "BMI"
      ],
      "execution_count": null,
      "outputs": [
        {
          "output_type": "display_data",
          "data": {
            "text/plain": [
              "[1] 13.85042"
            ],
            "text/latex": "13.8504155124654",
            "text/markdown": "13.8504155124654",
            "text/html": [
              "13.8504155124654"
            ]
          },
          "metadata": {
            "tags": []
          }
        }
      ]
    },
    {
      "cell_type": "code",
      "metadata": {
        "id": "0utQDBkdXdrP",
        "colab_type": "code",
        "colab": {}
      },
      "source": [
        "NAME<- \"YUE\""
      ],
      "execution_count": null,
      "outputs": []
    },
    {
      "cell_type": "code",
      "metadata": {
        "id": "uKOww2OZazjL",
        "colab_type": "code",
        "colab": {
          "base_uri": "https://localhost:8080/",
          "height": 34
        },
        "outputId": "b44d64d6-08a6-46be-fd7a-af886b41a3b9"
      },
      "source": [
        "NAME"
      ],
      "execution_count": null,
      "outputs": [
        {
          "output_type": "display_data",
          "data": {
            "text/plain": [
              "[1] \"YUE\""
            ],
            "text/latex": "'YUE'",
            "text/markdown": "'YUE'",
            "text/html": [
              "'YUE'"
            ]
          },
          "metadata": {
            "tags": []
          }
        }
      ]
    },
    {
      "cell_type": "code",
      "metadata": {
        "id": "dKwe-nFEbS5u",
        "colab_type": "code",
        "colab": {
          "base_uri": "https://localhost:8080/",
          "height": 34
        },
        "outputId": "bb246756-a15a-4523-ea9a-02238dffc0d5"
      },
      "source": [
        "paste0(\"我是\",NAME,\"我的身高\",H,\"我的體重\",W,\"我的bmi\",BMI)"
      ],
      "execution_count": null,
      "outputs": [
        {
          "output_type": "display_data",
          "data": {
            "text/plain": [
              "[1] \"我是YUE我的身高190我的體重50我的bmi13.8504155124654\""
            ],
            "text/latex": "'我是YUE我的身高190我的體重50我的bmi13.8504155124654'",
            "text/markdown": "'我是YUE我的身高190我的體重50我的bmi13.8504155124654'",
            "text/html": [
              "'我是YUE我的身高190我的體重50我的bmi13.8504155124654'"
            ]
          },
          "metadata": {
            "tags": []
          }
        }
      ]
    }
  ]
}