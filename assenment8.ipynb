{
  "nbformat": 4,
  "nbformat_minor": 0,
  "metadata": {
    "colab": {
      "name": "assenment8.ipynb",
      "provenance": [],
      "collapsed_sections": [],
      "include_colab_link": true
    },
    "kernelspec": {
      "name": "ir",
      "display_name": "R"
    }
  },
  "cells": [
    {
      "cell_type": "markdown",
      "metadata": {
        "id": "view-in-github",
        "colab_type": "text"
      },
      "source": [
        "<a href=\"https://colab.research.google.com/github/YueCyuan/big-data/blob/master/assenment8.ipynb\" target=\"_parent\"><img src=\"https://colab.research.google.com/assets/colab-badge.svg\" alt=\"Open In Colab\"/></a>"
      ]
    },
    {
      "cell_type": "code",
      "metadata": {
        "id": "6M0wkznDdwQu",
        "outputId": "d671e5ed-790a-4318-b415-f36cc308d63e",
        "colab": {
          "base_uri": "https://localhost:8080/"
        }
      },
      "source": [
        "install.packages(\"rJava\")"
      ],
      "execution_count": 19,
      "outputs": [
        {
          "output_type": "stream",
          "text": [
            "Installing package into ‘/usr/local/lib/R/site-library’\n",
            "(as ‘lib’ is unspecified)\n",
            "\n"
          ],
          "name": "stderr"
        }
      ]
    },
    {
      "cell_type": "code",
      "metadata": {
        "id": "cwQzftbpeDoO",
        "outputId": "262d2dc7-d29e-481f-b6e1-25fb77403ca7",
        "colab": {
          "base_uri": "https://localhost:8080/"
        }
      },
      "source": [
        "install.packages(\"jiebaR\")"
      ],
      "execution_count": 20,
      "outputs": [
        {
          "output_type": "stream",
          "text": [
            "Installing package into ‘/usr/local/lib/R/site-library’\n",
            "(as ‘lib’ is unspecified)\n",
            "\n",
            "also installing the dependency ‘jiebaRD’\n",
            "\n",
            "\n"
          ],
          "name": "stderr"
        }
      ]
    },
    {
      "cell_type": "code",
      "metadata": {
        "id": "1vrDu0WieNqa",
        "outputId": "2e67b208-1c86-4673-fe2a-6a04faff784b",
        "colab": {
          "base_uri": "https://localhost:8080/"
        }
      },
      "source": [
        "install.packages(\"tmcn\")"
      ],
      "execution_count": 21,
      "outputs": [
        {
          "output_type": "stream",
          "text": [
            "Installing package into ‘/usr/local/lib/R/site-library’\n",
            "(as ‘lib’ is unspecified)\n",
            "\n"
          ],
          "name": "stderr"
        }
      ]
    },
    {
      "cell_type": "code",
      "metadata": {
        "id": "WCjWzC4HeNuX",
        "outputId": "78232c6d-1135-4c4a-e847-3949eb74efef",
        "colab": {
          "base_uri": "https://localhost:8080/"
        }
      },
      "source": [
        "install.packages(\"dplyr\")"
      ],
      "execution_count": 22,
      "outputs": [
        {
          "output_type": "stream",
          "text": [
            "Installing package into ‘/usr/local/lib/R/site-library’\n",
            "(as ‘lib’ is unspecified)\n",
            "\n"
          ],
          "name": "stderr"
        }
      ]
    },
    {
      "cell_type": "code",
      "metadata": {
        "id": "pbeAQNf6eNw-",
        "outputId": "ab257e5d-37de-4d1e-8dc9-cebd702e8c7f",
        "colab": {
          "base_uri": "https://localhost:8080/"
        }
      },
      "source": [
        "install.packages(\"lubridata\")"
      ],
      "execution_count": 23,
      "outputs": [
        {
          "output_type": "stream",
          "text": [
            "Installing package into ‘/usr/local/lib/R/site-library’\n",
            "(as ‘lib’ is unspecified)\n",
            "\n",
            "Warning message:\n",
            "“package ‘lubridata’ is not available for this version of R\n",
            "\n",
            "A version of this package for your version of R might be available elsewhere,\n",
            "see the ideas at\n",
            "https://cran.r-project.org/doc/manuals/r-patched/R-admin.html#Installing-packages”\n"
          ],
          "name": "stderr"
        }
      ]
    },
    {
      "cell_type": "code",
      "metadata": {
        "id": "CHGR80_MeNzW",
        "outputId": "48cd3eb3-899b-4ba0-c0aa-344423e9c340",
        "colab": {
          "base_uri": "https://localhost:8080/"
        }
      },
      "source": [
        "install.packages(\"stringr\")"
      ],
      "execution_count": 24,
      "outputs": [
        {
          "output_type": "stream",
          "text": [
            "Installing package into ‘/usr/local/lib/R/site-library’\n",
            "(as ‘lib’ is unspecified)\n",
            "\n"
          ],
          "name": "stderr"
        }
      ]
    },
    {
      "cell_type": "code",
      "metadata": {
        "id": "n-0k1aR7eN11",
        "outputId": "27b784c2-680c-4096-adfd-56e382acdee6",
        "colab": {
          "base_uri": "https://localhost:8080/"
        }
      },
      "source": [
        "install.packages(\"wordcloud\")"
      ],
      "execution_count": 25,
      "outputs": [
        {
          "output_type": "stream",
          "text": [
            "Installing package into ‘/usr/local/lib/R/site-library’\n",
            "(as ‘lib’ is unspecified)\n",
            "\n"
          ],
          "name": "stderr"
        }
      ]
    },
    {
      "cell_type": "code",
      "metadata": {
        "id": "Qn8eVzQNeN4K",
        "outputId": "55af1e04-0d46-491f-dcaf-e9c8343e699a",
        "colab": {
          "base_uri": "https://localhost:8080/"
        }
      },
      "source": [
        "install.packages(\"Rwordseg\",repos =\"http://R-Forge.R-project.org\" )"
      ],
      "execution_count": 26,
      "outputs": [
        {
          "output_type": "stream",
          "text": [
            "Installing package into ‘/usr/local/lib/R/site-library’\n",
            "(as ‘lib’ is unspecified)\n",
            "\n",
            "Warning message:\n",
            "“dependency ‘HMM’ is not available”\n",
            "Warning message in install.packages(\"Rwordseg\", repos = \"http://R-Forge.R-project.org\"):\n",
            "“installation of package ‘Rwordseg’ had non-zero exit status”\n"
          ],
          "name": "stderr"
        }
      ]
    },
    {
      "cell_type": "code",
      "metadata": {
        "id": "bMIwshVIfYoq",
        "outputId": "4a9f2092-c608-4ef6-85c5-6e1b4b5ad225",
        "colab": {
          "base_uri": "https://localhost:8080/"
        }
      },
      "source": [
        "library(dplyr)"
      ],
      "execution_count": 27,
      "outputs": [
        {
          "output_type": "stream",
          "text": [
            "\n",
            "Attaching package: ‘dplyr’\n",
            "\n",
            "\n",
            "The following objects are masked from ‘package:stats’:\n",
            "\n",
            "    filter, lag\n",
            "\n",
            "\n",
            "The following objects are masked from ‘package:base’:\n",
            "\n",
            "    intersect, setdiff, setequal, union\n",
            "\n",
            "\n"
          ],
          "name": "stderr"
        }
      ]
    },
    {
      "cell_type": "code",
      "metadata": {
        "id": "yAjdBH_ifc-1",
        "outputId": "5881f5dc-595c-4a92-fa61-ee0f0d5683a3",
        "colab": {
          "base_uri": "https://localhost:8080/"
        }
      },
      "source": [
        "library(lubridate)"
      ],
      "execution_count": 28,
      "outputs": [
        {
          "output_type": "stream",
          "text": [
            "\n",
            "Attaching package: ‘lubridate’\n",
            "\n",
            "\n",
            "The following objects are masked from ‘package:base’:\n",
            "\n",
            "    date, intersect, setdiff, union\n",
            "\n",
            "\n"
          ],
          "name": "stderr"
        }
      ]
    },
    {
      "cell_type": "code",
      "metadata": {
        "id": "CTYGfvM4fh1n"
      },
      "source": [
        "library(stringr)"
      ],
      "execution_count": 29,
      "outputs": []
    },
    {
      "cell_type": "code",
      "metadata": {
        "id": "_U9LbpSYfh30",
        "outputId": "2cfcf9d9-2e73-4ac4-ada0-9df41cf92dd1",
        "colab": {
          "base_uri": "https://localhost:8080/"
        }
      },
      "source": [
        "library(jiebaR)"
      ],
      "execution_count": 30,
      "outputs": [
        {
          "output_type": "stream",
          "text": [
            "Loading required package: jiebaRD\n",
            "\n"
          ],
          "name": "stderr"
        }
      ]
    },
    {
      "cell_type": "code",
      "metadata": {
        "id": "vUZWvcF0fh6K",
        "outputId": "03d69d04-e666-4fbe-a707-1500490da1b3",
        "colab": {
          "base_uri": "https://localhost:8080/"
        }
      },
      "source": [
        "library(wordcloud)"
      ],
      "execution_count": 31,
      "outputs": [
        {
          "output_type": "stream",
          "text": [
            "Loading required package: RColorBrewer\n",
            "\n"
          ],
          "name": "stderr"
        }
      ]
    },
    {
      "cell_type": "code",
      "metadata": {
        "id": "1AV2A71efh8q"
      },
      "source": [
        "content <-\"起初,神創造天地.地是空虛混沌,淵面黑暗,神的靈運行在水面上.神說,要有光,就有了光,神看光是好的,就把光暗分開了,神稱光為晝,稱暗為夜,有晚上,有早晨,這是頭一日,神說,諸水之間要有空氣,將水分為上下,神就造出空氣,將空氣以下的水,空氣以上的水分開了,事就這樣成了,神稱空氣為天,有晚上,有早晨,是第二日,神說,天下的水要聚在一處,使旱地露出來,事就這樣成了,神稱旱地為地,稱水的聚處為海,神看著是好的,神說,地要發生青草和結種子的菜蔬,並結果子的樹木,各從其類,果子都包著核,事就這樣成了,於是地發生了青草和結種子的菜蔬,各從其類,並結果子的樹木,各從其類,果子都包著核,神看著是好的,有晚上,有早晨,是第三日,神說,天上要有光體,可以分晝夜,作記號,節令,日子,年歲,並要發光在天空,普照在地上,事就這樣成了,於是神造了兩個大光,大的管晝,小的管夜,又造眾星,就把這些光擺列在天空,普照在地上,管理晝夜,分別明暗,神看著是好的,有晚上,有早晨是,第四日,神說,水要多多滋生有生命的物,要有雀鳥飛在地面以上,天空之中,神就造出大魚和水中所滋生各樣有生命的動物,各從其類,又造出各樣飛鳥,各從其類,神看著是好的,神就賜福給這一切,說,滋生繁多充滿海中的水,雀鳥也要多生在地上,有晚上,有早晨,是第五,日神說,地要生出活物來,各從其,犧牲畜,昆蟲,野獸,各從其類,事就這樣成了,於是神造出野獸,各從其類,牲畜,各從其類,地上一切昆蟲,各從其類,神看著是好的,神說,我們要照著我們的形像,按著我們的樣式造人,使他們管理海裡的魚,空中的鳥,地上的牲畜和全地,並地上所爬的一切昆蟲,神就照著自己的形像造人,乃是照著他的形像造男造女,神就賜福給他們,又對他們說,要生養眾多,遍滿地面,治理這地,也要管理海裡的魚,空中的鳥和地上各樣行動的活物,神說,看哪,我將遍地上一切結種子的菜蔬和一切樹上所結有核的果子全賜給你們作食物,至於地上的走獸和空中的飛鳥,並各樣爬在地上有生命的物,我將青草賜給牠們作食物,事就這樣成了,神看著一切所造的都甚好,有晚上,有早晨,是第六日\""
      ],
      "execution_count": 32,
      "outputs": []
    },
    {
      "cell_type": "code",
      "metadata": {
        "id": "NtrHJvYcf6p3"
      },
      "source": [
        "cutter<-worker(bylines=F)"
      ],
      "execution_count": 33,
      "outputs": []
    },
    {
      "cell_type": "code",
      "metadata": {
        "id": "Kjny68-qgFo1",
        "outputId": "27b4228a-667e-4f30-d816-c6b94769b18f",
        "colab": {
          "base_uri": "https://localhost:8080/",
          "height": 454
        }
      },
      "source": [
        "cutter[content]"
      ],
      "execution_count": 34,
      "outputs": [
        {
          "output_type": "display_data",
          "data": {
            "text/plain": [
              "  [1] \"起初\"     \"神\"       \"創造\"     \"天地\"     \"地是\"     \"空虛\"    \n",
              "  [7] \"混沌\"     \"淵面\"     \"黑暗\"     \"神的靈\"   \"運行\"     \"在\"      \n",
              " [13] \"水面\"     \"上\"       \"神說\"     \"要有光\"   \"就\"       \"有\"      \n",
              " [19] \"了\"       \"光\"       \"神看\"     \"光是\"     \"好\"       \"的\"      \n",
              " [25] \"就\"       \"把\"       \"光暗\"     \"分開\"     \"了\"       \"神稱\"    \n",
              " [31] \"光為\"     \"晝\"       \"稱暗\"     \"為\"       \"夜\"       \"有\"      \n",
              " [37] \"晚上\"     \"有\"       \"早晨\"     \"這是頭\"   \"一日\"     \"神說\"    \n",
              " [43] \"諸水\"     \"之間\"     \"要\"       \"有\"       \"空氣\"     \"將\"      \n",
              " [49] \"水分\"     \"為\"       \"上下\"     \"神\"       \"就\"       \"造出\"    \n",
              " [55] \"空氣\"     \"將\"       \"空氣\"     \"以下\"     \"的\"       \"水\"      \n",
              " [61] \"空氣\"     \"以上\"     \"的\"       \"水\"       \"分開\"     \"了\"      \n",
              " [67] \"事\"       \"就\"       \"這樣\"     \"成\"       \"了\"       \"神稱\"    \n",
              " [73] \"空氣\"     \"為天\"     \"有\"       \"晚上\"     \"有\"       \"早晨\"    \n",
              " [79] \"是\"       \"第二日\"   \"神說\"     \"天下\"     \"的\"       \"水要\"    \n",
              " [85] \"聚\"       \"在\"       \"一處\"     \"使\"       \"旱地\"     \"露\"      \n",
              " [91] \"出來\"     \"事\"       \"就\"       \"這樣\"     \"成\"       \"了\"      \n",
              " [97] \"神稱\"     \"旱地\"     \"為\"       \"地\"       \"稱水\"     \"的\"      \n",
              "[103] \"聚處\"     \"為海\"     \"神看\"     \"著\"       \"是\"       \"好\"      \n",
              "[109] \"的\"       \"神說\"     \"地要\"     \"發生\"     \"青草\"     \"和\"      \n",
              "[115] \"結\"       \"種子\"     \"的\"       \"菜蔬\"     \"並\"       \"結果\"    \n",
              "[121] \"子\"       \"的\"       \"樹木\"     \"各從其類\" \"果子\"     \"都\"      \n",
              "[127] \"包著核\"   \"事\"       \"就\"       \"這樣\"     \"成\"       \"了\"      \n",
              "[133] \"於是\"     \"地\"       \"發生\"     \"了\"       \"青草\"     \"和\"      \n",
              "[139] \"結\"       \"種子\"     \"的\"       \"菜蔬\"     \"各從其類\" \"並\"      \n",
              "[145] \"結果\"     \"子\"       \"的\"       \"樹木\"     \"各從其類\" \"果子\"    \n",
              "[151] \"都\"       \"包著核\"   \"神看\"     \"著\"       \"是\"       \"好\"      \n",
              "[157] \"的\"       \"有\"       \"晚上\"     \"有\"       \"早晨\"     \"是\"      \n",
              "[163] \"第三日\"   \"神說\"     \"天上\"     \"要有光\"   \"體\"       \"可以\"    \n",
              "[169] \"分\"       \"晝夜\"     \"作記號\"   \"節令\"     \"日子\"     \"年歲\"    \n",
              "[175] \"並要\"     \"發光\"     \"在\"       \"天空\"     \"普照\"     \"在\"      \n",
              "[181] \"地上\"     \"事\"       \"就\"       \"這樣\"     \"成\"       \"了\"      \n",
              "[187] \"於是\"     \"神造\"     \"了\"       \"兩個\"     \"大光\"     \"大\"      \n",
              "[193] \"的\"       \"管晝\"     \"小\"       \"的\"       \"管夜\"     \"又\"      \n",
              "[199] \"造眾星\"   \"就\"       \"把\"       \"這些\"     \"光\"       \"擺列\"    \n",
              "[205] \"在\"       \"天空\"     \"普照\"     \"在\"       \"地上\"     \"管理\"    \n",
              "[211] \"晝夜\"     \"分別\"     \"明暗\"     \"神看\"     \"著\"       \"是\"      \n",
              "[217] \"好\"       \"的\"       \"有\"       \"晚上\"     \"有\"       \"早晨\"    \n",
              "[223] \"是\"       \"第四日\"   \"神說\"     \"水要\"     \"多多\"     \"滋生\"    \n",
              "[229] \"有\"       \"生命\"     \"的\"       \"物\"       \"要\"       \"有\"      \n",
              "[235] \"雀鳥\"     \"飛在\"     \"地面\"     \"以上\"     \"天空\"     \"之中\"    \n",
              "[241] \"神\"       \"就\"       \"造出\"     \"大魚\"     \"和\"       \"水中\"    \n",
              "[247] \"所\"       \"滋生\"     \"各樣\"     \"有\"       \"生命\"     \"的\"      \n",
              "[253] \"動物\"     \"各從其類\" \"又\"       \"造出\"     \"各樣\"     \"飛鳥\"    \n",
              "[259] \"各從其類\" \"神看\"     \"著\"       \"是\"       \"好\"       \"的\"      \n",
              "[265] \"神\"       \"就\"       \"賜福\"     \"給\"       \"這\"       \"一切\"    \n",
              "[271] \"說\"       \"滋生\"     \"繁多\"     \"充滿\"     \"海中\"     \"的\"      \n",
              "[277] \"水\"       \"雀鳥\"     \"也\"       \"要\"       \"多\"       \"生在地上\"\n",
              "[283] \"有\"       \"晚上\"     \"有\"       \"早晨\"     \"是\"       \"第五\"    \n",
              "[289] \"日神\"     \"說\"       \"地要\"     \"生出\"     \"活物\"     \"來\"      \n",
              "[295] \"各\"       \"從\"       \"其\"       \"犧牲\"     \"畜\"       \"昆蟲\"    \n",
              "[301] \"野獸\"     \"各從其類\" \"事\"       \"就\"       \"這樣\"     \"成\"      \n",
              "[307] \"了\"       \"於是\"     \"神造\"     \"出\"       \"野獸\"     \"各從其類\"\n",
              "[313] \"牲畜\"     \"各從其類\" \"地上\"     \"一切\"     \"昆蟲\"     \"各從其類\"\n",
              "[319] \"神看\"     \"著\"       \"是\"       \"好\"       \"的\"       \"神說\"    \n",
              "[325] \"我們\"     \"要照\"     \"著\"       \"我們\"     \"的\"       \"形像\"    \n",
              "[331] \"按著\"     \"我們\"     \"的\"       \"樣式\"     \"造人\"     \"使\"      \n",
              "[337] \"他們\"     \"管理\"     \"海裡\"     \"的魚\"     \"空中\"     \"的\"      \n",
              "[343] \"鳥\"       \"地上\"     \"的\"       \"牲畜\"     \"和\"       \"全地\"    \n",
              "[349] \"並\"       \"地上\"     \"所\"       \"爬\"       \"的\"       \"一切\"    \n",
              "[355] \"昆蟲\"     \"神\"       \"就\"       \"照著\"     \"自己\"     \"的\"      \n",
              "[361] \"形像\"     \"造人\"     \"乃是\"     \"照著\"     \"他\"       \"的\"      \n",
              "[367] \"形像\"     \"造男造\"   \"女\"       \"神\"       \"就\"       \"賜福\"    \n",
              "[373] \"給\"       \"他們\"     \"又\"       \"對\"       \"他們\"     \"說\"      \n",
              "[379] \"要\"       \"生養\"     \"眾多\"     \"遍滿\"     \"地面\"     \"治理\"    \n",
              "[385] \"這地\"     \"也\"       \"要\"       \"管理\"     \"海裡\"     \"的魚\"    \n",
              "[391] \"空中\"     \"的\"       \"鳥\"       \"和\"       \"地上\"     \"各樣\"    \n",
              "[397] \"行動\"     \"的\"       \"活物\"     \"神說\"     \"看\"       \"哪\"      \n",
              "[403] \"我將\"     \"遍地\"     \"上\"       \"一\"       \"切結\"     \"種子\"    \n",
              "[409] \"的\"       \"菜蔬\"     \"和\"       \"一切\"     \"樹上\"     \"所結\"    \n",
              "[415] \"有\"       \"核\"       \"的\"       \"果子\"     \"全\"       \"賜給\"    \n",
              "[421] \"你們\"     \"作\"       \"食物\"     \"至於\"     \"地上\"     \"的\"      \n",
              "[427] \"走獸\"     \"和\"       \"空中\"     \"的\"       \"飛鳥\"     \"並\"      \n",
              "[433] \"各樣\"     \"爬\"       \"在\"       \"地上\"     \"有\"       \"生命\"    \n",
              "[439] \"的\"       \"物\"       \"我將\"     \"青草\"     \"賜給\"     \"牠\"      \n",
              "[445] \"們\"       \"作\"       \"食物\"     \"事\"       \"就\"       \"這樣\"    \n",
              "[451] \"成\"       \"了\"       \"神看\"     \"著\"       \"一切\"     \"所造\"    \n",
              "[457] \"的\"       \"都\"       \"甚\"       \"好\"       \"有\"       \"晚上\"    \n",
              "[463] \"有\"       \"早晨\"     \"是\"       \"第六日\"  "
            ],
            "text/latex": "\\begin{enumerate*}\n\\item '起初'\n\\item '神'\n\\item '創造'\n\\item '天地'\n\\item '地是'\n\\item '空虛'\n\\item '混沌'\n\\item '淵面'\n\\item '黑暗'\n\\item '神的靈'\n\\item '運行'\n\\item '在'\n\\item '水面'\n\\item '上'\n\\item '神說'\n\\item '要有光'\n\\item '就'\n\\item '有'\n\\item '了'\n\\item '光'\n\\item '神看'\n\\item '光是'\n\\item '好'\n\\item '的'\n\\item '就'\n\\item '把'\n\\item '光暗'\n\\item '分開'\n\\item '了'\n\\item '神稱'\n\\item '光為'\n\\item '晝'\n\\item '稱暗'\n\\item '為'\n\\item '夜'\n\\item '有'\n\\item '晚上'\n\\item '有'\n\\item '早晨'\n\\item '這是頭'\n\\item '一日'\n\\item '神說'\n\\item '諸水'\n\\item '之間'\n\\item '要'\n\\item '有'\n\\item '空氣'\n\\item '將'\n\\item '水分'\n\\item '為'\n\\item '上下'\n\\item '神'\n\\item '就'\n\\item '造出'\n\\item '空氣'\n\\item '將'\n\\item '空氣'\n\\item '以下'\n\\item '的'\n\\item '水'\n\\item '空氣'\n\\item '以上'\n\\item '的'\n\\item '水'\n\\item '分開'\n\\item '了'\n\\item '事'\n\\item '就'\n\\item '這樣'\n\\item '成'\n\\item '了'\n\\item '神稱'\n\\item '空氣'\n\\item '為天'\n\\item '有'\n\\item '晚上'\n\\item '有'\n\\item '早晨'\n\\item '是'\n\\item '第二日'\n\\item '神說'\n\\item '天下'\n\\item '的'\n\\item '水要'\n\\item '聚'\n\\item '在'\n\\item '一處'\n\\item '使'\n\\item '旱地'\n\\item '露'\n\\item '出來'\n\\item '事'\n\\item '就'\n\\item '這樣'\n\\item '成'\n\\item '了'\n\\item '神稱'\n\\item '旱地'\n\\item '為'\n\\item '地'\n\\item '稱水'\n\\item '的'\n\\item '聚處'\n\\item '為海'\n\\item '神看'\n\\item '著'\n\\item '是'\n\\item '好'\n\\item '的'\n\\item '神說'\n\\item '地要'\n\\item '發生'\n\\item '青草'\n\\item '和'\n\\item '結'\n\\item '種子'\n\\item '的'\n\\item '菜蔬'\n\\item '並'\n\\item '結果'\n\\item '子'\n\\item '的'\n\\item '樹木'\n\\item '各從其類'\n\\item '果子'\n\\item '都'\n\\item '包著核'\n\\item '事'\n\\item '就'\n\\item '這樣'\n\\item '成'\n\\item '了'\n\\item '於是'\n\\item '地'\n\\item '發生'\n\\item '了'\n\\item '青草'\n\\item '和'\n\\item '結'\n\\item '種子'\n\\item '的'\n\\item '菜蔬'\n\\item '各從其類'\n\\item '並'\n\\item '結果'\n\\item '子'\n\\item '的'\n\\item '樹木'\n\\item '各從其類'\n\\item '果子'\n\\item '都'\n\\item '包著核'\n\\item '神看'\n\\item '著'\n\\item '是'\n\\item '好'\n\\item '的'\n\\item '有'\n\\item '晚上'\n\\item '有'\n\\item '早晨'\n\\item '是'\n\\item '第三日'\n\\item '神說'\n\\item '天上'\n\\item '要有光'\n\\item '體'\n\\item '可以'\n\\item '分'\n\\item '晝夜'\n\\item '作記號'\n\\item '節令'\n\\item '日子'\n\\item '年歲'\n\\item '並要'\n\\item '發光'\n\\item '在'\n\\item '天空'\n\\item '普照'\n\\item '在'\n\\item '地上'\n\\item '事'\n\\item '就'\n\\item '這樣'\n\\item '成'\n\\item '了'\n\\item '於是'\n\\item '神造'\n\\item '了'\n\\item '兩個'\n\\item '大光'\n\\item '大'\n\\item '的'\n\\item '管晝'\n\\item '小'\n\\item '的'\n\\item '管夜'\n\\item '又'\n\\item '造眾星'\n\\item '就'\n\\item ⋯\n\\item '賜福'\n\\item '給'\n\\item '這'\n\\item '一切'\n\\item '說'\n\\item '滋生'\n\\item '繁多'\n\\item '充滿'\n\\item '海中'\n\\item '的'\n\\item '水'\n\\item '雀鳥'\n\\item '也'\n\\item '要'\n\\item '多'\n\\item '生在地上'\n\\item '有'\n\\item '晚上'\n\\item '有'\n\\item '早晨'\n\\item '是'\n\\item '第五'\n\\item '日神'\n\\item '說'\n\\item '地要'\n\\item '生出'\n\\item '活物'\n\\item '來'\n\\item '各'\n\\item '從'\n\\item '其'\n\\item '犧牲'\n\\item '畜'\n\\item '昆蟲'\n\\item '野獸'\n\\item '各從其類'\n\\item '事'\n\\item '就'\n\\item '這樣'\n\\item '成'\n\\item '了'\n\\item '於是'\n\\item '神造'\n\\item '出'\n\\item '野獸'\n\\item '各從其類'\n\\item '牲畜'\n\\item '各從其類'\n\\item '地上'\n\\item '一切'\n\\item '昆蟲'\n\\item '各從其類'\n\\item '神看'\n\\item '著'\n\\item '是'\n\\item '好'\n\\item '的'\n\\item '神說'\n\\item '我們'\n\\item '要照'\n\\item '著'\n\\item '我們'\n\\item '的'\n\\item '形像'\n\\item '按著'\n\\item '我們'\n\\item '的'\n\\item '樣式'\n\\item '造人'\n\\item '使'\n\\item '他們'\n\\item '管理'\n\\item '海裡'\n\\item '的魚'\n\\item '空中'\n\\item '的'\n\\item '鳥'\n\\item '地上'\n\\item '的'\n\\item '牲畜'\n\\item '和'\n\\item '全地'\n\\item '並'\n\\item '地上'\n\\item '所'\n\\item '爬'\n\\item '的'\n\\item '一切'\n\\item '昆蟲'\n\\item '神'\n\\item '就'\n\\item '照著'\n\\item '自己'\n\\item '的'\n\\item '形像'\n\\item '造人'\n\\item '乃是'\n\\item '照著'\n\\item '他'\n\\item '的'\n\\item '形像'\n\\item '造男造'\n\\item '女'\n\\item '神'\n\\item '就'\n\\item '賜福'\n\\item '給'\n\\item '他們'\n\\item '又'\n\\item '對'\n\\item '他們'\n\\item '說'\n\\item '要'\n\\item '生養'\n\\item '眾多'\n\\item '遍滿'\n\\item '地面'\n\\item '治理'\n\\item '這地'\n\\item '也'\n\\item '要'\n\\item '管理'\n\\item '海裡'\n\\item '的魚'\n\\item '空中'\n\\item '的'\n\\item '鳥'\n\\item '和'\n\\item '地上'\n\\item '各樣'\n\\item '行動'\n\\item '的'\n\\item '活物'\n\\item '神說'\n\\item '看'\n\\item '哪'\n\\item '我將'\n\\item '遍地'\n\\item '上'\n\\item '一'\n\\item '切結'\n\\item '種子'\n\\item '的'\n\\item '菜蔬'\n\\item '和'\n\\item '一切'\n\\item '樹上'\n\\item '所結'\n\\item '有'\n\\item '核'\n\\item '的'\n\\item '果子'\n\\item '全'\n\\item '賜給'\n\\item '你們'\n\\item '作'\n\\item '食物'\n\\item '至於'\n\\item '地上'\n\\item '的'\n\\item '走獸'\n\\item '和'\n\\item '空中'\n\\item '的'\n\\item '飛鳥'\n\\item '並'\n\\item '各樣'\n\\item '爬'\n\\item '在'\n\\item '地上'\n\\item '有'\n\\item '生命'\n\\item '的'\n\\item '物'\n\\item '我將'\n\\item '青草'\n\\item '賜給'\n\\item '牠'\n\\item '們'\n\\item '作'\n\\item '食物'\n\\item '事'\n\\item '就'\n\\item '這樣'\n\\item '成'\n\\item '了'\n\\item '神看'\n\\item '著'\n\\item '一切'\n\\item '所造'\n\\item '的'\n\\item '都'\n\\item '甚'\n\\item '好'\n\\item '有'\n\\item '晚上'\n\\item '有'\n\\item '早晨'\n\\item '是'\n\\item '第六日'\n\\end{enumerate*}\n",
            "text/markdown": "1. '起初'\n2. '神'\n3. '創造'\n4. '天地'\n5. '地是'\n6. '空虛'\n7. '混沌'\n8. '淵面'\n9. '黑暗'\n10. '神的靈'\n11. '運行'\n12. '在'\n13. '水面'\n14. '上'\n15. '神說'\n16. '要有光'\n17. '就'\n18. '有'\n19. '了'\n20. '光'\n21. '神看'\n22. '光是'\n23. '好'\n24. '的'\n25. '就'\n26. '把'\n27. '光暗'\n28. '分開'\n29. '了'\n30. '神稱'\n31. '光為'\n32. '晝'\n33. '稱暗'\n34. '為'\n35. '夜'\n36. '有'\n37. '晚上'\n38. '有'\n39. '早晨'\n40. '這是頭'\n41. '一日'\n42. '神說'\n43. '諸水'\n44. '之間'\n45. '要'\n46. '有'\n47. '空氣'\n48. '將'\n49. '水分'\n50. '為'\n51. '上下'\n52. '神'\n53. '就'\n54. '造出'\n55. '空氣'\n56. '將'\n57. '空氣'\n58. '以下'\n59. '的'\n60. '水'\n61. '空氣'\n62. '以上'\n63. '的'\n64. '水'\n65. '分開'\n66. '了'\n67. '事'\n68. '就'\n69. '這樣'\n70. '成'\n71. '了'\n72. '神稱'\n73. '空氣'\n74. '為天'\n75. '有'\n76. '晚上'\n77. '有'\n78. '早晨'\n79. '是'\n80. '第二日'\n81. '神說'\n82. '天下'\n83. '的'\n84. '水要'\n85. '聚'\n86. '在'\n87. '一處'\n88. '使'\n89. '旱地'\n90. '露'\n91. '出來'\n92. '事'\n93. '就'\n94. '這樣'\n95. '成'\n96. '了'\n97. '神稱'\n98. '旱地'\n99. '為'\n100. '地'\n101. '稱水'\n102. '的'\n103. '聚處'\n104. '為海'\n105. '神看'\n106. '著'\n107. '是'\n108. '好'\n109. '的'\n110. '神說'\n111. '地要'\n112. '發生'\n113. '青草'\n114. '和'\n115. '結'\n116. '種子'\n117. '的'\n118. '菜蔬'\n119. '並'\n120. '結果'\n121. '子'\n122. '的'\n123. '樹木'\n124. '各從其類'\n125. '果子'\n126. '都'\n127. '包著核'\n128. '事'\n129. '就'\n130. '這樣'\n131. '成'\n132. '了'\n133. '於是'\n134. '地'\n135. '發生'\n136. '了'\n137. '青草'\n138. '和'\n139. '結'\n140. '種子'\n141. '的'\n142. '菜蔬'\n143. '各從其類'\n144. '並'\n145. '結果'\n146. '子'\n147. '的'\n148. '樹木'\n149. '各從其類'\n150. '果子'\n151. '都'\n152. '包著核'\n153. '神看'\n154. '著'\n155. '是'\n156. '好'\n157. '的'\n158. '有'\n159. '晚上'\n160. '有'\n161. '早晨'\n162. '是'\n163. '第三日'\n164. '神說'\n165. '天上'\n166. '要有光'\n167. '體'\n168. '可以'\n169. '分'\n170. '晝夜'\n171. '作記號'\n172. '節令'\n173. '日子'\n174. '年歲'\n175. '並要'\n176. '發光'\n177. '在'\n178. '天空'\n179. '普照'\n180. '在'\n181. '地上'\n182. '事'\n183. '就'\n184. '這樣'\n185. '成'\n186. '了'\n187. '於是'\n188. '神造'\n189. '了'\n190. '兩個'\n191. '大光'\n192. '大'\n193. '的'\n194. '管晝'\n195. '小'\n196. '的'\n197. '管夜'\n198. '又'\n199. '造眾星'\n200. '就'\n201. ⋯\n202. '賜福'\n203. '給'\n204. '這'\n205. '一切'\n206. '說'\n207. '滋生'\n208. '繁多'\n209. '充滿'\n210. '海中'\n211. '的'\n212. '水'\n213. '雀鳥'\n214. '也'\n215. '要'\n216. '多'\n217. '生在地上'\n218. '有'\n219. '晚上'\n220. '有'\n221. '早晨'\n222. '是'\n223. '第五'\n224. '日神'\n225. '說'\n226. '地要'\n227. '生出'\n228. '活物'\n229. '來'\n230. '各'\n231. '從'\n232. '其'\n233. '犧牲'\n234. '畜'\n235. '昆蟲'\n236. '野獸'\n237. '各從其類'\n238. '事'\n239. '就'\n240. '這樣'\n241. '成'\n242. '了'\n243. '於是'\n244. '神造'\n245. '出'\n246. '野獸'\n247. '各從其類'\n248. '牲畜'\n249. '各從其類'\n250. '地上'\n251. '一切'\n252. '昆蟲'\n253. '各從其類'\n254. '神看'\n255. '著'\n256. '是'\n257. '好'\n258. '的'\n259. '神說'\n260. '我們'\n261. '要照'\n262. '著'\n263. '我們'\n264. '的'\n265. '形像'\n266. '按著'\n267. '我們'\n268. '的'\n269. '樣式'\n270. '造人'\n271. '使'\n272. '他們'\n273. '管理'\n274. '海裡'\n275. '的魚'\n276. '空中'\n277. '的'\n278. '鳥'\n279. '地上'\n280. '的'\n281. '牲畜'\n282. '和'\n283. '全地'\n284. '並'\n285. '地上'\n286. '所'\n287. '爬'\n288. '的'\n289. '一切'\n290. '昆蟲'\n291. '神'\n292. '就'\n293. '照著'\n294. '自己'\n295. '的'\n296. '形像'\n297. '造人'\n298. '乃是'\n299. '照著'\n300. '他'\n301. '的'\n302. '形像'\n303. '造男造'\n304. '女'\n305. '神'\n306. '就'\n307. '賜福'\n308. '給'\n309. '他們'\n310. '又'\n311. '對'\n312. '他們'\n313. '說'\n314. '要'\n315. '生養'\n316. '眾多'\n317. '遍滿'\n318. '地面'\n319. '治理'\n320. '這地'\n321. '也'\n322. '要'\n323. '管理'\n324. '海裡'\n325. '的魚'\n326. '空中'\n327. '的'\n328. '鳥'\n329. '和'\n330. '地上'\n331. '各樣'\n332. '行動'\n333. '的'\n334. '活物'\n335. '神說'\n336. '看'\n337. '哪'\n338. '我將'\n339. '遍地'\n340. '上'\n341. '一'\n342. '切結'\n343. '種子'\n344. '的'\n345. '菜蔬'\n346. '和'\n347. '一切'\n348. '樹上'\n349. '所結'\n350. '有'\n351. '核'\n352. '的'\n353. '果子'\n354. '全'\n355. '賜給'\n356. '你們'\n357. '作'\n358. '食物'\n359. '至於'\n360. '地上'\n361. '的'\n362. '走獸'\n363. '和'\n364. '空中'\n365. '的'\n366. '飛鳥'\n367. '並'\n368. '各樣'\n369. '爬'\n370. '在'\n371. '地上'\n372. '有'\n373. '生命'\n374. '的'\n375. '物'\n376. '我將'\n377. '青草'\n378. '賜給'\n379. '牠'\n380. '們'\n381. '作'\n382. '食物'\n383. '事'\n384. '就'\n385. '這樣'\n386. '成'\n387. '了'\n388. '神看'\n389. '著'\n390. '一切'\n391. '所造'\n392. '的'\n393. '都'\n394. '甚'\n395. '好'\n396. '有'\n397. '晚上'\n398. '有'\n399. '早晨'\n400. '是'\n401. '第六日'\n\n\n",
            "text/html": [
              "<style>\n",
              ".list-inline {list-style: none; margin:0; padding: 0}\n",
              ".list-inline>li {display: inline-block}\n",
              ".list-inline>li:not(:last-child)::after {content: \"\\00b7\"; padding: 0 .5ex}\n",
              "</style>\n",
              "<ol class=list-inline><li>'起初'</li><li>'神'</li><li>'創造'</li><li>'天地'</li><li>'地是'</li><li>'空虛'</li><li>'混沌'</li><li>'淵面'</li><li>'黑暗'</li><li>'神的靈'</li><li>'運行'</li><li>'在'</li><li>'水面'</li><li>'上'</li><li>'神說'</li><li>'要有光'</li><li>'就'</li><li>'有'</li><li>'了'</li><li>'光'</li><li>'神看'</li><li>'光是'</li><li>'好'</li><li>'的'</li><li>'就'</li><li>'把'</li><li>'光暗'</li><li>'分開'</li><li>'了'</li><li>'神稱'</li><li>'光為'</li><li>'晝'</li><li>'稱暗'</li><li>'為'</li><li>'夜'</li><li>'有'</li><li>'晚上'</li><li>'有'</li><li>'早晨'</li><li>'這是頭'</li><li>'一日'</li><li>'神說'</li><li>'諸水'</li><li>'之間'</li><li>'要'</li><li>'有'</li><li>'空氣'</li><li>'將'</li><li>'水分'</li><li>'為'</li><li>'上下'</li><li>'神'</li><li>'就'</li><li>'造出'</li><li>'空氣'</li><li>'將'</li><li>'空氣'</li><li>'以下'</li><li>'的'</li><li>'水'</li><li>'空氣'</li><li>'以上'</li><li>'的'</li><li>'水'</li><li>'分開'</li><li>'了'</li><li>'事'</li><li>'就'</li><li>'這樣'</li><li>'成'</li><li>'了'</li><li>'神稱'</li><li>'空氣'</li><li>'為天'</li><li>'有'</li><li>'晚上'</li><li>'有'</li><li>'早晨'</li><li>'是'</li><li>'第二日'</li><li>'神說'</li><li>'天下'</li><li>'的'</li><li>'水要'</li><li>'聚'</li><li>'在'</li><li>'一處'</li><li>'使'</li><li>'旱地'</li><li>'露'</li><li>'出來'</li><li>'事'</li><li>'就'</li><li>'這樣'</li><li>'成'</li><li>'了'</li><li>'神稱'</li><li>'旱地'</li><li>'為'</li><li>'地'</li><li>'稱水'</li><li>'的'</li><li>'聚處'</li><li>'為海'</li><li>'神看'</li><li>'著'</li><li>'是'</li><li>'好'</li><li>'的'</li><li>'神說'</li><li>'地要'</li><li>'發生'</li><li>'青草'</li><li>'和'</li><li>'結'</li><li>'種子'</li><li>'的'</li><li>'菜蔬'</li><li>'並'</li><li>'結果'</li><li>'子'</li><li>'的'</li><li>'樹木'</li><li>'各從其類'</li><li>'果子'</li><li>'都'</li><li>'包著核'</li><li>'事'</li><li>'就'</li><li>'這樣'</li><li>'成'</li><li>'了'</li><li>'於是'</li><li>'地'</li><li>'發生'</li><li>'了'</li><li>'青草'</li><li>'和'</li><li>'結'</li><li>'種子'</li><li>'的'</li><li>'菜蔬'</li><li>'各從其類'</li><li>'並'</li><li>'結果'</li><li>'子'</li><li>'的'</li><li>'樹木'</li><li>'各從其類'</li><li>'果子'</li><li>'都'</li><li>'包著核'</li><li>'神看'</li><li>'著'</li><li>'是'</li><li>'好'</li><li>'的'</li><li>'有'</li><li>'晚上'</li><li>'有'</li><li>'早晨'</li><li>'是'</li><li>'第三日'</li><li>'神說'</li><li>'天上'</li><li>'要有光'</li><li>'體'</li><li>'可以'</li><li>'分'</li><li>'晝夜'</li><li>'作記號'</li><li>'節令'</li><li>'日子'</li><li>'年歲'</li><li>'並要'</li><li>'發光'</li><li>'在'</li><li>'天空'</li><li>'普照'</li><li>'在'</li><li>'地上'</li><li>'事'</li><li>'就'</li><li>'這樣'</li><li>'成'</li><li>'了'</li><li>'於是'</li><li>'神造'</li><li>'了'</li><li>'兩個'</li><li>'大光'</li><li>'大'</li><li>'的'</li><li>'管晝'</li><li>'小'</li><li>'的'</li><li>'管夜'</li><li>'又'</li><li>'造眾星'</li><li>'就'</li><li>⋯</li><li>'賜福'</li><li>'給'</li><li>'這'</li><li>'一切'</li><li>'說'</li><li>'滋生'</li><li>'繁多'</li><li>'充滿'</li><li>'海中'</li><li>'的'</li><li>'水'</li><li>'雀鳥'</li><li>'也'</li><li>'要'</li><li>'多'</li><li>'生在地上'</li><li>'有'</li><li>'晚上'</li><li>'有'</li><li>'早晨'</li><li>'是'</li><li>'第五'</li><li>'日神'</li><li>'說'</li><li>'地要'</li><li>'生出'</li><li>'活物'</li><li>'來'</li><li>'各'</li><li>'從'</li><li>'其'</li><li>'犧牲'</li><li>'畜'</li><li>'昆蟲'</li><li>'野獸'</li><li>'各從其類'</li><li>'事'</li><li>'就'</li><li>'這樣'</li><li>'成'</li><li>'了'</li><li>'於是'</li><li>'神造'</li><li>'出'</li><li>'野獸'</li><li>'各從其類'</li><li>'牲畜'</li><li>'各從其類'</li><li>'地上'</li><li>'一切'</li><li>'昆蟲'</li><li>'各從其類'</li><li>'神看'</li><li>'著'</li><li>'是'</li><li>'好'</li><li>'的'</li><li>'神說'</li><li>'我們'</li><li>'要照'</li><li>'著'</li><li>'我們'</li><li>'的'</li><li>'形像'</li><li>'按著'</li><li>'我們'</li><li>'的'</li><li>'樣式'</li><li>'造人'</li><li>'使'</li><li>'他們'</li><li>'管理'</li><li>'海裡'</li><li>'的魚'</li><li>'空中'</li><li>'的'</li><li>'鳥'</li><li>'地上'</li><li>'的'</li><li>'牲畜'</li><li>'和'</li><li>'全地'</li><li>'並'</li><li>'地上'</li><li>'所'</li><li>'爬'</li><li>'的'</li><li>'一切'</li><li>'昆蟲'</li><li>'神'</li><li>'就'</li><li>'照著'</li><li>'自己'</li><li>'的'</li><li>'形像'</li><li>'造人'</li><li>'乃是'</li><li>'照著'</li><li>'他'</li><li>'的'</li><li>'形像'</li><li>'造男造'</li><li>'女'</li><li>'神'</li><li>'就'</li><li>'賜福'</li><li>'給'</li><li>'他們'</li><li>'又'</li><li>'對'</li><li>'他們'</li><li>'說'</li><li>'要'</li><li>'生養'</li><li>'眾多'</li><li>'遍滿'</li><li>'地面'</li><li>'治理'</li><li>'這地'</li><li>'也'</li><li>'要'</li><li>'管理'</li><li>'海裡'</li><li>'的魚'</li><li>'空中'</li><li>'的'</li><li>'鳥'</li><li>'和'</li><li>'地上'</li><li>'各樣'</li><li>'行動'</li><li>'的'</li><li>'活物'</li><li>'神說'</li><li>'看'</li><li>'哪'</li><li>'我將'</li><li>'遍地'</li><li>'上'</li><li>'一'</li><li>'切結'</li><li>'種子'</li><li>'的'</li><li>'菜蔬'</li><li>'和'</li><li>'一切'</li><li>'樹上'</li><li>'所結'</li><li>'有'</li><li>'核'</li><li>'的'</li><li>'果子'</li><li>'全'</li><li>'賜給'</li><li>'你們'</li><li>'作'</li><li>'食物'</li><li>'至於'</li><li>'地上'</li><li>'的'</li><li>'走獸'</li><li>'和'</li><li>'空中'</li><li>'的'</li><li>'飛鳥'</li><li>'並'</li><li>'各樣'</li><li>'爬'</li><li>'在'</li><li>'地上'</li><li>'有'</li><li>'生命'</li><li>'的'</li><li>'物'</li><li>'我將'</li><li>'青草'</li><li>'賜給'</li><li>'牠'</li><li>'們'</li><li>'作'</li><li>'食物'</li><li>'事'</li><li>'就'</li><li>'這樣'</li><li>'成'</li><li>'了'</li><li>'神看'</li><li>'著'</li><li>'一切'</li><li>'所造'</li><li>'的'</li><li>'都'</li><li>'甚'</li><li>'好'</li><li>'有'</li><li>'晚上'</li><li>'有'</li><li>'早晨'</li><li>'是'</li><li>'第六日'</li></ol>\n"
            ]
          },
          "metadata": {
            "tags": []
          }
        }
      ]
    },
    {
      "cell_type": "code",
      "metadata": {
        "id": "RkRD67M8gKib",
        "outputId": "36177fb0-bced-47d5-d08f-5b2df3e5b182",
        "colab": {
          "base_uri": "https://localhost:8080/",
          "height": 454
        }
      },
      "source": [
        "new_words<- c(\"聖母瑪莉亞\",\"男無關世音菩灑\",\"耶穌基督\")\n",
        "for(i in 1:length(new_words))\n",
        "{new_user_word(cutter,new_words[i])}\n",
        "content <-str_remove_all(content,\"[0-9a-zA-Z]+?\")\n",
        "cutter[content]"
      ],
      "execution_count": 35,
      "outputs": [
        {
          "output_type": "display_data",
          "data": {
            "text/plain": [
              "  [1] \"起初\"     \"神\"       \"創造\"     \"天地\"     \"地是\"     \"空虛\"    \n",
              "  [7] \"混沌\"     \"淵面\"     \"黑暗\"     \"神的靈\"   \"運行\"     \"在\"      \n",
              " [13] \"水面\"     \"上\"       \"神說\"     \"要有光\"   \"就\"       \"有\"      \n",
              " [19] \"了\"       \"光\"       \"神看\"     \"光是\"     \"好\"       \"的\"      \n",
              " [25] \"就\"       \"把\"       \"光暗\"     \"分開\"     \"了\"       \"神稱\"    \n",
              " [31] \"光為\"     \"晝\"       \"稱暗\"     \"為\"       \"夜\"       \"有\"      \n",
              " [37] \"晚上\"     \"有\"       \"早晨\"     \"這是頭\"   \"一日\"     \"神說\"    \n",
              " [43] \"諸水\"     \"之間\"     \"要\"       \"有\"       \"空氣\"     \"將\"      \n",
              " [49] \"水分\"     \"為\"       \"上下\"     \"神\"       \"就\"       \"造出\"    \n",
              " [55] \"空氣\"     \"將\"       \"空氣\"     \"以下\"     \"的\"       \"水\"      \n",
              " [61] \"空氣\"     \"以上\"     \"的\"       \"水\"       \"分開\"     \"了\"      \n",
              " [67] \"事\"       \"就\"       \"這樣\"     \"成\"       \"了\"       \"神稱\"    \n",
              " [73] \"空氣\"     \"為天\"     \"有\"       \"晚上\"     \"有\"       \"早晨\"    \n",
              " [79] \"是\"       \"第二日\"   \"神說\"     \"天下\"     \"的\"       \"水要\"    \n",
              " [85] \"聚\"       \"在\"       \"一處\"     \"使\"       \"旱地\"     \"露\"      \n",
              " [91] \"出來\"     \"事\"       \"就\"       \"這樣\"     \"成\"       \"了\"      \n",
              " [97] \"神稱\"     \"旱地\"     \"為\"       \"地\"       \"稱水\"     \"的\"      \n",
              "[103] \"聚處\"     \"為海\"     \"神看\"     \"著\"       \"是\"       \"好\"      \n",
              "[109] \"的\"       \"神說\"     \"地要\"     \"發生\"     \"青草\"     \"和\"      \n",
              "[115] \"結\"       \"種子\"     \"的\"       \"菜蔬\"     \"並\"       \"結果\"    \n",
              "[121] \"子\"       \"的\"       \"樹木\"     \"各從其類\" \"果子\"     \"都\"      \n",
              "[127] \"包著核\"   \"事\"       \"就\"       \"這樣\"     \"成\"       \"了\"      \n",
              "[133] \"於是\"     \"地\"       \"發生\"     \"了\"       \"青草\"     \"和\"      \n",
              "[139] \"結\"       \"種子\"     \"的\"       \"菜蔬\"     \"各從其類\" \"並\"      \n",
              "[145] \"結果\"     \"子\"       \"的\"       \"樹木\"     \"各從其類\" \"果子\"    \n",
              "[151] \"都\"       \"包著核\"   \"神看\"     \"著\"       \"是\"       \"好\"      \n",
              "[157] \"的\"       \"有\"       \"晚上\"     \"有\"       \"早晨\"     \"是\"      \n",
              "[163] \"第三日\"   \"神說\"     \"天上\"     \"要有光\"   \"體\"       \"可以\"    \n",
              "[169] \"分\"       \"晝夜\"     \"作記號\"   \"節令\"     \"日子\"     \"年歲\"    \n",
              "[175] \"並要\"     \"發光\"     \"在\"       \"天空\"     \"普照\"     \"在\"      \n",
              "[181] \"地上\"     \"事\"       \"就\"       \"這樣\"     \"成\"       \"了\"      \n",
              "[187] \"於是\"     \"神造\"     \"了\"       \"兩個\"     \"大光\"     \"大\"      \n",
              "[193] \"的\"       \"管晝\"     \"小\"       \"的\"       \"管夜\"     \"又\"      \n",
              "[199] \"造眾星\"   \"就\"       \"把\"       \"這些\"     \"光\"       \"擺列\"    \n",
              "[205] \"在\"       \"天空\"     \"普照\"     \"在\"       \"地上\"     \"管理\"    \n",
              "[211] \"晝夜\"     \"分別\"     \"明暗\"     \"神看\"     \"著\"       \"是\"      \n",
              "[217] \"好\"       \"的\"       \"有\"       \"晚上\"     \"有\"       \"早晨\"    \n",
              "[223] \"是\"       \"第四日\"   \"神說\"     \"水要\"     \"多多\"     \"滋生\"    \n",
              "[229] \"有\"       \"生命\"     \"的\"       \"物\"       \"要\"       \"有\"      \n",
              "[235] \"雀鳥\"     \"飛在\"     \"地面\"     \"以上\"     \"天空\"     \"之中\"    \n",
              "[241] \"神\"       \"就\"       \"造出\"     \"大魚\"     \"和\"       \"水中\"    \n",
              "[247] \"所\"       \"滋生\"     \"各樣\"     \"有\"       \"生命\"     \"的\"      \n",
              "[253] \"動物\"     \"各從其類\" \"又\"       \"造出\"     \"各樣\"     \"飛鳥\"    \n",
              "[259] \"各從其類\" \"神看\"     \"著\"       \"是\"       \"好\"       \"的\"      \n",
              "[265] \"神\"       \"就\"       \"賜福\"     \"給\"       \"這\"       \"一切\"    \n",
              "[271] \"說\"       \"滋生\"     \"繁多\"     \"充滿\"     \"海中\"     \"的\"      \n",
              "[277] \"水\"       \"雀鳥\"     \"也\"       \"要\"       \"多\"       \"生在地上\"\n",
              "[283] \"有\"       \"晚上\"     \"有\"       \"早晨\"     \"是\"       \"第五\"    \n",
              "[289] \"日神\"     \"說\"       \"地要\"     \"生出\"     \"活物\"     \"來\"      \n",
              "[295] \"各\"       \"從\"       \"其\"       \"犧牲\"     \"畜\"       \"昆蟲\"    \n",
              "[301] \"野獸\"     \"各從其類\" \"事\"       \"就\"       \"這樣\"     \"成\"      \n",
              "[307] \"了\"       \"於是\"     \"神造\"     \"出\"       \"野獸\"     \"各從其類\"\n",
              "[313] \"牲畜\"     \"各從其類\" \"地上\"     \"一切\"     \"昆蟲\"     \"各從其類\"\n",
              "[319] \"神看\"     \"著\"       \"是\"       \"好\"       \"的\"       \"神說\"    \n",
              "[325] \"我們\"     \"要照\"     \"著\"       \"我們\"     \"的\"       \"形像\"    \n",
              "[331] \"按著\"     \"我們\"     \"的\"       \"樣式\"     \"造人\"     \"使\"      \n",
              "[337] \"他們\"     \"管理\"     \"海裡\"     \"的魚\"     \"空中\"     \"的\"      \n",
              "[343] \"鳥\"       \"地上\"     \"的\"       \"牲畜\"     \"和\"       \"全地\"    \n",
              "[349] \"並\"       \"地上\"     \"所\"       \"爬\"       \"的\"       \"一切\"    \n",
              "[355] \"昆蟲\"     \"神\"       \"就\"       \"照著\"     \"自己\"     \"的\"      \n",
              "[361] \"形像\"     \"造人\"     \"乃是\"     \"照著\"     \"他\"       \"的\"      \n",
              "[367] \"形像\"     \"造男造\"   \"女\"       \"神\"       \"就\"       \"賜福\"    \n",
              "[373] \"給\"       \"他們\"     \"又\"       \"對\"       \"他們\"     \"說\"      \n",
              "[379] \"要\"       \"生養\"     \"眾多\"     \"遍滿\"     \"地面\"     \"治理\"    \n",
              "[385] \"這地\"     \"也\"       \"要\"       \"管理\"     \"海裡\"     \"的魚\"    \n",
              "[391] \"空中\"     \"的\"       \"鳥\"       \"和\"       \"地上\"     \"各樣\"    \n",
              "[397] \"行動\"     \"的\"       \"活物\"     \"神說\"     \"看\"       \"哪\"      \n",
              "[403] \"我將\"     \"遍地\"     \"上\"       \"一\"       \"切結\"     \"種子\"    \n",
              "[409] \"的\"       \"菜蔬\"     \"和\"       \"一切\"     \"樹上\"     \"所結\"    \n",
              "[415] \"有\"       \"核\"       \"的\"       \"果子\"     \"全\"       \"賜給\"    \n",
              "[421] \"你們\"     \"作\"       \"食物\"     \"至於\"     \"地上\"     \"的\"      \n",
              "[427] \"走獸\"     \"和\"       \"空中\"     \"的\"       \"飛鳥\"     \"並\"      \n",
              "[433] \"各樣\"     \"爬\"       \"在\"       \"地上\"     \"有\"       \"生命\"    \n",
              "[439] \"的\"       \"物\"       \"我將\"     \"青草\"     \"賜給\"     \"牠\"      \n",
              "[445] \"們\"       \"作\"       \"食物\"     \"事\"       \"就\"       \"這樣\"    \n",
              "[451] \"成\"       \"了\"       \"神看\"     \"著\"       \"一切\"     \"所造\"    \n",
              "[457] \"的\"       \"都\"       \"甚\"       \"好\"       \"有\"       \"晚上\"    \n",
              "[463] \"有\"       \"早晨\"     \"是\"       \"第六日\"  "
            ],
            "text/latex": "\\begin{enumerate*}\n\\item '起初'\n\\item '神'\n\\item '創造'\n\\item '天地'\n\\item '地是'\n\\item '空虛'\n\\item '混沌'\n\\item '淵面'\n\\item '黑暗'\n\\item '神的靈'\n\\item '運行'\n\\item '在'\n\\item '水面'\n\\item '上'\n\\item '神說'\n\\item '要有光'\n\\item '就'\n\\item '有'\n\\item '了'\n\\item '光'\n\\item '神看'\n\\item '光是'\n\\item '好'\n\\item '的'\n\\item '就'\n\\item '把'\n\\item '光暗'\n\\item '分開'\n\\item '了'\n\\item '神稱'\n\\item '光為'\n\\item '晝'\n\\item '稱暗'\n\\item '為'\n\\item '夜'\n\\item '有'\n\\item '晚上'\n\\item '有'\n\\item '早晨'\n\\item '這是頭'\n\\item '一日'\n\\item '神說'\n\\item '諸水'\n\\item '之間'\n\\item '要'\n\\item '有'\n\\item '空氣'\n\\item '將'\n\\item '水分'\n\\item '為'\n\\item '上下'\n\\item '神'\n\\item '就'\n\\item '造出'\n\\item '空氣'\n\\item '將'\n\\item '空氣'\n\\item '以下'\n\\item '的'\n\\item '水'\n\\item '空氣'\n\\item '以上'\n\\item '的'\n\\item '水'\n\\item '分開'\n\\item '了'\n\\item '事'\n\\item '就'\n\\item '這樣'\n\\item '成'\n\\item '了'\n\\item '神稱'\n\\item '空氣'\n\\item '為天'\n\\item '有'\n\\item '晚上'\n\\item '有'\n\\item '早晨'\n\\item '是'\n\\item '第二日'\n\\item '神說'\n\\item '天下'\n\\item '的'\n\\item '水要'\n\\item '聚'\n\\item '在'\n\\item '一處'\n\\item '使'\n\\item '旱地'\n\\item '露'\n\\item '出來'\n\\item '事'\n\\item '就'\n\\item '這樣'\n\\item '成'\n\\item '了'\n\\item '神稱'\n\\item '旱地'\n\\item '為'\n\\item '地'\n\\item '稱水'\n\\item '的'\n\\item '聚處'\n\\item '為海'\n\\item '神看'\n\\item '著'\n\\item '是'\n\\item '好'\n\\item '的'\n\\item '神說'\n\\item '地要'\n\\item '發生'\n\\item '青草'\n\\item '和'\n\\item '結'\n\\item '種子'\n\\item '的'\n\\item '菜蔬'\n\\item '並'\n\\item '結果'\n\\item '子'\n\\item '的'\n\\item '樹木'\n\\item '各從其類'\n\\item '果子'\n\\item '都'\n\\item '包著核'\n\\item '事'\n\\item '就'\n\\item '這樣'\n\\item '成'\n\\item '了'\n\\item '於是'\n\\item '地'\n\\item '發生'\n\\item '了'\n\\item '青草'\n\\item '和'\n\\item '結'\n\\item '種子'\n\\item '的'\n\\item '菜蔬'\n\\item '各從其類'\n\\item '並'\n\\item '結果'\n\\item '子'\n\\item '的'\n\\item '樹木'\n\\item '各從其類'\n\\item '果子'\n\\item '都'\n\\item '包著核'\n\\item '神看'\n\\item '著'\n\\item '是'\n\\item '好'\n\\item '的'\n\\item '有'\n\\item '晚上'\n\\item '有'\n\\item '早晨'\n\\item '是'\n\\item '第三日'\n\\item '神說'\n\\item '天上'\n\\item '要有光'\n\\item '體'\n\\item '可以'\n\\item '分'\n\\item '晝夜'\n\\item '作記號'\n\\item '節令'\n\\item '日子'\n\\item '年歲'\n\\item '並要'\n\\item '發光'\n\\item '在'\n\\item '天空'\n\\item '普照'\n\\item '在'\n\\item '地上'\n\\item '事'\n\\item '就'\n\\item '這樣'\n\\item '成'\n\\item '了'\n\\item '於是'\n\\item '神造'\n\\item '了'\n\\item '兩個'\n\\item '大光'\n\\item '大'\n\\item '的'\n\\item '管晝'\n\\item '小'\n\\item '的'\n\\item '管夜'\n\\item '又'\n\\item '造眾星'\n\\item '就'\n\\item ⋯\n\\item '賜福'\n\\item '給'\n\\item '這'\n\\item '一切'\n\\item '說'\n\\item '滋生'\n\\item '繁多'\n\\item '充滿'\n\\item '海中'\n\\item '的'\n\\item '水'\n\\item '雀鳥'\n\\item '也'\n\\item '要'\n\\item '多'\n\\item '生在地上'\n\\item '有'\n\\item '晚上'\n\\item '有'\n\\item '早晨'\n\\item '是'\n\\item '第五'\n\\item '日神'\n\\item '說'\n\\item '地要'\n\\item '生出'\n\\item '活物'\n\\item '來'\n\\item '各'\n\\item '從'\n\\item '其'\n\\item '犧牲'\n\\item '畜'\n\\item '昆蟲'\n\\item '野獸'\n\\item '各從其類'\n\\item '事'\n\\item '就'\n\\item '這樣'\n\\item '成'\n\\item '了'\n\\item '於是'\n\\item '神造'\n\\item '出'\n\\item '野獸'\n\\item '各從其類'\n\\item '牲畜'\n\\item '各從其類'\n\\item '地上'\n\\item '一切'\n\\item '昆蟲'\n\\item '各從其類'\n\\item '神看'\n\\item '著'\n\\item '是'\n\\item '好'\n\\item '的'\n\\item '神說'\n\\item '我們'\n\\item '要照'\n\\item '著'\n\\item '我們'\n\\item '的'\n\\item '形像'\n\\item '按著'\n\\item '我們'\n\\item '的'\n\\item '樣式'\n\\item '造人'\n\\item '使'\n\\item '他們'\n\\item '管理'\n\\item '海裡'\n\\item '的魚'\n\\item '空中'\n\\item '的'\n\\item '鳥'\n\\item '地上'\n\\item '的'\n\\item '牲畜'\n\\item '和'\n\\item '全地'\n\\item '並'\n\\item '地上'\n\\item '所'\n\\item '爬'\n\\item '的'\n\\item '一切'\n\\item '昆蟲'\n\\item '神'\n\\item '就'\n\\item '照著'\n\\item '自己'\n\\item '的'\n\\item '形像'\n\\item '造人'\n\\item '乃是'\n\\item '照著'\n\\item '他'\n\\item '的'\n\\item '形像'\n\\item '造男造'\n\\item '女'\n\\item '神'\n\\item '就'\n\\item '賜福'\n\\item '給'\n\\item '他們'\n\\item '又'\n\\item '對'\n\\item '他們'\n\\item '說'\n\\item '要'\n\\item '生養'\n\\item '眾多'\n\\item '遍滿'\n\\item '地面'\n\\item '治理'\n\\item '這地'\n\\item '也'\n\\item '要'\n\\item '管理'\n\\item '海裡'\n\\item '的魚'\n\\item '空中'\n\\item '的'\n\\item '鳥'\n\\item '和'\n\\item '地上'\n\\item '各樣'\n\\item '行動'\n\\item '的'\n\\item '活物'\n\\item '神說'\n\\item '看'\n\\item '哪'\n\\item '我將'\n\\item '遍地'\n\\item '上'\n\\item '一'\n\\item '切結'\n\\item '種子'\n\\item '的'\n\\item '菜蔬'\n\\item '和'\n\\item '一切'\n\\item '樹上'\n\\item '所結'\n\\item '有'\n\\item '核'\n\\item '的'\n\\item '果子'\n\\item '全'\n\\item '賜給'\n\\item '你們'\n\\item '作'\n\\item '食物'\n\\item '至於'\n\\item '地上'\n\\item '的'\n\\item '走獸'\n\\item '和'\n\\item '空中'\n\\item '的'\n\\item '飛鳥'\n\\item '並'\n\\item '各樣'\n\\item '爬'\n\\item '在'\n\\item '地上'\n\\item '有'\n\\item '生命'\n\\item '的'\n\\item '物'\n\\item '我將'\n\\item '青草'\n\\item '賜給'\n\\item '牠'\n\\item '們'\n\\item '作'\n\\item '食物'\n\\item '事'\n\\item '就'\n\\item '這樣'\n\\item '成'\n\\item '了'\n\\item '神看'\n\\item '著'\n\\item '一切'\n\\item '所造'\n\\item '的'\n\\item '都'\n\\item '甚'\n\\item '好'\n\\item '有'\n\\item '晚上'\n\\item '有'\n\\item '早晨'\n\\item '是'\n\\item '第六日'\n\\end{enumerate*}\n",
            "text/markdown": "1. '起初'\n2. '神'\n3. '創造'\n4. '天地'\n5. '地是'\n6. '空虛'\n7. '混沌'\n8. '淵面'\n9. '黑暗'\n10. '神的靈'\n11. '運行'\n12. '在'\n13. '水面'\n14. '上'\n15. '神說'\n16. '要有光'\n17. '就'\n18. '有'\n19. '了'\n20. '光'\n21. '神看'\n22. '光是'\n23. '好'\n24. '的'\n25. '就'\n26. '把'\n27. '光暗'\n28. '分開'\n29. '了'\n30. '神稱'\n31. '光為'\n32. '晝'\n33. '稱暗'\n34. '為'\n35. '夜'\n36. '有'\n37. '晚上'\n38. '有'\n39. '早晨'\n40. '這是頭'\n41. '一日'\n42. '神說'\n43. '諸水'\n44. '之間'\n45. '要'\n46. '有'\n47. '空氣'\n48. '將'\n49. '水分'\n50. '為'\n51. '上下'\n52. '神'\n53. '就'\n54. '造出'\n55. '空氣'\n56. '將'\n57. '空氣'\n58. '以下'\n59. '的'\n60. '水'\n61. '空氣'\n62. '以上'\n63. '的'\n64. '水'\n65. '分開'\n66. '了'\n67. '事'\n68. '就'\n69. '這樣'\n70. '成'\n71. '了'\n72. '神稱'\n73. '空氣'\n74. '為天'\n75. '有'\n76. '晚上'\n77. '有'\n78. '早晨'\n79. '是'\n80. '第二日'\n81. '神說'\n82. '天下'\n83. '的'\n84. '水要'\n85. '聚'\n86. '在'\n87. '一處'\n88. '使'\n89. '旱地'\n90. '露'\n91. '出來'\n92. '事'\n93. '就'\n94. '這樣'\n95. '成'\n96. '了'\n97. '神稱'\n98. '旱地'\n99. '為'\n100. '地'\n101. '稱水'\n102. '的'\n103. '聚處'\n104. '為海'\n105. '神看'\n106. '著'\n107. '是'\n108. '好'\n109. '的'\n110. '神說'\n111. '地要'\n112. '發生'\n113. '青草'\n114. '和'\n115. '結'\n116. '種子'\n117. '的'\n118. '菜蔬'\n119. '並'\n120. '結果'\n121. '子'\n122. '的'\n123. '樹木'\n124. '各從其類'\n125. '果子'\n126. '都'\n127. '包著核'\n128. '事'\n129. '就'\n130. '這樣'\n131. '成'\n132. '了'\n133. '於是'\n134. '地'\n135. '發生'\n136. '了'\n137. '青草'\n138. '和'\n139. '結'\n140. '種子'\n141. '的'\n142. '菜蔬'\n143. '各從其類'\n144. '並'\n145. '結果'\n146. '子'\n147. '的'\n148. '樹木'\n149. '各從其類'\n150. '果子'\n151. '都'\n152. '包著核'\n153. '神看'\n154. '著'\n155. '是'\n156. '好'\n157. '的'\n158. '有'\n159. '晚上'\n160. '有'\n161. '早晨'\n162. '是'\n163. '第三日'\n164. '神說'\n165. '天上'\n166. '要有光'\n167. '體'\n168. '可以'\n169. '分'\n170. '晝夜'\n171. '作記號'\n172. '節令'\n173. '日子'\n174. '年歲'\n175. '並要'\n176. '發光'\n177. '在'\n178. '天空'\n179. '普照'\n180. '在'\n181. '地上'\n182. '事'\n183. '就'\n184. '這樣'\n185. '成'\n186. '了'\n187. '於是'\n188. '神造'\n189. '了'\n190. '兩個'\n191. '大光'\n192. '大'\n193. '的'\n194. '管晝'\n195. '小'\n196. '的'\n197. '管夜'\n198. '又'\n199. '造眾星'\n200. '就'\n201. ⋯\n202. '賜福'\n203. '給'\n204. '這'\n205. '一切'\n206. '說'\n207. '滋生'\n208. '繁多'\n209. '充滿'\n210. '海中'\n211. '的'\n212. '水'\n213. '雀鳥'\n214. '也'\n215. '要'\n216. '多'\n217. '生在地上'\n218. '有'\n219. '晚上'\n220. '有'\n221. '早晨'\n222. '是'\n223. '第五'\n224. '日神'\n225. '說'\n226. '地要'\n227. '生出'\n228. '活物'\n229. '來'\n230. '各'\n231. '從'\n232. '其'\n233. '犧牲'\n234. '畜'\n235. '昆蟲'\n236. '野獸'\n237. '各從其類'\n238. '事'\n239. '就'\n240. '這樣'\n241. '成'\n242. '了'\n243. '於是'\n244. '神造'\n245. '出'\n246. '野獸'\n247. '各從其類'\n248. '牲畜'\n249. '各從其類'\n250. '地上'\n251. '一切'\n252. '昆蟲'\n253. '各從其類'\n254. '神看'\n255. '著'\n256. '是'\n257. '好'\n258. '的'\n259. '神說'\n260. '我們'\n261. '要照'\n262. '著'\n263. '我們'\n264. '的'\n265. '形像'\n266. '按著'\n267. '我們'\n268. '的'\n269. '樣式'\n270. '造人'\n271. '使'\n272. '他們'\n273. '管理'\n274. '海裡'\n275. '的魚'\n276. '空中'\n277. '的'\n278. '鳥'\n279. '地上'\n280. '的'\n281. '牲畜'\n282. '和'\n283. '全地'\n284. '並'\n285. '地上'\n286. '所'\n287. '爬'\n288. '的'\n289. '一切'\n290. '昆蟲'\n291. '神'\n292. '就'\n293. '照著'\n294. '自己'\n295. '的'\n296. '形像'\n297. '造人'\n298. '乃是'\n299. '照著'\n300. '他'\n301. '的'\n302. '形像'\n303. '造男造'\n304. '女'\n305. '神'\n306. '就'\n307. '賜福'\n308. '給'\n309. '他們'\n310. '又'\n311. '對'\n312. '他們'\n313. '說'\n314. '要'\n315. '生養'\n316. '眾多'\n317. '遍滿'\n318. '地面'\n319. '治理'\n320. '這地'\n321. '也'\n322. '要'\n323. '管理'\n324. '海裡'\n325. '的魚'\n326. '空中'\n327. '的'\n328. '鳥'\n329. '和'\n330. '地上'\n331. '各樣'\n332. '行動'\n333. '的'\n334. '活物'\n335. '神說'\n336. '看'\n337. '哪'\n338. '我將'\n339. '遍地'\n340. '上'\n341. '一'\n342. '切結'\n343. '種子'\n344. '的'\n345. '菜蔬'\n346. '和'\n347. '一切'\n348. '樹上'\n349. '所結'\n350. '有'\n351. '核'\n352. '的'\n353. '果子'\n354. '全'\n355. '賜給'\n356. '你們'\n357. '作'\n358. '食物'\n359. '至於'\n360. '地上'\n361. '的'\n362. '走獸'\n363. '和'\n364. '空中'\n365. '的'\n366. '飛鳥'\n367. '並'\n368. '各樣'\n369. '爬'\n370. '在'\n371. '地上'\n372. '有'\n373. '生命'\n374. '的'\n375. '物'\n376. '我將'\n377. '青草'\n378. '賜給'\n379. '牠'\n380. '們'\n381. '作'\n382. '食物'\n383. '事'\n384. '就'\n385. '這樣'\n386. '成'\n387. '了'\n388. '神看'\n389. '著'\n390. '一切'\n391. '所造'\n392. '的'\n393. '都'\n394. '甚'\n395. '好'\n396. '有'\n397. '晚上'\n398. '有'\n399. '早晨'\n400. '是'\n401. '第六日'\n\n\n",
            "text/html": [
              "<style>\n",
              ".list-inline {list-style: none; margin:0; padding: 0}\n",
              ".list-inline>li {display: inline-block}\n",
              ".list-inline>li:not(:last-child)::after {content: \"\\00b7\"; padding: 0 .5ex}\n",
              "</style>\n",
              "<ol class=list-inline><li>'起初'</li><li>'神'</li><li>'創造'</li><li>'天地'</li><li>'地是'</li><li>'空虛'</li><li>'混沌'</li><li>'淵面'</li><li>'黑暗'</li><li>'神的靈'</li><li>'運行'</li><li>'在'</li><li>'水面'</li><li>'上'</li><li>'神說'</li><li>'要有光'</li><li>'就'</li><li>'有'</li><li>'了'</li><li>'光'</li><li>'神看'</li><li>'光是'</li><li>'好'</li><li>'的'</li><li>'就'</li><li>'把'</li><li>'光暗'</li><li>'分開'</li><li>'了'</li><li>'神稱'</li><li>'光為'</li><li>'晝'</li><li>'稱暗'</li><li>'為'</li><li>'夜'</li><li>'有'</li><li>'晚上'</li><li>'有'</li><li>'早晨'</li><li>'這是頭'</li><li>'一日'</li><li>'神說'</li><li>'諸水'</li><li>'之間'</li><li>'要'</li><li>'有'</li><li>'空氣'</li><li>'將'</li><li>'水分'</li><li>'為'</li><li>'上下'</li><li>'神'</li><li>'就'</li><li>'造出'</li><li>'空氣'</li><li>'將'</li><li>'空氣'</li><li>'以下'</li><li>'的'</li><li>'水'</li><li>'空氣'</li><li>'以上'</li><li>'的'</li><li>'水'</li><li>'分開'</li><li>'了'</li><li>'事'</li><li>'就'</li><li>'這樣'</li><li>'成'</li><li>'了'</li><li>'神稱'</li><li>'空氣'</li><li>'為天'</li><li>'有'</li><li>'晚上'</li><li>'有'</li><li>'早晨'</li><li>'是'</li><li>'第二日'</li><li>'神說'</li><li>'天下'</li><li>'的'</li><li>'水要'</li><li>'聚'</li><li>'在'</li><li>'一處'</li><li>'使'</li><li>'旱地'</li><li>'露'</li><li>'出來'</li><li>'事'</li><li>'就'</li><li>'這樣'</li><li>'成'</li><li>'了'</li><li>'神稱'</li><li>'旱地'</li><li>'為'</li><li>'地'</li><li>'稱水'</li><li>'的'</li><li>'聚處'</li><li>'為海'</li><li>'神看'</li><li>'著'</li><li>'是'</li><li>'好'</li><li>'的'</li><li>'神說'</li><li>'地要'</li><li>'發生'</li><li>'青草'</li><li>'和'</li><li>'結'</li><li>'種子'</li><li>'的'</li><li>'菜蔬'</li><li>'並'</li><li>'結果'</li><li>'子'</li><li>'的'</li><li>'樹木'</li><li>'各從其類'</li><li>'果子'</li><li>'都'</li><li>'包著核'</li><li>'事'</li><li>'就'</li><li>'這樣'</li><li>'成'</li><li>'了'</li><li>'於是'</li><li>'地'</li><li>'發生'</li><li>'了'</li><li>'青草'</li><li>'和'</li><li>'結'</li><li>'種子'</li><li>'的'</li><li>'菜蔬'</li><li>'各從其類'</li><li>'並'</li><li>'結果'</li><li>'子'</li><li>'的'</li><li>'樹木'</li><li>'各從其類'</li><li>'果子'</li><li>'都'</li><li>'包著核'</li><li>'神看'</li><li>'著'</li><li>'是'</li><li>'好'</li><li>'的'</li><li>'有'</li><li>'晚上'</li><li>'有'</li><li>'早晨'</li><li>'是'</li><li>'第三日'</li><li>'神說'</li><li>'天上'</li><li>'要有光'</li><li>'體'</li><li>'可以'</li><li>'分'</li><li>'晝夜'</li><li>'作記號'</li><li>'節令'</li><li>'日子'</li><li>'年歲'</li><li>'並要'</li><li>'發光'</li><li>'在'</li><li>'天空'</li><li>'普照'</li><li>'在'</li><li>'地上'</li><li>'事'</li><li>'就'</li><li>'這樣'</li><li>'成'</li><li>'了'</li><li>'於是'</li><li>'神造'</li><li>'了'</li><li>'兩個'</li><li>'大光'</li><li>'大'</li><li>'的'</li><li>'管晝'</li><li>'小'</li><li>'的'</li><li>'管夜'</li><li>'又'</li><li>'造眾星'</li><li>'就'</li><li>⋯</li><li>'賜福'</li><li>'給'</li><li>'這'</li><li>'一切'</li><li>'說'</li><li>'滋生'</li><li>'繁多'</li><li>'充滿'</li><li>'海中'</li><li>'的'</li><li>'水'</li><li>'雀鳥'</li><li>'也'</li><li>'要'</li><li>'多'</li><li>'生在地上'</li><li>'有'</li><li>'晚上'</li><li>'有'</li><li>'早晨'</li><li>'是'</li><li>'第五'</li><li>'日神'</li><li>'說'</li><li>'地要'</li><li>'生出'</li><li>'活物'</li><li>'來'</li><li>'各'</li><li>'從'</li><li>'其'</li><li>'犧牲'</li><li>'畜'</li><li>'昆蟲'</li><li>'野獸'</li><li>'各從其類'</li><li>'事'</li><li>'就'</li><li>'這樣'</li><li>'成'</li><li>'了'</li><li>'於是'</li><li>'神造'</li><li>'出'</li><li>'野獸'</li><li>'各從其類'</li><li>'牲畜'</li><li>'各從其類'</li><li>'地上'</li><li>'一切'</li><li>'昆蟲'</li><li>'各從其類'</li><li>'神看'</li><li>'著'</li><li>'是'</li><li>'好'</li><li>'的'</li><li>'神說'</li><li>'我們'</li><li>'要照'</li><li>'著'</li><li>'我們'</li><li>'的'</li><li>'形像'</li><li>'按著'</li><li>'我們'</li><li>'的'</li><li>'樣式'</li><li>'造人'</li><li>'使'</li><li>'他們'</li><li>'管理'</li><li>'海裡'</li><li>'的魚'</li><li>'空中'</li><li>'的'</li><li>'鳥'</li><li>'地上'</li><li>'的'</li><li>'牲畜'</li><li>'和'</li><li>'全地'</li><li>'並'</li><li>'地上'</li><li>'所'</li><li>'爬'</li><li>'的'</li><li>'一切'</li><li>'昆蟲'</li><li>'神'</li><li>'就'</li><li>'照著'</li><li>'自己'</li><li>'的'</li><li>'形像'</li><li>'造人'</li><li>'乃是'</li><li>'照著'</li><li>'他'</li><li>'的'</li><li>'形像'</li><li>'造男造'</li><li>'女'</li><li>'神'</li><li>'就'</li><li>'賜福'</li><li>'給'</li><li>'他們'</li><li>'又'</li><li>'對'</li><li>'他們'</li><li>'說'</li><li>'要'</li><li>'生養'</li><li>'眾多'</li><li>'遍滿'</li><li>'地面'</li><li>'治理'</li><li>'這地'</li><li>'也'</li><li>'要'</li><li>'管理'</li><li>'海裡'</li><li>'的魚'</li><li>'空中'</li><li>'的'</li><li>'鳥'</li><li>'和'</li><li>'地上'</li><li>'各樣'</li><li>'行動'</li><li>'的'</li><li>'活物'</li><li>'神說'</li><li>'看'</li><li>'哪'</li><li>'我將'</li><li>'遍地'</li><li>'上'</li><li>'一'</li><li>'切結'</li><li>'種子'</li><li>'的'</li><li>'菜蔬'</li><li>'和'</li><li>'一切'</li><li>'樹上'</li><li>'所結'</li><li>'有'</li><li>'核'</li><li>'的'</li><li>'果子'</li><li>'全'</li><li>'賜給'</li><li>'你們'</li><li>'作'</li><li>'食物'</li><li>'至於'</li><li>'地上'</li><li>'的'</li><li>'走獸'</li><li>'和'</li><li>'空中'</li><li>'的'</li><li>'飛鳥'</li><li>'並'</li><li>'各樣'</li><li>'爬'</li><li>'在'</li><li>'地上'</li><li>'有'</li><li>'生命'</li><li>'的'</li><li>'物'</li><li>'我將'</li><li>'青草'</li><li>'賜給'</li><li>'牠'</li><li>'們'</li><li>'作'</li><li>'食物'</li><li>'事'</li><li>'就'</li><li>'這樣'</li><li>'成'</li><li>'了'</li><li>'神看'</li><li>'著'</li><li>'一切'</li><li>'所造'</li><li>'的'</li><li>'都'</li><li>'甚'</li><li>'好'</li><li>'有'</li><li>'晚上'</li><li>'有'</li><li>'早晨'</li><li>'是'</li><li>'第六日'</li></ol>\n"
            ]
          },
          "metadata": {
            "tags": []
          }
        }
      ]
    },
    {
      "cell_type": "code",
      "metadata": {
        "id": "_dImKCUDhmHN",
        "outputId": "ffb6af00-3bb3-4ce6-c3c8-d4485dd157a6",
        "colab": {
          "base_uri": "https://localhost:8080/",
          "height": 454
        }
      },
      "source": [
        "content <-str_remove_all(content,\"[0-9a-zA-z]+?\")\n",
        "cutter[content]"
      ],
      "execution_count": 36,
      "outputs": [
        {
          "output_type": "display_data",
          "data": {
            "text/plain": [
              "  [1] \"起初\"     \"神\"       \"創造\"     \"天地\"     \"地是\"     \"空虛\"    \n",
              "  [7] \"混沌\"     \"淵面\"     \"黑暗\"     \"神的靈\"   \"運行\"     \"在\"      \n",
              " [13] \"水面\"     \"上\"       \"神說\"     \"要有光\"   \"就\"       \"有\"      \n",
              " [19] \"了\"       \"光\"       \"神看\"     \"光是\"     \"好\"       \"的\"      \n",
              " [25] \"就\"       \"把\"       \"光暗\"     \"分開\"     \"了\"       \"神稱\"    \n",
              " [31] \"光為\"     \"晝\"       \"稱暗\"     \"為\"       \"夜\"       \"有\"      \n",
              " [37] \"晚上\"     \"有\"       \"早晨\"     \"這是頭\"   \"一日\"     \"神說\"    \n",
              " [43] \"諸水\"     \"之間\"     \"要\"       \"有\"       \"空氣\"     \"將\"      \n",
              " [49] \"水分\"     \"為\"       \"上下\"     \"神\"       \"就\"       \"造出\"    \n",
              " [55] \"空氣\"     \"將\"       \"空氣\"     \"以下\"     \"的\"       \"水\"      \n",
              " [61] \"空氣\"     \"以上\"     \"的\"       \"水\"       \"分開\"     \"了\"      \n",
              " [67] \"事\"       \"就\"       \"這樣\"     \"成\"       \"了\"       \"神稱\"    \n",
              " [73] \"空氣\"     \"為天\"     \"有\"       \"晚上\"     \"有\"       \"早晨\"    \n",
              " [79] \"是\"       \"第二日\"   \"神說\"     \"天下\"     \"的\"       \"水要\"    \n",
              " [85] \"聚\"       \"在\"       \"一處\"     \"使\"       \"旱地\"     \"露\"      \n",
              " [91] \"出來\"     \"事\"       \"就\"       \"這樣\"     \"成\"       \"了\"      \n",
              " [97] \"神稱\"     \"旱地\"     \"為\"       \"地\"       \"稱水\"     \"的\"      \n",
              "[103] \"聚處\"     \"為海\"     \"神看\"     \"著\"       \"是\"       \"好\"      \n",
              "[109] \"的\"       \"神說\"     \"地要\"     \"發生\"     \"青草\"     \"和\"      \n",
              "[115] \"結\"       \"種子\"     \"的\"       \"菜蔬\"     \"並\"       \"結果\"    \n",
              "[121] \"子\"       \"的\"       \"樹木\"     \"各從其類\" \"果子\"     \"都\"      \n",
              "[127] \"包著核\"   \"事\"       \"就\"       \"這樣\"     \"成\"       \"了\"      \n",
              "[133] \"於是\"     \"地\"       \"發生\"     \"了\"       \"青草\"     \"和\"      \n",
              "[139] \"結\"       \"種子\"     \"的\"       \"菜蔬\"     \"各從其類\" \"並\"      \n",
              "[145] \"結果\"     \"子\"       \"的\"       \"樹木\"     \"各從其類\" \"果子\"    \n",
              "[151] \"都\"       \"包著核\"   \"神看\"     \"著\"       \"是\"       \"好\"      \n",
              "[157] \"的\"       \"有\"       \"晚上\"     \"有\"       \"早晨\"     \"是\"      \n",
              "[163] \"第三日\"   \"神說\"     \"天上\"     \"要有光\"   \"體\"       \"可以\"    \n",
              "[169] \"分\"       \"晝夜\"     \"作記號\"   \"節令\"     \"日子\"     \"年歲\"    \n",
              "[175] \"並要\"     \"發光\"     \"在\"       \"天空\"     \"普照\"     \"在\"      \n",
              "[181] \"地上\"     \"事\"       \"就\"       \"這樣\"     \"成\"       \"了\"      \n",
              "[187] \"於是\"     \"神造\"     \"了\"       \"兩個\"     \"大光\"     \"大\"      \n",
              "[193] \"的\"       \"管晝\"     \"小\"       \"的\"       \"管夜\"     \"又\"      \n",
              "[199] \"造眾星\"   \"就\"       \"把\"       \"這些\"     \"光\"       \"擺列\"    \n",
              "[205] \"在\"       \"天空\"     \"普照\"     \"在\"       \"地上\"     \"管理\"    \n",
              "[211] \"晝夜\"     \"分別\"     \"明暗\"     \"神看\"     \"著\"       \"是\"      \n",
              "[217] \"好\"       \"的\"       \"有\"       \"晚上\"     \"有\"       \"早晨\"    \n",
              "[223] \"是\"       \"第四日\"   \"神說\"     \"水要\"     \"多多\"     \"滋生\"    \n",
              "[229] \"有\"       \"生命\"     \"的\"       \"物\"       \"要\"       \"有\"      \n",
              "[235] \"雀鳥\"     \"飛在\"     \"地面\"     \"以上\"     \"天空\"     \"之中\"    \n",
              "[241] \"神\"       \"就\"       \"造出\"     \"大魚\"     \"和\"       \"水中\"    \n",
              "[247] \"所\"       \"滋生\"     \"各樣\"     \"有\"       \"生命\"     \"的\"      \n",
              "[253] \"動物\"     \"各從其類\" \"又\"       \"造出\"     \"各樣\"     \"飛鳥\"    \n",
              "[259] \"各從其類\" \"神看\"     \"著\"       \"是\"       \"好\"       \"的\"      \n",
              "[265] \"神\"       \"就\"       \"賜福\"     \"給\"       \"這\"       \"一切\"    \n",
              "[271] \"說\"       \"滋生\"     \"繁多\"     \"充滿\"     \"海中\"     \"的\"      \n",
              "[277] \"水\"       \"雀鳥\"     \"也\"       \"要\"       \"多\"       \"生在地上\"\n",
              "[283] \"有\"       \"晚上\"     \"有\"       \"早晨\"     \"是\"       \"第五\"    \n",
              "[289] \"日神\"     \"說\"       \"地要\"     \"生出\"     \"活物\"     \"來\"      \n",
              "[295] \"各\"       \"從\"       \"其\"       \"犧牲\"     \"畜\"       \"昆蟲\"    \n",
              "[301] \"野獸\"     \"各從其類\" \"事\"       \"就\"       \"這樣\"     \"成\"      \n",
              "[307] \"了\"       \"於是\"     \"神造\"     \"出\"       \"野獸\"     \"各從其類\"\n",
              "[313] \"牲畜\"     \"各從其類\" \"地上\"     \"一切\"     \"昆蟲\"     \"各從其類\"\n",
              "[319] \"神看\"     \"著\"       \"是\"       \"好\"       \"的\"       \"神說\"    \n",
              "[325] \"我們\"     \"要照\"     \"著\"       \"我們\"     \"的\"       \"形像\"    \n",
              "[331] \"按著\"     \"我們\"     \"的\"       \"樣式\"     \"造人\"     \"使\"      \n",
              "[337] \"他們\"     \"管理\"     \"海裡\"     \"的魚\"     \"空中\"     \"的\"      \n",
              "[343] \"鳥\"       \"地上\"     \"的\"       \"牲畜\"     \"和\"       \"全地\"    \n",
              "[349] \"並\"       \"地上\"     \"所\"       \"爬\"       \"的\"       \"一切\"    \n",
              "[355] \"昆蟲\"     \"神\"       \"就\"       \"照著\"     \"自己\"     \"的\"      \n",
              "[361] \"形像\"     \"造人\"     \"乃是\"     \"照著\"     \"他\"       \"的\"      \n",
              "[367] \"形像\"     \"造男造\"   \"女\"       \"神\"       \"就\"       \"賜福\"    \n",
              "[373] \"給\"       \"他們\"     \"又\"       \"對\"       \"他們\"     \"說\"      \n",
              "[379] \"要\"       \"生養\"     \"眾多\"     \"遍滿\"     \"地面\"     \"治理\"    \n",
              "[385] \"這地\"     \"也\"       \"要\"       \"管理\"     \"海裡\"     \"的魚\"    \n",
              "[391] \"空中\"     \"的\"       \"鳥\"       \"和\"       \"地上\"     \"各樣\"    \n",
              "[397] \"行動\"     \"的\"       \"活物\"     \"神說\"     \"看\"       \"哪\"      \n",
              "[403] \"我將\"     \"遍地\"     \"上\"       \"一\"       \"切結\"     \"種子\"    \n",
              "[409] \"的\"       \"菜蔬\"     \"和\"       \"一切\"     \"樹上\"     \"所結\"    \n",
              "[415] \"有\"       \"核\"       \"的\"       \"果子\"     \"全\"       \"賜給\"    \n",
              "[421] \"你們\"     \"作\"       \"食物\"     \"至於\"     \"地上\"     \"的\"      \n",
              "[427] \"走獸\"     \"和\"       \"空中\"     \"的\"       \"飛鳥\"     \"並\"      \n",
              "[433] \"各樣\"     \"爬\"       \"在\"       \"地上\"     \"有\"       \"生命\"    \n",
              "[439] \"的\"       \"物\"       \"我將\"     \"青草\"     \"賜給\"     \"牠\"      \n",
              "[445] \"們\"       \"作\"       \"食物\"     \"事\"       \"就\"       \"這樣\"    \n",
              "[451] \"成\"       \"了\"       \"神看\"     \"著\"       \"一切\"     \"所造\"    \n",
              "[457] \"的\"       \"都\"       \"甚\"       \"好\"       \"有\"       \"晚上\"    \n",
              "[463] \"有\"       \"早晨\"     \"是\"       \"第六日\"  "
            ],
            "text/latex": "\\begin{enumerate*}\n\\item '起初'\n\\item '神'\n\\item '創造'\n\\item '天地'\n\\item '地是'\n\\item '空虛'\n\\item '混沌'\n\\item '淵面'\n\\item '黑暗'\n\\item '神的靈'\n\\item '運行'\n\\item '在'\n\\item '水面'\n\\item '上'\n\\item '神說'\n\\item '要有光'\n\\item '就'\n\\item '有'\n\\item '了'\n\\item '光'\n\\item '神看'\n\\item '光是'\n\\item '好'\n\\item '的'\n\\item '就'\n\\item '把'\n\\item '光暗'\n\\item '分開'\n\\item '了'\n\\item '神稱'\n\\item '光為'\n\\item '晝'\n\\item '稱暗'\n\\item '為'\n\\item '夜'\n\\item '有'\n\\item '晚上'\n\\item '有'\n\\item '早晨'\n\\item '這是頭'\n\\item '一日'\n\\item '神說'\n\\item '諸水'\n\\item '之間'\n\\item '要'\n\\item '有'\n\\item '空氣'\n\\item '將'\n\\item '水分'\n\\item '為'\n\\item '上下'\n\\item '神'\n\\item '就'\n\\item '造出'\n\\item '空氣'\n\\item '將'\n\\item '空氣'\n\\item '以下'\n\\item '的'\n\\item '水'\n\\item '空氣'\n\\item '以上'\n\\item '的'\n\\item '水'\n\\item '分開'\n\\item '了'\n\\item '事'\n\\item '就'\n\\item '這樣'\n\\item '成'\n\\item '了'\n\\item '神稱'\n\\item '空氣'\n\\item '為天'\n\\item '有'\n\\item '晚上'\n\\item '有'\n\\item '早晨'\n\\item '是'\n\\item '第二日'\n\\item '神說'\n\\item '天下'\n\\item '的'\n\\item '水要'\n\\item '聚'\n\\item '在'\n\\item '一處'\n\\item '使'\n\\item '旱地'\n\\item '露'\n\\item '出來'\n\\item '事'\n\\item '就'\n\\item '這樣'\n\\item '成'\n\\item '了'\n\\item '神稱'\n\\item '旱地'\n\\item '為'\n\\item '地'\n\\item '稱水'\n\\item '的'\n\\item '聚處'\n\\item '為海'\n\\item '神看'\n\\item '著'\n\\item '是'\n\\item '好'\n\\item '的'\n\\item '神說'\n\\item '地要'\n\\item '發生'\n\\item '青草'\n\\item '和'\n\\item '結'\n\\item '種子'\n\\item '的'\n\\item '菜蔬'\n\\item '並'\n\\item '結果'\n\\item '子'\n\\item '的'\n\\item '樹木'\n\\item '各從其類'\n\\item '果子'\n\\item '都'\n\\item '包著核'\n\\item '事'\n\\item '就'\n\\item '這樣'\n\\item '成'\n\\item '了'\n\\item '於是'\n\\item '地'\n\\item '發生'\n\\item '了'\n\\item '青草'\n\\item '和'\n\\item '結'\n\\item '種子'\n\\item '的'\n\\item '菜蔬'\n\\item '各從其類'\n\\item '並'\n\\item '結果'\n\\item '子'\n\\item '的'\n\\item '樹木'\n\\item '各從其類'\n\\item '果子'\n\\item '都'\n\\item '包著核'\n\\item '神看'\n\\item '著'\n\\item '是'\n\\item '好'\n\\item '的'\n\\item '有'\n\\item '晚上'\n\\item '有'\n\\item '早晨'\n\\item '是'\n\\item '第三日'\n\\item '神說'\n\\item '天上'\n\\item '要有光'\n\\item '體'\n\\item '可以'\n\\item '分'\n\\item '晝夜'\n\\item '作記號'\n\\item '節令'\n\\item '日子'\n\\item '年歲'\n\\item '並要'\n\\item '發光'\n\\item '在'\n\\item '天空'\n\\item '普照'\n\\item '在'\n\\item '地上'\n\\item '事'\n\\item '就'\n\\item '這樣'\n\\item '成'\n\\item '了'\n\\item '於是'\n\\item '神造'\n\\item '了'\n\\item '兩個'\n\\item '大光'\n\\item '大'\n\\item '的'\n\\item '管晝'\n\\item '小'\n\\item '的'\n\\item '管夜'\n\\item '又'\n\\item '造眾星'\n\\item '就'\n\\item ⋯\n\\item '賜福'\n\\item '給'\n\\item '這'\n\\item '一切'\n\\item '說'\n\\item '滋生'\n\\item '繁多'\n\\item '充滿'\n\\item '海中'\n\\item '的'\n\\item '水'\n\\item '雀鳥'\n\\item '也'\n\\item '要'\n\\item '多'\n\\item '生在地上'\n\\item '有'\n\\item '晚上'\n\\item '有'\n\\item '早晨'\n\\item '是'\n\\item '第五'\n\\item '日神'\n\\item '說'\n\\item '地要'\n\\item '生出'\n\\item '活物'\n\\item '來'\n\\item '各'\n\\item '從'\n\\item '其'\n\\item '犧牲'\n\\item '畜'\n\\item '昆蟲'\n\\item '野獸'\n\\item '各從其類'\n\\item '事'\n\\item '就'\n\\item '這樣'\n\\item '成'\n\\item '了'\n\\item '於是'\n\\item '神造'\n\\item '出'\n\\item '野獸'\n\\item '各從其類'\n\\item '牲畜'\n\\item '各從其類'\n\\item '地上'\n\\item '一切'\n\\item '昆蟲'\n\\item '各從其類'\n\\item '神看'\n\\item '著'\n\\item '是'\n\\item '好'\n\\item '的'\n\\item '神說'\n\\item '我們'\n\\item '要照'\n\\item '著'\n\\item '我們'\n\\item '的'\n\\item '形像'\n\\item '按著'\n\\item '我們'\n\\item '的'\n\\item '樣式'\n\\item '造人'\n\\item '使'\n\\item '他們'\n\\item '管理'\n\\item '海裡'\n\\item '的魚'\n\\item '空中'\n\\item '的'\n\\item '鳥'\n\\item '地上'\n\\item '的'\n\\item '牲畜'\n\\item '和'\n\\item '全地'\n\\item '並'\n\\item '地上'\n\\item '所'\n\\item '爬'\n\\item '的'\n\\item '一切'\n\\item '昆蟲'\n\\item '神'\n\\item '就'\n\\item '照著'\n\\item '自己'\n\\item '的'\n\\item '形像'\n\\item '造人'\n\\item '乃是'\n\\item '照著'\n\\item '他'\n\\item '的'\n\\item '形像'\n\\item '造男造'\n\\item '女'\n\\item '神'\n\\item '就'\n\\item '賜福'\n\\item '給'\n\\item '他們'\n\\item '又'\n\\item '對'\n\\item '他們'\n\\item '說'\n\\item '要'\n\\item '生養'\n\\item '眾多'\n\\item '遍滿'\n\\item '地面'\n\\item '治理'\n\\item '這地'\n\\item '也'\n\\item '要'\n\\item '管理'\n\\item '海裡'\n\\item '的魚'\n\\item '空中'\n\\item '的'\n\\item '鳥'\n\\item '和'\n\\item '地上'\n\\item '各樣'\n\\item '行動'\n\\item '的'\n\\item '活物'\n\\item '神說'\n\\item '看'\n\\item '哪'\n\\item '我將'\n\\item '遍地'\n\\item '上'\n\\item '一'\n\\item '切結'\n\\item '種子'\n\\item '的'\n\\item '菜蔬'\n\\item '和'\n\\item '一切'\n\\item '樹上'\n\\item '所結'\n\\item '有'\n\\item '核'\n\\item '的'\n\\item '果子'\n\\item '全'\n\\item '賜給'\n\\item '你們'\n\\item '作'\n\\item '食物'\n\\item '至於'\n\\item '地上'\n\\item '的'\n\\item '走獸'\n\\item '和'\n\\item '空中'\n\\item '的'\n\\item '飛鳥'\n\\item '並'\n\\item '各樣'\n\\item '爬'\n\\item '在'\n\\item '地上'\n\\item '有'\n\\item '生命'\n\\item '的'\n\\item '物'\n\\item '我將'\n\\item '青草'\n\\item '賜給'\n\\item '牠'\n\\item '們'\n\\item '作'\n\\item '食物'\n\\item '事'\n\\item '就'\n\\item '這樣'\n\\item '成'\n\\item '了'\n\\item '神看'\n\\item '著'\n\\item '一切'\n\\item '所造'\n\\item '的'\n\\item '都'\n\\item '甚'\n\\item '好'\n\\item '有'\n\\item '晚上'\n\\item '有'\n\\item '早晨'\n\\item '是'\n\\item '第六日'\n\\end{enumerate*}\n",
            "text/markdown": "1. '起初'\n2. '神'\n3. '創造'\n4. '天地'\n5. '地是'\n6. '空虛'\n7. '混沌'\n8. '淵面'\n9. '黑暗'\n10. '神的靈'\n11. '運行'\n12. '在'\n13. '水面'\n14. '上'\n15. '神說'\n16. '要有光'\n17. '就'\n18. '有'\n19. '了'\n20. '光'\n21. '神看'\n22. '光是'\n23. '好'\n24. '的'\n25. '就'\n26. '把'\n27. '光暗'\n28. '分開'\n29. '了'\n30. '神稱'\n31. '光為'\n32. '晝'\n33. '稱暗'\n34. '為'\n35. '夜'\n36. '有'\n37. '晚上'\n38. '有'\n39. '早晨'\n40. '這是頭'\n41. '一日'\n42. '神說'\n43. '諸水'\n44. '之間'\n45. '要'\n46. '有'\n47. '空氣'\n48. '將'\n49. '水分'\n50. '為'\n51. '上下'\n52. '神'\n53. '就'\n54. '造出'\n55. '空氣'\n56. '將'\n57. '空氣'\n58. '以下'\n59. '的'\n60. '水'\n61. '空氣'\n62. '以上'\n63. '的'\n64. '水'\n65. '分開'\n66. '了'\n67. '事'\n68. '就'\n69. '這樣'\n70. '成'\n71. '了'\n72. '神稱'\n73. '空氣'\n74. '為天'\n75. '有'\n76. '晚上'\n77. '有'\n78. '早晨'\n79. '是'\n80. '第二日'\n81. '神說'\n82. '天下'\n83. '的'\n84. '水要'\n85. '聚'\n86. '在'\n87. '一處'\n88. '使'\n89. '旱地'\n90. '露'\n91. '出來'\n92. '事'\n93. '就'\n94. '這樣'\n95. '成'\n96. '了'\n97. '神稱'\n98. '旱地'\n99. '為'\n100. '地'\n101. '稱水'\n102. '的'\n103. '聚處'\n104. '為海'\n105. '神看'\n106. '著'\n107. '是'\n108. '好'\n109. '的'\n110. '神說'\n111. '地要'\n112. '發生'\n113. '青草'\n114. '和'\n115. '結'\n116. '種子'\n117. '的'\n118. '菜蔬'\n119. '並'\n120. '結果'\n121. '子'\n122. '的'\n123. '樹木'\n124. '各從其類'\n125. '果子'\n126. '都'\n127. '包著核'\n128. '事'\n129. '就'\n130. '這樣'\n131. '成'\n132. '了'\n133. '於是'\n134. '地'\n135. '發生'\n136. '了'\n137. '青草'\n138. '和'\n139. '結'\n140. '種子'\n141. '的'\n142. '菜蔬'\n143. '各從其類'\n144. '並'\n145. '結果'\n146. '子'\n147. '的'\n148. '樹木'\n149. '各從其類'\n150. '果子'\n151. '都'\n152. '包著核'\n153. '神看'\n154. '著'\n155. '是'\n156. '好'\n157. '的'\n158. '有'\n159. '晚上'\n160. '有'\n161. '早晨'\n162. '是'\n163. '第三日'\n164. '神說'\n165. '天上'\n166. '要有光'\n167. '體'\n168. '可以'\n169. '分'\n170. '晝夜'\n171. '作記號'\n172. '節令'\n173. '日子'\n174. '年歲'\n175. '並要'\n176. '發光'\n177. '在'\n178. '天空'\n179. '普照'\n180. '在'\n181. '地上'\n182. '事'\n183. '就'\n184. '這樣'\n185. '成'\n186. '了'\n187. '於是'\n188. '神造'\n189. '了'\n190. '兩個'\n191. '大光'\n192. '大'\n193. '的'\n194. '管晝'\n195. '小'\n196. '的'\n197. '管夜'\n198. '又'\n199. '造眾星'\n200. '就'\n201. ⋯\n202. '賜福'\n203. '給'\n204. '這'\n205. '一切'\n206. '說'\n207. '滋生'\n208. '繁多'\n209. '充滿'\n210. '海中'\n211. '的'\n212. '水'\n213. '雀鳥'\n214. '也'\n215. '要'\n216. '多'\n217. '生在地上'\n218. '有'\n219. '晚上'\n220. '有'\n221. '早晨'\n222. '是'\n223. '第五'\n224. '日神'\n225. '說'\n226. '地要'\n227. '生出'\n228. '活物'\n229. '來'\n230. '各'\n231. '從'\n232. '其'\n233. '犧牲'\n234. '畜'\n235. '昆蟲'\n236. '野獸'\n237. '各從其類'\n238. '事'\n239. '就'\n240. '這樣'\n241. '成'\n242. '了'\n243. '於是'\n244. '神造'\n245. '出'\n246. '野獸'\n247. '各從其類'\n248. '牲畜'\n249. '各從其類'\n250. '地上'\n251. '一切'\n252. '昆蟲'\n253. '各從其類'\n254. '神看'\n255. '著'\n256. '是'\n257. '好'\n258. '的'\n259. '神說'\n260. '我們'\n261. '要照'\n262. '著'\n263. '我們'\n264. '的'\n265. '形像'\n266. '按著'\n267. '我們'\n268. '的'\n269. '樣式'\n270. '造人'\n271. '使'\n272. '他們'\n273. '管理'\n274. '海裡'\n275. '的魚'\n276. '空中'\n277. '的'\n278. '鳥'\n279. '地上'\n280. '的'\n281. '牲畜'\n282. '和'\n283. '全地'\n284. '並'\n285. '地上'\n286. '所'\n287. '爬'\n288. '的'\n289. '一切'\n290. '昆蟲'\n291. '神'\n292. '就'\n293. '照著'\n294. '自己'\n295. '的'\n296. '形像'\n297. '造人'\n298. '乃是'\n299. '照著'\n300. '他'\n301. '的'\n302. '形像'\n303. '造男造'\n304. '女'\n305. '神'\n306. '就'\n307. '賜福'\n308. '給'\n309. '他們'\n310. '又'\n311. '對'\n312. '他們'\n313. '說'\n314. '要'\n315. '生養'\n316. '眾多'\n317. '遍滿'\n318. '地面'\n319. '治理'\n320. '這地'\n321. '也'\n322. '要'\n323. '管理'\n324. '海裡'\n325. '的魚'\n326. '空中'\n327. '的'\n328. '鳥'\n329. '和'\n330. '地上'\n331. '各樣'\n332. '行動'\n333. '的'\n334. '活物'\n335. '神說'\n336. '看'\n337. '哪'\n338. '我將'\n339. '遍地'\n340. '上'\n341. '一'\n342. '切結'\n343. '種子'\n344. '的'\n345. '菜蔬'\n346. '和'\n347. '一切'\n348. '樹上'\n349. '所結'\n350. '有'\n351. '核'\n352. '的'\n353. '果子'\n354. '全'\n355. '賜給'\n356. '你們'\n357. '作'\n358. '食物'\n359. '至於'\n360. '地上'\n361. '的'\n362. '走獸'\n363. '和'\n364. '空中'\n365. '的'\n366. '飛鳥'\n367. '並'\n368. '各樣'\n369. '爬'\n370. '在'\n371. '地上'\n372. '有'\n373. '生命'\n374. '的'\n375. '物'\n376. '我將'\n377. '青草'\n378. '賜給'\n379. '牠'\n380. '們'\n381. '作'\n382. '食物'\n383. '事'\n384. '就'\n385. '這樣'\n386. '成'\n387. '了'\n388. '神看'\n389. '著'\n390. '一切'\n391. '所造'\n392. '的'\n393. '都'\n394. '甚'\n395. '好'\n396. '有'\n397. '晚上'\n398. '有'\n399. '早晨'\n400. '是'\n401. '第六日'\n\n\n",
            "text/html": [
              "<style>\n",
              ".list-inline {list-style: none; margin:0; padding: 0}\n",
              ".list-inline>li {display: inline-block}\n",
              ".list-inline>li:not(:last-child)::after {content: \"\\00b7\"; padding: 0 .5ex}\n",
              "</style>\n",
              "<ol class=list-inline><li>'起初'</li><li>'神'</li><li>'創造'</li><li>'天地'</li><li>'地是'</li><li>'空虛'</li><li>'混沌'</li><li>'淵面'</li><li>'黑暗'</li><li>'神的靈'</li><li>'運行'</li><li>'在'</li><li>'水面'</li><li>'上'</li><li>'神說'</li><li>'要有光'</li><li>'就'</li><li>'有'</li><li>'了'</li><li>'光'</li><li>'神看'</li><li>'光是'</li><li>'好'</li><li>'的'</li><li>'就'</li><li>'把'</li><li>'光暗'</li><li>'分開'</li><li>'了'</li><li>'神稱'</li><li>'光為'</li><li>'晝'</li><li>'稱暗'</li><li>'為'</li><li>'夜'</li><li>'有'</li><li>'晚上'</li><li>'有'</li><li>'早晨'</li><li>'這是頭'</li><li>'一日'</li><li>'神說'</li><li>'諸水'</li><li>'之間'</li><li>'要'</li><li>'有'</li><li>'空氣'</li><li>'將'</li><li>'水分'</li><li>'為'</li><li>'上下'</li><li>'神'</li><li>'就'</li><li>'造出'</li><li>'空氣'</li><li>'將'</li><li>'空氣'</li><li>'以下'</li><li>'的'</li><li>'水'</li><li>'空氣'</li><li>'以上'</li><li>'的'</li><li>'水'</li><li>'分開'</li><li>'了'</li><li>'事'</li><li>'就'</li><li>'這樣'</li><li>'成'</li><li>'了'</li><li>'神稱'</li><li>'空氣'</li><li>'為天'</li><li>'有'</li><li>'晚上'</li><li>'有'</li><li>'早晨'</li><li>'是'</li><li>'第二日'</li><li>'神說'</li><li>'天下'</li><li>'的'</li><li>'水要'</li><li>'聚'</li><li>'在'</li><li>'一處'</li><li>'使'</li><li>'旱地'</li><li>'露'</li><li>'出來'</li><li>'事'</li><li>'就'</li><li>'這樣'</li><li>'成'</li><li>'了'</li><li>'神稱'</li><li>'旱地'</li><li>'為'</li><li>'地'</li><li>'稱水'</li><li>'的'</li><li>'聚處'</li><li>'為海'</li><li>'神看'</li><li>'著'</li><li>'是'</li><li>'好'</li><li>'的'</li><li>'神說'</li><li>'地要'</li><li>'發生'</li><li>'青草'</li><li>'和'</li><li>'結'</li><li>'種子'</li><li>'的'</li><li>'菜蔬'</li><li>'並'</li><li>'結果'</li><li>'子'</li><li>'的'</li><li>'樹木'</li><li>'各從其類'</li><li>'果子'</li><li>'都'</li><li>'包著核'</li><li>'事'</li><li>'就'</li><li>'這樣'</li><li>'成'</li><li>'了'</li><li>'於是'</li><li>'地'</li><li>'發生'</li><li>'了'</li><li>'青草'</li><li>'和'</li><li>'結'</li><li>'種子'</li><li>'的'</li><li>'菜蔬'</li><li>'各從其類'</li><li>'並'</li><li>'結果'</li><li>'子'</li><li>'的'</li><li>'樹木'</li><li>'各從其類'</li><li>'果子'</li><li>'都'</li><li>'包著核'</li><li>'神看'</li><li>'著'</li><li>'是'</li><li>'好'</li><li>'的'</li><li>'有'</li><li>'晚上'</li><li>'有'</li><li>'早晨'</li><li>'是'</li><li>'第三日'</li><li>'神說'</li><li>'天上'</li><li>'要有光'</li><li>'體'</li><li>'可以'</li><li>'分'</li><li>'晝夜'</li><li>'作記號'</li><li>'節令'</li><li>'日子'</li><li>'年歲'</li><li>'並要'</li><li>'發光'</li><li>'在'</li><li>'天空'</li><li>'普照'</li><li>'在'</li><li>'地上'</li><li>'事'</li><li>'就'</li><li>'這樣'</li><li>'成'</li><li>'了'</li><li>'於是'</li><li>'神造'</li><li>'了'</li><li>'兩個'</li><li>'大光'</li><li>'大'</li><li>'的'</li><li>'管晝'</li><li>'小'</li><li>'的'</li><li>'管夜'</li><li>'又'</li><li>'造眾星'</li><li>'就'</li><li>⋯</li><li>'賜福'</li><li>'給'</li><li>'這'</li><li>'一切'</li><li>'說'</li><li>'滋生'</li><li>'繁多'</li><li>'充滿'</li><li>'海中'</li><li>'的'</li><li>'水'</li><li>'雀鳥'</li><li>'也'</li><li>'要'</li><li>'多'</li><li>'生在地上'</li><li>'有'</li><li>'晚上'</li><li>'有'</li><li>'早晨'</li><li>'是'</li><li>'第五'</li><li>'日神'</li><li>'說'</li><li>'地要'</li><li>'生出'</li><li>'活物'</li><li>'來'</li><li>'各'</li><li>'從'</li><li>'其'</li><li>'犧牲'</li><li>'畜'</li><li>'昆蟲'</li><li>'野獸'</li><li>'各從其類'</li><li>'事'</li><li>'就'</li><li>'這樣'</li><li>'成'</li><li>'了'</li><li>'於是'</li><li>'神造'</li><li>'出'</li><li>'野獸'</li><li>'各從其類'</li><li>'牲畜'</li><li>'各從其類'</li><li>'地上'</li><li>'一切'</li><li>'昆蟲'</li><li>'各從其類'</li><li>'神看'</li><li>'著'</li><li>'是'</li><li>'好'</li><li>'的'</li><li>'神說'</li><li>'我們'</li><li>'要照'</li><li>'著'</li><li>'我們'</li><li>'的'</li><li>'形像'</li><li>'按著'</li><li>'我們'</li><li>'的'</li><li>'樣式'</li><li>'造人'</li><li>'使'</li><li>'他們'</li><li>'管理'</li><li>'海裡'</li><li>'的魚'</li><li>'空中'</li><li>'的'</li><li>'鳥'</li><li>'地上'</li><li>'的'</li><li>'牲畜'</li><li>'和'</li><li>'全地'</li><li>'並'</li><li>'地上'</li><li>'所'</li><li>'爬'</li><li>'的'</li><li>'一切'</li><li>'昆蟲'</li><li>'神'</li><li>'就'</li><li>'照著'</li><li>'自己'</li><li>'的'</li><li>'形像'</li><li>'造人'</li><li>'乃是'</li><li>'照著'</li><li>'他'</li><li>'的'</li><li>'形像'</li><li>'造男造'</li><li>'女'</li><li>'神'</li><li>'就'</li><li>'賜福'</li><li>'給'</li><li>'他們'</li><li>'又'</li><li>'對'</li><li>'他們'</li><li>'說'</li><li>'要'</li><li>'生養'</li><li>'眾多'</li><li>'遍滿'</li><li>'地面'</li><li>'治理'</li><li>'這地'</li><li>'也'</li><li>'要'</li><li>'管理'</li><li>'海裡'</li><li>'的魚'</li><li>'空中'</li><li>'的'</li><li>'鳥'</li><li>'和'</li><li>'地上'</li><li>'各樣'</li><li>'行動'</li><li>'的'</li><li>'活物'</li><li>'神說'</li><li>'看'</li><li>'哪'</li><li>'我將'</li><li>'遍地'</li><li>'上'</li><li>'一'</li><li>'切結'</li><li>'種子'</li><li>'的'</li><li>'菜蔬'</li><li>'和'</li><li>'一切'</li><li>'樹上'</li><li>'所結'</li><li>'有'</li><li>'核'</li><li>'的'</li><li>'果子'</li><li>'全'</li><li>'賜給'</li><li>'你們'</li><li>'作'</li><li>'食物'</li><li>'至於'</li><li>'地上'</li><li>'的'</li><li>'走獸'</li><li>'和'</li><li>'空中'</li><li>'的'</li><li>'飛鳥'</li><li>'並'</li><li>'各樣'</li><li>'爬'</li><li>'在'</li><li>'地上'</li><li>'有'</li><li>'生命'</li><li>'的'</li><li>'物'</li><li>'我將'</li><li>'青草'</li><li>'賜給'</li><li>'牠'</li><li>'們'</li><li>'作'</li><li>'食物'</li><li>'事'</li><li>'就'</li><li>'這樣'</li><li>'成'</li><li>'了'</li><li>'神看'</li><li>'著'</li><li>'一切'</li><li>'所造'</li><li>'的'</li><li>'都'</li><li>'甚'</li><li>'好'</li><li>'有'</li><li>'晚上'</li><li>'有'</li><li>'早晨'</li><li>'是'</li><li>'第六日'</li></ol>\n"
            ]
          },
          "metadata": {
            "tags": []
          }
        }
      ]
    },
    {
      "cell_type": "code",
      "metadata": {
        "id": "VgnJcvLRh2M7",
        "outputId": "448d0770-01e8-4c57-f482-a580c0e6f3b7",
        "colab": {
          "base_uri": "https://localhost:8080/",
          "height": 420
        }
      },
      "source": [
        "new_words<-c(\"聖母瑪莉亞\",\"男無關世音菩灑\",\"耶穌基督\")\n",
        "writeLines(new_words,\"new_words.txt\")\n",
        "stop_words<-c(\"在\",\"之\",\"更\",\"個\",\"未\",\"而\",\"也\",\"與\",\"的\",\"有\",\"了\",\"是\",\"好\",\"為\",\"就\",\"著\",\"和\")\n",
        "writeLines(stop_words,\"stop_words.txt\")\n",
        "\n",
        "cutter<-worker(user=\"new_words.txt\",stop_word=\"stop_words.txt\",bylines=FALSE)\n",
        "seg_words <- cutter[content]\n",
        "seg_words"
      ],
      "execution_count": 43,
      "outputs": [
        {
          "output_type": "display_data",
          "data": {
            "text/plain": [
              "  [1] \"起初\"     \"神\"       \"創造\"     \"天地\"     \"地是\"     \"空虛\"    \n",
              "  [7] \"混沌\"     \"淵面\"     \"黑暗\"     \"神的靈\"   \"運行\"     \"水面\"    \n",
              " [13] \"上\"       \"神說\"     \"要有光\"   \"光\"       \"神看\"     \"光是\"    \n",
              " [19] \"把\"       \"光暗\"     \"分開\"     \"神稱\"     \"光為\"     \"晝\"      \n",
              " [25] \"稱暗\"     \"夜\"       \"晚上\"     \"早晨\"     \"這是頭\"   \"一日\"    \n",
              " [31] \"神說\"     \"諸水\"     \"之間\"     \"要\"       \"空氣\"     \"將\"      \n",
              " [37] \"水分\"     \"上下\"     \"神\"       \"造出\"     \"空氣\"     \"將\"      \n",
              " [43] \"空氣\"     \"以下\"     \"水\"       \"空氣\"     \"以上\"     \"水\"      \n",
              " [49] \"分開\"     \"事\"       \"這樣\"     \"成\"       \"神稱\"     \"空氣\"    \n",
              " [55] \"為天\"     \"晚上\"     \"早晨\"     \"第二日\"   \"神說\"     \"天下\"    \n",
              " [61] \"水要\"     \"聚\"       \"一處\"     \"使\"       \"旱地\"     \"露\"      \n",
              " [67] \"出來\"     \"事\"       \"這樣\"     \"成\"       \"神稱\"     \"旱地\"    \n",
              " [73] \"地\"       \"稱水\"     \"聚處\"     \"為海\"     \"神看\"     \"神說\"    \n",
              " [79] \"地要\"     \"發生\"     \"青草\"     \"結\"       \"種子\"     \"菜蔬\"    \n",
              " [85] \"並\"       \"結果\"     \"子\"       \"樹木\"     \"各從其類\" \"果子\"    \n",
              " [91] \"都\"       \"包著核\"   \"事\"       \"這樣\"     \"成\"       \"於是\"    \n",
              " [97] \"地\"       \"發生\"     \"青草\"     \"結\"       \"種子\"     \"菜蔬\"    \n",
              "[103] \"各從其類\" \"並\"       \"結果\"     \"子\"       \"樹木\"     \"各從其類\"\n",
              "[109] \"果子\"     \"都\"       \"包著核\"   \"神看\"     \"晚上\"     \"早晨\"    \n",
              "[115] \"第三日\"   \"神說\"     \"天上\"     \"要有光\"   \"體\"       \"可以\"    \n",
              "[121] \"分\"       \"晝夜\"     \"作記號\"   \"節令\"     \"日子\"     \"年歲\"    \n",
              "[127] \"並要\"     \"發光\"     \"天空\"     \"普照\"     \"地上\"     \"事\"      \n",
              "[133] \"這樣\"     \"成\"       \"於是\"     \"神造\"     \"兩個\"     \"大光\"    \n",
              "[139] \"大\"       \"管晝\"     \"小\"       \"管夜\"     \"又\"       \"造眾星\"  \n",
              "[145] \"把\"       \"這些\"     \"光\"       \"擺列\"     \"天空\"     \"普照\"    \n",
              "[151] \"地上\"     \"管理\"     \"晝夜\"     \"分別\"     \"明暗\"     \"神看\"    \n",
              "[157] \"晚上\"     \"早晨\"     \"第四日\"   \"神說\"     \"水要\"     \"多多\"    \n",
              "[163] \"滋生\"     \"生命\"     \"物\"       \"要\"       \"雀鳥\"     \"飛在\"    \n",
              "[169] \"地面\"     \"以上\"     \"天空\"     \"之中\"     \"神\"       \"造出\"    \n",
              "[175] \"大魚\"     \"水中\"     \"所\"       \"滋生\"     \"各樣\"     \"生命\"    \n",
              "[181] \"動物\"     \"各從其類\" \"又\"       \"造出\"     \"各樣\"     \"飛鳥\"    \n",
              "[187] \"各從其類\" \"神看\"     \"神\"       \"賜福\"     \"給\"       \"這\"      \n",
              "[193] \"一切\"     \"說\"       \"滋生\"     \"繁多\"     \"充滿\"     \"海中\"    \n",
              "[199] \"水\"       \"雀鳥\"     \"要\"       \"多\"       \"生在地上\" \"晚上\"    \n",
              "[205] \"早晨\"     \"第五\"     \"日神\"     \"說\"       \"地要\"     \"生出\"    \n",
              "[211] \"活物\"     \"來\"       \"各\"       \"從\"       \"其\"       \"犧牲\"    \n",
              "[217] \"畜\"       \"昆蟲\"     \"野獸\"     \"各從其類\" \"事\"       \"這樣\"    \n",
              "[223] \"成\"       \"於是\"     \"神造\"     \"出\"       \"野獸\"     \"各從其類\"\n",
              "[229] \"牲畜\"     \"各從其類\" \"地上\"     \"一切\"     \"昆蟲\"     \"各從其類\"\n",
              "[235] \"神看\"     \"神說\"     \"我們\"     \"要照\"     \"我們\"     \"形像\"    \n",
              "[241] \"按著\"     \"我們\"     \"樣式\"     \"造人\"     \"使\"       \"他們\"    \n",
              "[247] \"管理\"     \"海裡\"     \"的魚\"     \"空中\"     \"鳥\"       \"地上\"    \n",
              "[253] \"牲畜\"     \"全地\"     \"並\"       \"地上\"     \"所\"       \"爬\"      \n",
              "[259] \"一切\"     \"昆蟲\"     \"神\"       \"照著\"     \"自己\"     \"形像\"    \n",
              "[265] \"造人\"     \"乃是\"     \"照著\"     \"他\"       \"形像\"     \"造男造\"  \n",
              "[271] \"女\"       \"神\"       \"賜福\"     \"給\"       \"他們\"     \"又\"      \n",
              "[277] \"對\"       \"他們\"     \"說\"       \"要\"       \"生養\"     \"眾多\"    \n",
              "[283] \"遍滿\"     \"地面\"     \"治理\"     \"這地\"     \"要\"       \"管理\"    \n",
              "[289] \"海裡\"     \"的魚\"     \"空中\"     \"鳥\"       \"地上\"     \"各樣\"    \n",
              "[295] \"行動\"     \"活物\"     \"神說\"     \"看\"       \"哪\"       \"我將\"    \n",
              "[301] \"遍地\"     \"上\"       \"一\"       \"切結\"     \"種子\"     \"菜蔬\"    \n",
              "[307] \"一切\"     \"樹上\"     \"所結\"     \"核\"       \"果子\"     \"全\"      \n",
              "[313] \"賜給\"     \"你們\"     \"作\"       \"食物\"     \"至於\"     \"地上\"    \n",
              "[319] \"走獸\"     \"空中\"     \"飛鳥\"     \"並\"       \"各樣\"     \"爬\"      \n",
              "[325] \"地上\"     \"生命\"     \"物\"       \"我將\"     \"青草\"     \"賜給\"    \n",
              "[331] \"牠\"       \"們\"       \"作\"       \"食物\"     \"事\"       \"這樣\"    \n",
              "[337] \"成\"       \"神看\"     \"一切\"     \"所造\"     \"都\"       \"甚\"      \n",
              "[343] \"晚上\"     \"早晨\"     \"第六日\"  "
            ],
            "text/latex": "\\begin{enumerate*}\n\\item '起初'\n\\item '神'\n\\item '創造'\n\\item '天地'\n\\item '地是'\n\\item '空虛'\n\\item '混沌'\n\\item '淵面'\n\\item '黑暗'\n\\item '神的靈'\n\\item '運行'\n\\item '水面'\n\\item '上'\n\\item '神說'\n\\item '要有光'\n\\item '光'\n\\item '神看'\n\\item '光是'\n\\item '把'\n\\item '光暗'\n\\item '分開'\n\\item '神稱'\n\\item '光為'\n\\item '晝'\n\\item '稱暗'\n\\item '夜'\n\\item '晚上'\n\\item '早晨'\n\\item '這是頭'\n\\item '一日'\n\\item '神說'\n\\item '諸水'\n\\item '之間'\n\\item '要'\n\\item '空氣'\n\\item '將'\n\\item '水分'\n\\item '上下'\n\\item '神'\n\\item '造出'\n\\item '空氣'\n\\item '將'\n\\item '空氣'\n\\item '以下'\n\\item '水'\n\\item '空氣'\n\\item '以上'\n\\item '水'\n\\item '分開'\n\\item '事'\n\\item '這樣'\n\\item '成'\n\\item '神稱'\n\\item '空氣'\n\\item '為天'\n\\item '晚上'\n\\item '早晨'\n\\item '第二日'\n\\item '神說'\n\\item '天下'\n\\item '水要'\n\\item '聚'\n\\item '一處'\n\\item '使'\n\\item '旱地'\n\\item '露'\n\\item '出來'\n\\item '事'\n\\item '這樣'\n\\item '成'\n\\item '神稱'\n\\item '旱地'\n\\item '地'\n\\item '稱水'\n\\item '聚處'\n\\item '為海'\n\\item '神看'\n\\item '神說'\n\\item '地要'\n\\item '發生'\n\\item '青草'\n\\item '結'\n\\item '種子'\n\\item '菜蔬'\n\\item '並'\n\\item '結果'\n\\item '子'\n\\item '樹木'\n\\item '各從其類'\n\\item '果子'\n\\item '都'\n\\item '包著核'\n\\item '事'\n\\item '這樣'\n\\item '成'\n\\item '於是'\n\\item '地'\n\\item '發生'\n\\item '青草'\n\\item '結'\n\\item '種子'\n\\item '菜蔬'\n\\item '各從其類'\n\\item '並'\n\\item '結果'\n\\item '子'\n\\item '樹木'\n\\item '各從其類'\n\\item '果子'\n\\item '都'\n\\item '包著核'\n\\item '神看'\n\\item '晚上'\n\\item '早晨'\n\\item '第三日'\n\\item '神說'\n\\item '天上'\n\\item '要有光'\n\\item '體'\n\\item '可以'\n\\item '分'\n\\item '晝夜'\n\\item '作記號'\n\\item '節令'\n\\item '日子'\n\\item '年歲'\n\\item '並要'\n\\item '發光'\n\\item '天空'\n\\item '普照'\n\\item '地上'\n\\item '事'\n\\item '這樣'\n\\item '成'\n\\item '於是'\n\\item '神造'\n\\item '兩個'\n\\item '大光'\n\\item '大'\n\\item '管晝'\n\\item '小'\n\\item '管夜'\n\\item '又'\n\\item '造眾星'\n\\item '把'\n\\item '這些'\n\\item '光'\n\\item '擺列'\n\\item '天空'\n\\item '普照'\n\\item '地上'\n\\item '管理'\n\\item '晝夜'\n\\item '分別'\n\\item '明暗'\n\\item '神看'\n\\item '晚上'\n\\item '早晨'\n\\item '第四日'\n\\item '神說'\n\\item '水要'\n\\item '多多'\n\\item '滋生'\n\\item '生命'\n\\item '物'\n\\item '要'\n\\item '雀鳥'\n\\item '飛在'\n\\item '地面'\n\\item '以上'\n\\item '天空'\n\\item '之中'\n\\item '神'\n\\item '造出'\n\\item '大魚'\n\\item '水中'\n\\item '所'\n\\item '滋生'\n\\item '各樣'\n\\item '生命'\n\\item '動物'\n\\item '各從其類'\n\\item '又'\n\\item '造出'\n\\item '各樣'\n\\item '飛鳥'\n\\item '各從其類'\n\\item '神看'\n\\item '神'\n\\item '賜福'\n\\item '給'\n\\item '這'\n\\item '一切'\n\\item '說'\n\\item '滋生'\n\\item '繁多'\n\\item '充滿'\n\\item '海中'\n\\item '水'\n\\item '雀鳥'\n\\item '要'\n\\item '多'\n\\item '生在地上'\n\\item '晚上'\n\\item '早晨'\n\\item '第五'\n\\item '日神'\n\\item '說'\n\\item '地要'\n\\item '生出'\n\\item '活物'\n\\item '來'\n\\item '各'\n\\item '從'\n\\item '其'\n\\item '犧牲'\n\\item '畜'\n\\item '昆蟲'\n\\item '野獸'\n\\item '各從其類'\n\\item '事'\n\\item '這樣'\n\\item '成'\n\\item '於是'\n\\item '神造'\n\\item '出'\n\\item '野獸'\n\\item '各從其類'\n\\item '牲畜'\n\\item '各從其類'\n\\item '地上'\n\\item '一切'\n\\item '昆蟲'\n\\item '各從其類'\n\\item '神看'\n\\item '神說'\n\\item '我們'\n\\item '要照'\n\\item '我們'\n\\item '形像'\n\\item '按著'\n\\item '我們'\n\\item '樣式'\n\\item '造人'\n\\item '使'\n\\item '他們'\n\\item '管理'\n\\item '海裡'\n\\item '的魚'\n\\item '空中'\n\\item '鳥'\n\\item '地上'\n\\item '牲畜'\n\\item '全地'\n\\item '並'\n\\item '地上'\n\\item '所'\n\\item '爬'\n\\item '一切'\n\\item '昆蟲'\n\\item '神'\n\\item '照著'\n\\item '自己'\n\\item '形像'\n\\item '造人'\n\\item '乃是'\n\\item '照著'\n\\item '他'\n\\item '形像'\n\\item '造男造'\n\\item '女'\n\\item '神'\n\\item '賜福'\n\\item '給'\n\\item '他們'\n\\item '又'\n\\item '對'\n\\item '他們'\n\\item '說'\n\\item '要'\n\\item '生養'\n\\item '眾多'\n\\item '遍滿'\n\\item '地面'\n\\item '治理'\n\\item '這地'\n\\item '要'\n\\item '管理'\n\\item '海裡'\n\\item '的魚'\n\\item '空中'\n\\item '鳥'\n\\item '地上'\n\\item '各樣'\n\\item '行動'\n\\item '活物'\n\\item '神說'\n\\item '看'\n\\item '哪'\n\\item '我將'\n\\item '遍地'\n\\item '上'\n\\item '一'\n\\item '切結'\n\\item '種子'\n\\item '菜蔬'\n\\item '一切'\n\\item '樹上'\n\\item '所結'\n\\item '核'\n\\item '果子'\n\\item '全'\n\\item '賜給'\n\\item '你們'\n\\item '作'\n\\item '食物'\n\\item '至於'\n\\item '地上'\n\\item '走獸'\n\\item '空中'\n\\item '飛鳥'\n\\item '並'\n\\item '各樣'\n\\item '爬'\n\\item '地上'\n\\item '生命'\n\\item '物'\n\\item '我將'\n\\item '青草'\n\\item '賜給'\n\\item '牠'\n\\item '們'\n\\item '作'\n\\item '食物'\n\\item '事'\n\\item '這樣'\n\\item '成'\n\\item '神看'\n\\item '一切'\n\\item '所造'\n\\item '都'\n\\item '甚'\n\\item '晚上'\n\\item '早晨'\n\\item '第六日'\n\\end{enumerate*}\n",
            "text/markdown": "1. '起初'\n2. '神'\n3. '創造'\n4. '天地'\n5. '地是'\n6. '空虛'\n7. '混沌'\n8. '淵面'\n9. '黑暗'\n10. '神的靈'\n11. '運行'\n12. '水面'\n13. '上'\n14. '神說'\n15. '要有光'\n16. '光'\n17. '神看'\n18. '光是'\n19. '把'\n20. '光暗'\n21. '分開'\n22. '神稱'\n23. '光為'\n24. '晝'\n25. '稱暗'\n26. '夜'\n27. '晚上'\n28. '早晨'\n29. '這是頭'\n30. '一日'\n31. '神說'\n32. '諸水'\n33. '之間'\n34. '要'\n35. '空氣'\n36. '將'\n37. '水分'\n38. '上下'\n39. '神'\n40. '造出'\n41. '空氣'\n42. '將'\n43. '空氣'\n44. '以下'\n45. '水'\n46. '空氣'\n47. '以上'\n48. '水'\n49. '分開'\n50. '事'\n51. '這樣'\n52. '成'\n53. '神稱'\n54. '空氣'\n55. '為天'\n56. '晚上'\n57. '早晨'\n58. '第二日'\n59. '神說'\n60. '天下'\n61. '水要'\n62. '聚'\n63. '一處'\n64. '使'\n65. '旱地'\n66. '露'\n67. '出來'\n68. '事'\n69. '這樣'\n70. '成'\n71. '神稱'\n72. '旱地'\n73. '地'\n74. '稱水'\n75. '聚處'\n76. '為海'\n77. '神看'\n78. '神說'\n79. '地要'\n80. '發生'\n81. '青草'\n82. '結'\n83. '種子'\n84. '菜蔬'\n85. '並'\n86. '結果'\n87. '子'\n88. '樹木'\n89. '各從其類'\n90. '果子'\n91. '都'\n92. '包著核'\n93. '事'\n94. '這樣'\n95. '成'\n96. '於是'\n97. '地'\n98. '發生'\n99. '青草'\n100. '結'\n101. '種子'\n102. '菜蔬'\n103. '各從其類'\n104. '並'\n105. '結果'\n106. '子'\n107. '樹木'\n108. '各從其類'\n109. '果子'\n110. '都'\n111. '包著核'\n112. '神看'\n113. '晚上'\n114. '早晨'\n115. '第三日'\n116. '神說'\n117. '天上'\n118. '要有光'\n119. '體'\n120. '可以'\n121. '分'\n122. '晝夜'\n123. '作記號'\n124. '節令'\n125. '日子'\n126. '年歲'\n127. '並要'\n128. '發光'\n129. '天空'\n130. '普照'\n131. '地上'\n132. '事'\n133. '這樣'\n134. '成'\n135. '於是'\n136. '神造'\n137. '兩個'\n138. '大光'\n139. '大'\n140. '管晝'\n141. '小'\n142. '管夜'\n143. '又'\n144. '造眾星'\n145. '把'\n146. '這些'\n147. '光'\n148. '擺列'\n149. '天空'\n150. '普照'\n151. '地上'\n152. '管理'\n153. '晝夜'\n154. '分別'\n155. '明暗'\n156. '神看'\n157. '晚上'\n158. '早晨'\n159. '第四日'\n160. '神說'\n161. '水要'\n162. '多多'\n163. '滋生'\n164. '生命'\n165. '物'\n166. '要'\n167. '雀鳥'\n168. '飛在'\n169. '地面'\n170. '以上'\n171. '天空'\n172. '之中'\n173. '神'\n174. '造出'\n175. '大魚'\n176. '水中'\n177. '所'\n178. '滋生'\n179. '各樣'\n180. '生命'\n181. '動物'\n182. '各從其類'\n183. '又'\n184. '造出'\n185. '各樣'\n186. '飛鳥'\n187. '各從其類'\n188. '神看'\n189. '神'\n190. '賜福'\n191. '給'\n192. '這'\n193. '一切'\n194. '說'\n195. '滋生'\n196. '繁多'\n197. '充滿'\n198. '海中'\n199. '水'\n200. '雀鳥'\n201. '要'\n202. '多'\n203. '生在地上'\n204. '晚上'\n205. '早晨'\n206. '第五'\n207. '日神'\n208. '說'\n209. '地要'\n210. '生出'\n211. '活物'\n212. '來'\n213. '各'\n214. '從'\n215. '其'\n216. '犧牲'\n217. '畜'\n218. '昆蟲'\n219. '野獸'\n220. '各從其類'\n221. '事'\n222. '這樣'\n223. '成'\n224. '於是'\n225. '神造'\n226. '出'\n227. '野獸'\n228. '各從其類'\n229. '牲畜'\n230. '各從其類'\n231. '地上'\n232. '一切'\n233. '昆蟲'\n234. '各從其類'\n235. '神看'\n236. '神說'\n237. '我們'\n238. '要照'\n239. '我們'\n240. '形像'\n241. '按著'\n242. '我們'\n243. '樣式'\n244. '造人'\n245. '使'\n246. '他們'\n247. '管理'\n248. '海裡'\n249. '的魚'\n250. '空中'\n251. '鳥'\n252. '地上'\n253. '牲畜'\n254. '全地'\n255. '並'\n256. '地上'\n257. '所'\n258. '爬'\n259. '一切'\n260. '昆蟲'\n261. '神'\n262. '照著'\n263. '自己'\n264. '形像'\n265. '造人'\n266. '乃是'\n267. '照著'\n268. '他'\n269. '形像'\n270. '造男造'\n271. '女'\n272. '神'\n273. '賜福'\n274. '給'\n275. '他們'\n276. '又'\n277. '對'\n278. '他們'\n279. '說'\n280. '要'\n281. '生養'\n282. '眾多'\n283. '遍滿'\n284. '地面'\n285. '治理'\n286. '這地'\n287. '要'\n288. '管理'\n289. '海裡'\n290. '的魚'\n291. '空中'\n292. '鳥'\n293. '地上'\n294. '各樣'\n295. '行動'\n296. '活物'\n297. '神說'\n298. '看'\n299. '哪'\n300. '我將'\n301. '遍地'\n302. '上'\n303. '一'\n304. '切結'\n305. '種子'\n306. '菜蔬'\n307. '一切'\n308. '樹上'\n309. '所結'\n310. '核'\n311. '果子'\n312. '全'\n313. '賜給'\n314. '你們'\n315. '作'\n316. '食物'\n317. '至於'\n318. '地上'\n319. '走獸'\n320. '空中'\n321. '飛鳥'\n322. '並'\n323. '各樣'\n324. '爬'\n325. '地上'\n326. '生命'\n327. '物'\n328. '我將'\n329. '青草'\n330. '賜給'\n331. '牠'\n332. '們'\n333. '作'\n334. '食物'\n335. '事'\n336. '這樣'\n337. '成'\n338. '神看'\n339. '一切'\n340. '所造'\n341. '都'\n342. '甚'\n343. '晚上'\n344. '早晨'\n345. '第六日'\n\n\n",
            "text/html": [
              "<style>\n",
              ".list-inline {list-style: none; margin:0; padding: 0}\n",
              ".list-inline>li {display: inline-block}\n",
              ".list-inline>li:not(:last-child)::after {content: \"\\00b7\"; padding: 0 .5ex}\n",
              "</style>\n",
              "<ol class=list-inline><li>'起初'</li><li>'神'</li><li>'創造'</li><li>'天地'</li><li>'地是'</li><li>'空虛'</li><li>'混沌'</li><li>'淵面'</li><li>'黑暗'</li><li>'神的靈'</li><li>'運行'</li><li>'水面'</li><li>'上'</li><li>'神說'</li><li>'要有光'</li><li>'光'</li><li>'神看'</li><li>'光是'</li><li>'把'</li><li>'光暗'</li><li>'分開'</li><li>'神稱'</li><li>'光為'</li><li>'晝'</li><li>'稱暗'</li><li>'夜'</li><li>'晚上'</li><li>'早晨'</li><li>'這是頭'</li><li>'一日'</li><li>'神說'</li><li>'諸水'</li><li>'之間'</li><li>'要'</li><li>'空氣'</li><li>'將'</li><li>'水分'</li><li>'上下'</li><li>'神'</li><li>'造出'</li><li>'空氣'</li><li>'將'</li><li>'空氣'</li><li>'以下'</li><li>'水'</li><li>'空氣'</li><li>'以上'</li><li>'水'</li><li>'分開'</li><li>'事'</li><li>'這樣'</li><li>'成'</li><li>'神稱'</li><li>'空氣'</li><li>'為天'</li><li>'晚上'</li><li>'早晨'</li><li>'第二日'</li><li>'神說'</li><li>'天下'</li><li>'水要'</li><li>'聚'</li><li>'一處'</li><li>'使'</li><li>'旱地'</li><li>'露'</li><li>'出來'</li><li>'事'</li><li>'這樣'</li><li>'成'</li><li>'神稱'</li><li>'旱地'</li><li>'地'</li><li>'稱水'</li><li>'聚處'</li><li>'為海'</li><li>'神看'</li><li>'神說'</li><li>'地要'</li><li>'發生'</li><li>'青草'</li><li>'結'</li><li>'種子'</li><li>'菜蔬'</li><li>'並'</li><li>'結果'</li><li>'子'</li><li>'樹木'</li><li>'各從其類'</li><li>'果子'</li><li>'都'</li><li>'包著核'</li><li>'事'</li><li>'這樣'</li><li>'成'</li><li>'於是'</li><li>'地'</li><li>'發生'</li><li>'青草'</li><li>'結'</li><li>'種子'</li><li>'菜蔬'</li><li>'各從其類'</li><li>'並'</li><li>'結果'</li><li>'子'</li><li>'樹木'</li><li>'各從其類'</li><li>'果子'</li><li>'都'</li><li>'包著核'</li><li>'神看'</li><li>'晚上'</li><li>'早晨'</li><li>'第三日'</li><li>'神說'</li><li>'天上'</li><li>'要有光'</li><li>'體'</li><li>'可以'</li><li>'分'</li><li>'晝夜'</li><li>'作記號'</li><li>'節令'</li><li>'日子'</li><li>'年歲'</li><li>'並要'</li><li>'發光'</li><li>'天空'</li><li>'普照'</li><li>'地上'</li><li>'事'</li><li>'這樣'</li><li>'成'</li><li>'於是'</li><li>'神造'</li><li>'兩個'</li><li>'大光'</li><li>'大'</li><li>'管晝'</li><li>'小'</li><li>'管夜'</li><li>'又'</li><li>'造眾星'</li><li>'把'</li><li>'這些'</li><li>'光'</li><li>'擺列'</li><li>'天空'</li><li>'普照'</li><li>'地上'</li><li>'管理'</li><li>'晝夜'</li><li>'分別'</li><li>'明暗'</li><li>'神看'</li><li>'晚上'</li><li>'早晨'</li><li>'第四日'</li><li>'神說'</li><li>'水要'</li><li>'多多'</li><li>'滋生'</li><li>'生命'</li><li>'物'</li><li>'要'</li><li>'雀鳥'</li><li>'飛在'</li><li>'地面'</li><li>'以上'</li><li>'天空'</li><li>'之中'</li><li>'神'</li><li>'造出'</li><li>'大魚'</li><li>'水中'</li><li>'所'</li><li>'滋生'</li><li>'各樣'</li><li>'生命'</li><li>'動物'</li><li>'各從其類'</li><li>'又'</li><li>'造出'</li><li>'各樣'</li><li>'飛鳥'</li><li>'各從其類'</li><li>'神看'</li><li>'神'</li><li>'賜福'</li><li>'給'</li><li>'這'</li><li>'一切'</li><li>'說'</li><li>'滋生'</li><li>'繁多'</li><li>'充滿'</li><li>'海中'</li><li>'水'</li><li>'雀鳥'</li><li>'要'</li><li>'多'</li><li>'生在地上'</li><li>'晚上'</li><li>'早晨'</li><li>'第五'</li><li>'日神'</li><li>'說'</li><li>'地要'</li><li>'生出'</li><li>'活物'</li><li>'來'</li><li>'各'</li><li>'從'</li><li>'其'</li><li>'犧牲'</li><li>'畜'</li><li>'昆蟲'</li><li>'野獸'</li><li>'各從其類'</li><li>'事'</li><li>'這樣'</li><li>'成'</li><li>'於是'</li><li>'神造'</li><li>'出'</li><li>'野獸'</li><li>'各從其類'</li><li>'牲畜'</li><li>'各從其類'</li><li>'地上'</li><li>'一切'</li><li>'昆蟲'</li><li>'各從其類'</li><li>'神看'</li><li>'神說'</li><li>'我們'</li><li>'要照'</li><li>'我們'</li><li>'形像'</li><li>'按著'</li><li>'我們'</li><li>'樣式'</li><li>'造人'</li><li>'使'</li><li>'他們'</li><li>'管理'</li><li>'海裡'</li><li>'的魚'</li><li>'空中'</li><li>'鳥'</li><li>'地上'</li><li>'牲畜'</li><li>'全地'</li><li>'並'</li><li>'地上'</li><li>'所'</li><li>'爬'</li><li>'一切'</li><li>'昆蟲'</li><li>'神'</li><li>'照著'</li><li>'自己'</li><li>'形像'</li><li>'造人'</li><li>'乃是'</li><li>'照著'</li><li>'他'</li><li>'形像'</li><li>'造男造'</li><li>'女'</li><li>'神'</li><li>'賜福'</li><li>'給'</li><li>'他們'</li><li>'又'</li><li>'對'</li><li>'他們'</li><li>'說'</li><li>'要'</li><li>'生養'</li><li>'眾多'</li><li>'遍滿'</li><li>'地面'</li><li>'治理'</li><li>'這地'</li><li>'要'</li><li>'管理'</li><li>'海裡'</li><li>'的魚'</li><li>'空中'</li><li>'鳥'</li><li>'地上'</li><li>'各樣'</li><li>'行動'</li><li>'活物'</li><li>'神說'</li><li>'看'</li><li>'哪'</li><li>'我將'</li><li>'遍地'</li><li>'上'</li><li>'一'</li><li>'切結'</li><li>'種子'</li><li>'菜蔬'</li><li>'一切'</li><li>'樹上'</li><li>'所結'</li><li>'核'</li><li>'果子'</li><li>'全'</li><li>'賜給'</li><li>'你們'</li><li>'作'</li><li>'食物'</li><li>'至於'</li><li>'地上'</li><li>'走獸'</li><li>'空中'</li><li>'飛鳥'</li><li>'並'</li><li>'各樣'</li><li>'爬'</li><li>'地上'</li><li>'生命'</li><li>'物'</li><li>'我將'</li><li>'青草'</li><li>'賜給'</li><li>'牠'</li><li>'們'</li><li>'作'</li><li>'食物'</li><li>'事'</li><li>'這樣'</li><li>'成'</li><li>'神看'</li><li>'一切'</li><li>'所造'</li><li>'都'</li><li>'甚'</li><li>'晚上'</li><li>'早晨'</li><li>'第六日'</li></ol>\n"
            ]
          },
          "metadata": {
            "tags": []
          }
        }
      ]
    },
    {
      "cell_type": "code",
      "metadata": {
        "id": "canQlp4jjo_4",
        "outputId": "8d90a971-d7bf-4e2b-ee82-676fad880bc7",
        "colab": {
          "base_uri": "https://localhost:8080/",
          "height": 212
        }
      },
      "source": [
        "txt_freq<-freq(seg_words)\n",
        "txt_freq<-arrange(txt_freq,desc(freq))\n",
        "head(txt_freq)"
      ],
      "execution_count": 44,
      "outputs": [
        {
          "output_type": "display_data",
          "data": {
            "text/plain": [
              "  char     freq\n",
              "1 各從其類 9   \n",
              "2 神說     8   \n",
              "3 地上     8   \n",
              "4 神看     7   \n",
              "5 這樣     6   \n",
              "6 早晨     6   "
            ],
            "text/latex": "A data.frame: 6 × 2\n\\begin{tabular}{r|ll}\n  & char & freq\\\\\n  & <chr> & <dbl>\\\\\n\\hline\n\t1 & 各從其類 & 9\\\\\n\t2 & 神說     & 8\\\\\n\t3 & 地上     & 8\\\\\n\t4 & 神看     & 7\\\\\n\t5 & 這樣     & 6\\\\\n\t6 & 早晨     & 6\\\\\n\\end{tabular}\n",
            "text/markdown": "\nA data.frame: 6 × 2\n\n| <!--/--> | char &lt;chr&gt; | freq &lt;dbl&gt; |\n|---|---|---|\n| 1 | 各從其類 | 9 |\n| 2 | 神說     | 8 |\n| 3 | 地上     | 8 |\n| 4 | 神看     | 7 |\n| 5 | 這樣     | 6 |\n| 6 | 早晨     | 6 |\n\n",
            "text/html": [
              "<table>\n",
              "<caption>A data.frame: 6 × 2</caption>\n",
              "<thead>\n",
              "\t<tr><th></th><th scope=col>char</th><th scope=col>freq</th></tr>\n",
              "\t<tr><th></th><th scope=col>&lt;chr&gt;</th><th scope=col>&lt;dbl&gt;</th></tr>\n",
              "</thead>\n",
              "<tbody>\n",
              "\t<tr><th scope=row>1</th><td>各從其類</td><td>9</td></tr>\n",
              "\t<tr><th scope=row>2</th><td>神說    </td><td>8</td></tr>\n",
              "\t<tr><th scope=row>3</th><td>地上    </td><td>8</td></tr>\n",
              "\t<tr><th scope=row>4</th><td>神看    </td><td>7</td></tr>\n",
              "\t<tr><th scope=row>5</th><td>這樣    </td><td>6</td></tr>\n",
              "\t<tr><th scope=row>6</th><td>早晨    </td><td>6</td></tr>\n",
              "</tbody>\n",
              "</table>\n"
            ]
          },
          "metadata": {
            "tags": []
          }
        }
      ]
    },
    {
      "cell_type": "code",
      "metadata": {
        "id": "Jw8mTcx_rdq7",
        "outputId": "cce8a0af-bad2-4fa0-a311-f245ec1f6a2d",
        "colab": {
          "base_uri": "https://localhost:8080/"
        }
      },
      "source": [
        "install.packages(\"showtext\")"
      ],
      "execution_count": 45,
      "outputs": [
        {
          "output_type": "stream",
          "text": [
            "Installing package into ‘/usr/local/lib/R/site-library’\n",
            "(as ‘lib’ is unspecified)\n",
            "\n",
            "also installing the dependencies ‘sysfonts’, ‘showtextdb’\n",
            "\n",
            "\n"
          ],
          "name": "stderr"
        }
      ]
    },
    {
      "cell_type": "code",
      "metadata": {
        "id": "jkTgztRUr5Ve",
        "outputId": "62129c69-d11f-41e9-c809-047bfad17084",
        "colab": {
          "base_uri": "https://localhost:8080/"
        }
      },
      "source": [
        "library(showtext)"
      ],
      "execution_count": 46,
      "outputs": [
        {
          "output_type": "stream",
          "text": [
            "Loading required package: sysfonts\n",
            "\n",
            "Loading required package: showtextdb\n",
            "\n"
          ],
          "name": "stderr"
        }
      ]
    },
    {
      "cell_type": "code",
      "metadata": {
        "id": "6Rxo7tnxtzlb",
        "outputId": "cabb8244-4f12-4a35-cfac-d9717beb6caf",
        "colab": {
          "base_uri": "https://localhost:8080/"
        }
      },
      "source": [
        "showtext.auto(enable=TRUE)"
      ],
      "execution_count": 47,
      "outputs": [
        {
          "output_type": "stream",
          "text": [
            "'showtext.auto()' is now renamed to 'showtext_auto()'\n",
            "The old version still works, but consider using the new function in future code\n",
            "\n"
          ],
          "name": "stderr"
        }
      ]
    },
    {
      "cell_type": "code",
      "metadata": {
        "id": "h1cWFDsAn4ax",
        "outputId": "80dc5e4a-eac8-40b4-b433-6890c745924f",
        "colab": {
          "base_uri": "https://localhost:8080/",
          "height": 1000
        }
      },
      "source": [
        "par(family=(\"Microsoft YaHei\"))\n",
        "wordcloud(txt_freq$char, txt_freq$freq, min.freq=2, random.order = F, ordered.colors = F,colors=rainbow(nrow(txt_freq)))"
      ],
      "execution_count": 48,
      "outputs": [
        {
          "output_type": "stream",
          "text": [
            "Warning message in strwidth(words[i], cex = size[i], ...):\n",
            "“font family 'Microsoft YaHei' not found, will use 'wqy-microhei' instead”\n",
            "Warning message in strheight(words[i], cex = size[i], ...):\n",
            "“font family 'Microsoft YaHei' not found, will use 'sans' instead”\n",
            "Warning message in text.default(x1, y1, words[i], cex = size[i], offset = 0, srt = rotWord * :\n",
            "“font family 'Microsoft YaHei' not found, will use 'wqy-microhei' instead”\n",
            "Warning message in text.default(x1, y1, words[i], cex = size[i], offset = 0, srt = rotWord * :\n",
            "“font family 'Microsoft YaHei' not found, will use 'wqy-microhei' instead”\n",
            "Warning message in text.default(x1, y1, words[i], cex = size[i], offset = 0, srt = rotWord * :\n",
            "“font family 'Microsoft YaHei' not found, will use 'wqy-microhei' instead”\n",
            "Warning message in text.default(x1, y1, words[i], cex = size[i], offset = 0, srt = rotWord * :\n",
            "“font family 'Microsoft YaHei' not found, will use 'wqy-microhei' instead”\n",
            "Warning message in text.default(x1, y1, words[i], cex = size[i], offset = 0, srt = rotWord * :\n",
            "“font family 'Microsoft YaHei' not found, will use 'wqy-microhei' instead”\n",
            "Warning message in text.default(x1, y1, words[i], cex = size[i], offset = 0, srt = rotWord * :\n",
            "“font family 'Microsoft YaHei' not found, will use 'wqy-microhei' instead”\n",
            "Warning message in strwidth(words[i], cex = size[i], ...):\n",
            "“font family 'Microsoft YaHei' not found, will use 'wqy-microhei' instead”\n",
            "Warning message in strheight(words[i], cex = size[i], ...):\n",
            "“font family 'Microsoft YaHei' not found, will use 'sans' instead”\n",
            "Warning message in text.default(x1, y1, words[i], cex = size[i], offset = 0, srt = rotWord * :\n",
            "“font family 'Microsoft YaHei' not found, will use 'wqy-microhei' instead”\n",
            "Warning message in text.default(x1, y1, words[i], cex = size[i], offset = 0, srt = rotWord * :\n",
            "“font family 'Microsoft YaHei' not found, will use 'wqy-microhei' instead”\n",
            "Warning message in text.default(x1, y1, words[i], cex = size[i], offset = 0, srt = rotWord * :\n",
            "“font family 'Microsoft YaHei' not found, will use 'wqy-microhei' instead”\n",
            "Warning message in text.default(x1, y1, words[i], cex = size[i], offset = 0, srt = rotWord * :\n",
            "“font family 'Microsoft YaHei' not found, will use 'wqy-microhei' instead”\n",
            "Warning message in strwidth(words[i], cex = size[i], ...):\n",
            "“font family 'Microsoft YaHei' not found, will use 'wqy-microhei' instead”\n",
            "Warning message in text.default(x1, y1, words[i], cex = size[i], offset = 0, srt = rotWord * :\n",
            "“font family 'Microsoft YaHei' not found, will use 'wqy-microhei' instead”\n",
            "Warning message in text.default(x1, y1, words[i], cex = size[i], offset = 0, srt = rotWord * :\n",
            "“font family 'Microsoft YaHei' not found, will use 'wqy-microhei' instead”\n",
            "Warning message in text.default(x1, y1, words[i], cex = size[i], offset = 0, srt = rotWord * :\n",
            "“font family 'Microsoft YaHei' not found, will use 'wqy-microhei' instead”\n",
            "Warning message in text.default(x1, y1, words[i], cex = size[i], offset = 0, srt = rotWord * :\n",
            "“font family 'Microsoft YaHei' not found, will use 'wqy-microhei' instead”\n",
            "Warning message in strwidth(words[i], cex = size[i], ...):\n",
            "“font family 'Microsoft YaHei' not found, will use 'wqy-microhei' instead”\n",
            "Warning message in strheight(words[i], cex = size[i], ...):\n",
            "“font family 'Microsoft YaHei' not found, will use 'sans' instead”\n",
            "Warning message in text.default(x1, y1, words[i], cex = size[i], offset = 0, srt = rotWord * :\n",
            "“font family 'Microsoft YaHei' not found, will use 'wqy-microhei' instead”\n",
            "Warning message in text.default(x1, y1, words[i], cex = size[i], offset = 0, srt = rotWord * :\n",
            "“font family 'Microsoft YaHei' not found, will use 'wqy-microhei' instead”\n",
            "Warning message in text.default(x1, y1, words[i], cex = size[i], offset = 0, srt = rotWord * :\n",
            "“font family 'Microsoft YaHei' not found, will use 'wqy-microhei' instead”\n",
            "Warning message in text.default(x1, y1, words[i], cex = size[i], offset = 0, srt = rotWord * :\n",
            "“font family 'Microsoft YaHei' not found, will use 'wqy-microhei' instead”\n",
            "Warning message in strwidth(words[i], cex = size[i], ...):\n",
            "“font family 'Microsoft YaHei' not found, will use 'wqy-microhei' instead”\n",
            "Warning message in strheight(words[i], cex = size[i], ...):\n",
            "“font family 'Microsoft YaHei' not found, will use 'sans' instead”\n",
            "Warning message in text.default(x1, y1, words[i], cex = size[i], offset = 0, srt = rotWord * :\n",
            "“font family 'Microsoft YaHei' not found, will use 'wqy-microhei' instead”\n",
            "Warning message in text.default(x1, y1, words[i], cex = size[i], offset = 0, srt = rotWord * :\n",
            "“font family 'Microsoft YaHei' not found, will use 'wqy-microhei' instead”\n",
            "Warning message in text.default(x1, y1, words[i], cex = size[i], offset = 0, srt = rotWord * :\n",
            "“font family 'Microsoft YaHei' not found, will use 'wqy-microhei' instead”\n",
            "Warning message in text.default(x1, y1, words[i], cex = size[i], offset = 0, srt = rotWord * :\n",
            "“font family 'Microsoft YaHei' not found, will use 'wqy-microhei' instead”\n",
            "Warning message in strwidth(words[i], cex = size[i], ...):\n",
            "“font family 'Microsoft YaHei' not found, will use 'wqy-microhei' instead”\n",
            "Warning message in text.default(x1, y1, words[i], cex = size[i], offset = 0, srt = rotWord * :\n",
            "“font family 'Microsoft YaHei' not found, will use 'wqy-microhei' instead”\n",
            "Warning message in text.default(x1, y1, words[i], cex = size[i], offset = 0, srt = rotWord * :\n",
            "“font family 'Microsoft YaHei' not found, will use 'wqy-microhei' instead”\n",
            "Warning message in text.default(x1, y1, words[i], cex = size[i], offset = 0, srt = rotWord * :\n",
            "“font family 'Microsoft YaHei' not found, will use 'wqy-microhei' instead”\n",
            "Warning message in text.default(x1, y1, words[i], cex = size[i], offset = 0, srt = rotWord * :\n",
            "“font family 'Microsoft YaHei' not found, will use 'wqy-microhei' instead”\n",
            "Warning message in strwidth(words[i], cex = size[i], ...):\n",
            "“font family 'Microsoft YaHei' not found, will use 'wqy-microhei' instead”\n",
            "Warning message in text.default(x1, y1, words[i], cex = size[i], offset = 0, srt = rotWord * :\n",
            "“font family 'Microsoft YaHei' not found, will use 'wqy-microhei' instead”\n",
            "Warning message in text.default(x1, y1, words[i], cex = size[i], offset = 0, srt = rotWord * :\n",
            "“font family 'Microsoft YaHei' not found, will use 'wqy-microhei' instead”\n",
            "Warning message in text.default(x1, y1, words[i], cex = size[i], offset = 0, srt = rotWord * :\n",
            "“font family 'Microsoft YaHei' not found, will use 'wqy-microhei' instead”\n",
            "Warning message in text.default(x1, y1, words[i], cex = size[i], offset = 0, srt = rotWord * :\n",
            "“font family 'Microsoft YaHei' not found, will use 'wqy-microhei' instead”\n",
            "Warning message in strwidth(words[i], cex = size[i], ...):\n",
            "“font family 'Microsoft YaHei' not found, will use 'wqy-microhei' instead”\n",
            "Warning message in text.default(x1, y1, words[i], cex = size[i], offset = 0, srt = rotWord * :\n",
            "“font family 'Microsoft YaHei' not found, will use 'wqy-microhei' instead”\n",
            "Warning message in text.default(x1, y1, words[i], cex = size[i], offset = 0, srt = rotWord * :\n",
            "“font family 'Microsoft YaHei' not found, will use 'wqy-microhei' instead”\n",
            "Warning message in text.default(x1, y1, words[i], cex = size[i], offset = 0, srt = rotWord * :\n",
            "“font family 'Microsoft YaHei' not found, will use 'wqy-microhei' instead”\n",
            "Warning message in strwidth(words[i], cex = size[i], ...):\n",
            "“font family 'Microsoft YaHei' not found, will use 'wqy-microhei' instead”\n",
            "Warning message in text.default(x1, y1, words[i], cex = size[i], offset = 0, srt = rotWord * :\n",
            "“font family 'Microsoft YaHei' not found, will use 'wqy-microhei' instead”\n",
            "Warning message in text.default(x1, y1, words[i], cex = size[i], offset = 0, srt = rotWord * :\n",
            "“font family 'Microsoft YaHei' not found, will use 'wqy-microhei' instead”\n",
            "Warning message in text.default(x1, y1, words[i], cex = size[i], offset = 0, srt = rotWord * :\n",
            "“font family 'Microsoft YaHei' not found, will use 'wqy-microhei' instead”\n",
            "Warning message in strwidth(words[i], cex = size[i], ...):\n",
            "“font family 'Microsoft YaHei' not found, will use 'wqy-microhei' instead”\n",
            "Warning message in text.default(x1, y1, words[i], cex = size[i], offset = 0, srt = rotWord * :\n",
            "“font family 'Microsoft YaHei' not found, will use 'wqy-microhei' instead”\n",
            "Warning message in text.default(x1, y1, words[i], cex = size[i], offset = 0, srt = rotWord * :\n",
            "“font family 'Microsoft YaHei' not found, will use 'wqy-microhei' instead”\n",
            "Warning message in text.default(x1, y1, words[i], cex = size[i], offset = 0, srt = rotWord * :\n",
            "“font family 'Microsoft YaHei' not found, will use 'wqy-microhei' instead”\n",
            "Warning message in strwidth(words[i], cex = size[i], ...):\n",
            "“font family 'Microsoft YaHei' not found, will use 'wqy-microhei' instead”\n",
            "Warning message in strheight(words[i], cex = size[i], ...):\n",
            "“font family 'Microsoft YaHei' not found, will use 'sans' instead”\n",
            "Warning message in text.default(x1, y1, words[i], cex = size[i], offset = 0, srt = rotWord * :\n",
            "“font family 'Microsoft YaHei' not found, will use 'wqy-microhei' instead”\n",
            "Warning message in text.default(x1, y1, words[i], cex = size[i], offset = 0, srt = rotWord * :\n",
            "“font family 'Microsoft YaHei' not found, will use 'wqy-microhei' instead”\n",
            "Warning message in text.default(x1, y1, words[i], cex = size[i], offset = 0, srt = rotWord * :\n",
            "“font family 'Microsoft YaHei' not found, will use 'wqy-microhei' instead”\n",
            "Warning message in strwidth(words[i], cex = size[i], ...):\n",
            "“font family 'Microsoft YaHei' not found, will use 'wqy-microhei' instead”\n",
            "Warning message in text.default(x1, y1, words[i], cex = size[i], offset = 0, srt = rotWord * :\n",
            "“font family 'Microsoft YaHei' not found, will use 'wqy-microhei' instead”\n",
            "Warning message in text.default(x1, y1, words[i], cex = size[i], offset = 0, srt = rotWord * :\n",
            "“font family 'Microsoft YaHei' not found, will use 'wqy-microhei' instead”\n",
            "Warning message in text.default(x1, y1, words[i], cex = size[i], offset = 0, srt = rotWord * :\n",
            "“font family 'Microsoft YaHei' not found, will use 'wqy-microhei' instead”\n",
            "Warning message in text.default(x1, y1, words[i], cex = size[i], offset = 0, srt = rotWord * :\n",
            "“font family 'Microsoft YaHei' not found, will use 'wqy-microhei' instead”\n",
            "Warning message in strwidth(words[i], cex = size[i], ...):\n",
            "“font family 'Microsoft YaHei' not found, will use 'wqy-microhei' instead”\n",
            "Warning message in text.default(x1, y1, words[i], cex = size[i], offset = 0, srt = rotWord * :\n",
            "“font family 'Microsoft YaHei' not found, will use 'wqy-microhei' instead”\n",
            "Warning message in text.default(x1, y1, words[i], cex = size[i], offset = 0, srt = rotWord * :\n",
            "“font family 'Microsoft YaHei' not found, will use 'wqy-microhei' instead”\n",
            "Warning message in text.default(x1, y1, words[i], cex = size[i], offset = 0, srt = rotWord * :\n",
            "“font family 'Microsoft YaHei' not found, will use 'wqy-microhei' instead”\n",
            "Warning message in text.default(x1, y1, words[i], cex = size[i], offset = 0, srt = rotWord * :\n",
            "“font family 'Microsoft YaHei' not found, will use 'wqy-microhei' instead”\n",
            "Warning message in strwidth(words[i], cex = size[i], ...):\n",
            "“font family 'Microsoft YaHei' not found, will use 'wqy-microhei' instead”\n",
            "Warning message in strheight(words[i], cex = size[i], ...):\n",
            "“font family 'Microsoft YaHei' not found, will use 'sans' instead”\n",
            "Warning message in text.default(x1, y1, words[i], cex = size[i], offset = 0, srt = rotWord * :\n",
            "“font family 'Microsoft YaHei' not found, will use 'wqy-microhei' instead”\n",
            "Warning message in text.default(x1, y1, words[i], cex = size[i], offset = 0, srt = rotWord * :\n",
            "“font family 'Microsoft YaHei' not found, will use 'wqy-microhei' instead”\n",
            "Warning message in text.default(x1, y1, words[i], cex = size[i], offset = 0, srt = rotWord * :\n",
            "“font family 'Microsoft YaHei' not found, will use 'wqy-microhei' instead”\n",
            "Warning message in strwidth(words[i], cex = size[i], ...):\n",
            "“font family 'Microsoft YaHei' not found, will use 'wqy-microhei' instead”\n",
            "Warning message in text.default(x1, y1, words[i], cex = size[i], offset = 0, srt = rotWord * :\n",
            "“font family 'Microsoft YaHei' not found, will use 'wqy-microhei' instead”\n",
            "Warning message in text.default(x1, y1, words[i], cex = size[i], offset = 0, srt = rotWord * :\n",
            "“font family 'Microsoft YaHei' not found, will use 'wqy-microhei' instead”\n",
            "Warning message in text.default(x1, y1, words[i], cex = size[i], offset = 0, srt = rotWord * :\n",
            "“font family 'Microsoft YaHei' not found, will use 'wqy-microhei' instead”\n",
            "Warning message in text.default(x1, y1, words[i], cex = size[i], offset = 0, srt = rotWord * :\n",
            "“font family 'Microsoft YaHei' not found, will use 'wqy-microhei' instead”\n",
            "Warning message in strwidth(words[i], cex = size[i], ...):\n",
            "“font family 'Microsoft YaHei' not found, will use 'wqy-microhei' instead”\n",
            "Warning message in strheight(words[i], cex = size[i], ...):\n",
            "“font family 'Microsoft YaHei' not found, will use 'sans' instead”\n",
            "Warning message in text.default(x1, y1, words[i], cex = size[i], offset = 0, srt = rotWord * :\n",
            "“font family 'Microsoft YaHei' not found, will use 'wqy-microhei' instead”\n",
            "Warning message in text.default(x1, y1, words[i], cex = size[i], offset = 0, srt = rotWord * :\n",
            "“font family 'Microsoft YaHei' not found, will use 'wqy-microhei' instead”\n",
            "Warning message in text.default(x1, y1, words[i], cex = size[i], offset = 0, srt = rotWord * :\n",
            "“font family 'Microsoft YaHei' not found, will use 'wqy-microhei' instead”\n",
            "Warning message in text.default(x1, y1, words[i], cex = size[i], offset = 0, srt = rotWord * :\n",
            "“font family 'Microsoft YaHei' not found, will use 'wqy-microhei' instead”\n",
            "Warning message in strwidth(words[i], cex = size[i], ...):\n",
            "“font family 'Microsoft YaHei' not found, will use 'wqy-microhei' instead”\n",
            "Warning message in text.default(x1, y1, words[i], cex = size[i], offset = 0, srt = rotWord * :\n",
            "“font family 'Microsoft YaHei' not found, will use 'wqy-microhei' instead”\n",
            "Warning message in text.default(x1, y1, words[i], cex = size[i], offset = 0, srt = rotWord * :\n",
            "“font family 'Microsoft YaHei' not found, will use 'wqy-microhei' instead”\n",
            "Warning message in text.default(x1, y1, words[i], cex = size[i], offset = 0, srt = rotWord * :\n",
            "“font family 'Microsoft YaHei' not found, will use 'wqy-microhei' instead”\n",
            "Warning message in text.default(x1, y1, words[i], cex = size[i], offset = 0, srt = rotWord * :\n",
            "“font family 'Microsoft YaHei' not found, will use 'wqy-microhei' instead”\n",
            "Warning message in strwidth(words[i], cex = size[i], ...):\n",
            "“font family 'Microsoft YaHei' not found, will use 'wqy-microhei' instead”\n",
            "Warning message in text.default(x1, y1, words[i], cex = size[i], offset = 0, srt = rotWord * :\n",
            "“font family 'Microsoft YaHei' not found, will use 'wqy-microhei' instead”\n",
            "Warning message in text.default(x1, y1, words[i], cex = size[i], offset = 0, srt = rotWord * :\n",
            "“font family 'Microsoft YaHei' not found, will use 'wqy-microhei' instead”\n",
            "Warning message in text.default(x1, y1, words[i], cex = size[i], offset = 0, srt = rotWord * :\n",
            "“font family 'Microsoft YaHei' not found, will use 'wqy-microhei' instead”\n",
            "Warning message in text.default(x1, y1, words[i], cex = size[i], offset = 0, srt = rotWord * :\n",
            "“font family 'Microsoft YaHei' not found, will use 'wqy-microhei' instead”\n",
            "Warning message in strwidth(words[i], cex = size[i], ...):\n",
            "“font family 'Microsoft YaHei' not found, will use 'wqy-microhei' instead”\n",
            "Warning message in text.default(x1, y1, words[i], cex = size[i], offset = 0, srt = rotWord * :\n",
            "“font family 'Microsoft YaHei' not found, will use 'wqy-microhei' instead”\n",
            "Warning message in text.default(x1, y1, words[i], cex = size[i], offset = 0, srt = rotWord * :\n",
            "“font family 'Microsoft YaHei' not found, will use 'wqy-microhei' instead”\n",
            "Warning message in text.default(x1, y1, words[i], cex = size[i], offset = 0, srt = rotWord * :\n",
            "“font family 'Microsoft YaHei' not found, will use 'wqy-microhei' instead”\n",
            "Warning message in strwidth(words[i], cex = size[i], ...):\n",
            "“font family 'Microsoft YaHei' not found, will use 'wqy-microhei' instead”\n",
            "Warning message in text.default(x1, y1, words[i], cex = size[i], offset = 0, srt = rotWord * :\n",
            "“font family 'Microsoft YaHei' not found, will use 'wqy-microhei' instead”\n",
            "Warning message in text.default(x1, y1, words[i], cex = size[i], offset = 0, srt = rotWord * :\n",
            "“font family 'Microsoft YaHei' not found, will use 'wqy-microhei' instead”\n",
            "Warning message in text.default(x1, y1, words[i], cex = size[i], offset = 0, srt = rotWord * :\n",
            "“font family 'Microsoft YaHei' not found, will use 'wqy-microhei' instead”\n",
            "Warning message in text.default(x1, y1, words[i], cex = size[i], offset = 0, srt = rotWord * :\n",
            "“font family 'Microsoft YaHei' not found, will use 'wqy-microhei' instead”\n",
            "Warning message in strwidth(words[i], cex = size[i], ...):\n",
            "“font family 'Microsoft YaHei' not found, will use 'wqy-microhei' instead”\n",
            "Warning message in text.default(x1, y1, words[i], cex = size[i], offset = 0, srt = rotWord * :\n",
            "“font family 'Microsoft YaHei' not found, will use 'wqy-microhei' instead”\n",
            "Warning message in text.default(x1, y1, words[i], cex = size[i], offset = 0, srt = rotWord * :\n",
            "“font family 'Microsoft YaHei' not found, will use 'wqy-microhei' instead”\n",
            "Warning message in text.default(x1, y1, words[i], cex = size[i], offset = 0, srt = rotWord * :\n",
            "“font family 'Microsoft YaHei' not found, will use 'wqy-microhei' instead”\n",
            "Warning message in text.default(x1, y1, words[i], cex = size[i], offset = 0, srt = rotWord * :\n",
            "“font family 'Microsoft YaHei' not found, will use 'wqy-microhei' instead”\n",
            "Warning message in strwidth(words[i], cex = size[i], ...):\n",
            "“font family 'Microsoft YaHei' not found, will use 'wqy-microhei' instead”\n",
            "Warning message in text.default(x1, y1, words[i], cex = size[i], offset = 0, srt = rotWord * :\n",
            "“font family 'Microsoft YaHei' not found, will use 'wqy-microhei' instead”\n",
            "Warning message in text.default(x1, y1, words[i], cex = size[i], offset = 0, srt = rotWord * :\n",
            "“font family 'Microsoft YaHei' not found, will use 'wqy-microhei' instead”\n",
            "Warning message in text.default(x1, y1, words[i], cex = size[i], offset = 0, srt = rotWord * :\n",
            "“font family 'Microsoft YaHei' not found, will use 'wqy-microhei' instead”\n",
            "Warning message in text.default(x1, y1, words[i], cex = size[i], offset = 0, srt = rotWord * :\n",
            "“font family 'Microsoft YaHei' not found, will use 'wqy-microhei' instead”\n",
            "Warning message in strwidth(words[i], cex = size[i], ...):\n",
            "“font family 'Microsoft YaHei' not found, will use 'wqy-microhei' instead”\n",
            "Warning message in text.default(x1, y1, words[i], cex = size[i], offset = 0, srt = rotWord * :\n",
            "“font family 'Microsoft YaHei' not found, will use 'wqy-microhei' instead”\n",
            "Warning message in text.default(x1, y1, words[i], cex = size[i], offset = 0, srt = rotWord * :\n",
            "“font family 'Microsoft YaHei' not found, will use 'wqy-microhei' instead”\n",
            "Warning message in text.default(x1, y1, words[i], cex = size[i], offset = 0, srt = rotWord * :\n",
            "“font family 'Microsoft YaHei' not found, will use 'wqy-microhei' instead”\n",
            "Warning message in text.default(x1, y1, words[i], cex = size[i], offset = 0, srt = rotWord * :\n",
            "“font family 'Microsoft YaHei' not found, will use 'wqy-microhei' instead”\n",
            "Warning message in strwidth(words[i], cex = size[i], ...):\n",
            "“font family 'Microsoft YaHei' not found, will use 'wqy-microhei' instead”\n",
            "Warning message in text.default(x1, y1, words[i], cex = size[i], offset = 0, srt = rotWord * :\n",
            "“font family 'Microsoft YaHei' not found, will use 'wqy-microhei' instead”\n",
            "Warning message in text.default(x1, y1, words[i], cex = size[i], offset = 0, srt = rotWord * :\n",
            "“font family 'Microsoft YaHei' not found, will use 'wqy-microhei' instead”\n",
            "Warning message in text.default(x1, y1, words[i], cex = size[i], offset = 0, srt = rotWord * :\n",
            "“font family 'Microsoft YaHei' not found, will use 'wqy-microhei' instead”\n",
            "Warning message in strwidth(words[i], cex = size[i], ...):\n",
            "“font family 'Microsoft YaHei' not found, will use 'wqy-microhei' instead”\n",
            "Warning message in text.default(x1, y1, words[i], cex = size[i], offset = 0, srt = rotWord * :\n",
            "“font family 'Microsoft YaHei' not found, will use 'wqy-microhei' instead”\n",
            "Warning message in text.default(x1, y1, words[i], cex = size[i], offset = 0, srt = rotWord * :\n",
            "“font family 'Microsoft YaHei' not found, will use 'wqy-microhei' instead”\n",
            "Warning message in text.default(x1, y1, words[i], cex = size[i], offset = 0, srt = rotWord * :\n",
            "“font family 'Microsoft YaHei' not found, will use 'wqy-microhei' instead”\n",
            "Warning message in strwidth(words[i], cex = size[i], ...):\n",
            "“font family 'Microsoft YaHei' not found, will use 'wqy-microhei' instead”\n",
            "Warning message in text.default(x1, y1, words[i], cex = size[i], offset = 0, srt = rotWord * :\n",
            "“font family 'Microsoft YaHei' not found, will use 'wqy-microhei' instead”\n",
            "Warning message in text.default(x1, y1, words[i], cex = size[i], offset = 0, srt = rotWord * :\n",
            "“font family 'Microsoft YaHei' not found, will use 'wqy-microhei' instead”\n",
            "Warning message in text.default(x1, y1, words[i], cex = size[i], offset = 0, srt = rotWord * :\n",
            "“font family 'Microsoft YaHei' not found, will use 'wqy-microhei' instead”\n",
            "Warning message in text.default(x1, y1, words[i], cex = size[i], offset = 0, srt = rotWord * :\n",
            "“font family 'Microsoft YaHei' not found, will use 'wqy-microhei' instead”\n",
            "Warning message in strwidth(words[i], cex = size[i], ...):\n",
            "“font family 'Microsoft YaHei' not found, will use 'wqy-microhei' instead”\n",
            "Warning message in text.default(x1, y1, words[i], cex = size[i], offset = 0, srt = rotWord * :\n",
            "“font family 'Microsoft YaHei' not found, will use 'wqy-microhei' instead”\n",
            "Warning message in text.default(x1, y1, words[i], cex = size[i], offset = 0, srt = rotWord * :\n",
            "“font family 'Microsoft YaHei' not found, will use 'wqy-microhei' instead”\n",
            "Warning message in text.default(x1, y1, words[i], cex = size[i], offset = 0, srt = rotWord * :\n",
            "“font family 'Microsoft YaHei' not found, will use 'wqy-microhei' instead”\n",
            "Warning message in strwidth(words[i], cex = size[i], ...):\n",
            "“font family 'Microsoft YaHei' not found, will use 'wqy-microhei' instead”\n",
            "Warning message in text.default(x1, y1, words[i], cex = size[i], offset = 0, srt = rotWord * :\n",
            "“font family 'Microsoft YaHei' not found, will use 'wqy-microhei' instead”\n",
            "Warning message in text.default(x1, y1, words[i], cex = size[i], offset = 0, srt = rotWord * :\n",
            "“font family 'Microsoft YaHei' not found, will use 'wqy-microhei' instead”\n",
            "Warning message in text.default(x1, y1, words[i], cex = size[i], offset = 0, srt = rotWord * :\n",
            "“font family 'Microsoft YaHei' not found, will use 'wqy-microhei' instead”\n",
            "Warning message in text.default(x1, y1, words[i], cex = size[i], offset = 0, srt = rotWord * :\n",
            "“font family 'Microsoft YaHei' not found, will use 'wqy-microhei' instead”\n",
            "Warning message in strwidth(words[i], cex = size[i], ...):\n",
            "“font family 'Microsoft YaHei' not found, will use 'wqy-microhei' instead”\n",
            "Warning message in text.default(x1, y1, words[i], cex = size[i], offset = 0, srt = rotWord * :\n",
            "“font family 'Microsoft YaHei' not found, will use 'wqy-microhei' instead”\n",
            "Warning message in text.default(x1, y1, words[i], cex = size[i], offset = 0, srt = rotWord * :\n",
            "“font family 'Microsoft YaHei' not found, will use 'wqy-microhei' instead”\n",
            "Warning message in text.default(x1, y1, words[i], cex = size[i], offset = 0, srt = rotWord * :\n",
            "“font family 'Microsoft YaHei' not found, will use 'wqy-microhei' instead”\n",
            "Warning message in text.default(x1, y1, words[i], cex = size[i], offset = 0, srt = rotWord * :\n",
            "“font family 'Microsoft YaHei' not found, will use 'wqy-microhei' instead”\n",
            "Warning message in strwidth(words[i], cex = size[i], ...):\n",
            "“font family 'Microsoft YaHei' not found, will use 'wqy-microhei' instead”\n",
            "Warning message in text.default(x1, y1, words[i], cex = size[i], offset = 0, srt = rotWord * :\n",
            "“font family 'Microsoft YaHei' not found, will use 'wqy-microhei' instead”\n",
            "Warning message in text.default(x1, y1, words[i], cex = size[i], offset = 0, srt = rotWord * :\n",
            "“font family 'Microsoft YaHei' not found, will use 'wqy-microhei' instead”\n",
            "Warning message in text.default(x1, y1, words[i], cex = size[i], offset = 0, srt = rotWord * :\n",
            "“font family 'Microsoft YaHei' not found, will use 'wqy-microhei' instead”\n",
            "Warning message in text.default(x1, y1, words[i], cex = size[i], offset = 0, srt = rotWord * :\n",
            "“font family 'Microsoft YaHei' not found, will use 'wqy-microhei' instead”\n",
            "Warning message in strwidth(words[i], cex = size[i], ...):\n",
            "“font family 'Microsoft YaHei' not found, will use 'wqy-microhei' instead”\n",
            "Warning message in text.default(x1, y1, words[i], cex = size[i], offset = 0, srt = rotWord * :\n",
            "“font family 'Microsoft YaHei' not found, will use 'wqy-microhei' instead”\n",
            "Warning message in text.default(x1, y1, words[i], cex = size[i], offset = 0, srt = rotWord * :\n",
            "“font family 'Microsoft YaHei' not found, will use 'wqy-microhei' instead”\n",
            "Warning message in text.default(x1, y1, words[i], cex = size[i], offset = 0, srt = rotWord * :\n",
            "“font family 'Microsoft YaHei' not found, will use 'wqy-microhei' instead”\n",
            "Warning message in text.default(x1, y1, words[i], cex = size[i], offset = 0, srt = rotWord * :\n",
            "“font family 'Microsoft YaHei' not found, will use 'wqy-microhei' instead”\n",
            "Warning message in strwidth(words[i], cex = size[i], ...):\n",
            "“font family 'Microsoft YaHei' not found, will use 'wqy-microhei' instead”\n",
            "Warning message in text.default(x1, y1, words[i], cex = size[i], offset = 0, srt = rotWord * :\n",
            "“font family 'Microsoft YaHei' not found, will use 'wqy-microhei' instead”\n",
            "Warning message in text.default(x1, y1, words[i], cex = size[i], offset = 0, srt = rotWord * :\n",
            "“font family 'Microsoft YaHei' not found, will use 'wqy-microhei' instead”\n",
            "Warning message in text.default(x1, y1, words[i], cex = size[i], offset = 0, srt = rotWord * :\n",
            "“font family 'Microsoft YaHei' not found, will use 'wqy-microhei' instead”\n",
            "Warning message in text.default(x1, y1, words[i], cex = size[i], offset = 0, srt = rotWord * :\n",
            "“font family 'Microsoft YaHei' not found, will use 'wqy-microhei' instead”\n",
            "Warning message in strwidth(words[i], cex = size[i], ...):\n",
            "“font family 'Microsoft YaHei' not found, will use 'wqy-microhei' instead”\n",
            "Warning message in text.default(x1, y1, words[i], cex = size[i], offset = 0, srt = rotWord * :\n",
            "“font family 'Microsoft YaHei' not found, will use 'wqy-microhei' instead”\n",
            "Warning message in text.default(x1, y1, words[i], cex = size[i], offset = 0, srt = rotWord * :\n",
            "“font family 'Microsoft YaHei' not found, will use 'wqy-microhei' instead”\n",
            "Warning message in text.default(x1, y1, words[i], cex = size[i], offset = 0, srt = rotWord * :\n",
            "“font family 'Microsoft YaHei' not found, will use 'wqy-microhei' instead”\n",
            "Warning message in text.default(x1, y1, words[i], cex = size[i], offset = 0, srt = rotWord * :\n",
            "“font family 'Microsoft YaHei' not found, will use 'wqy-microhei' instead”\n",
            "Warning message in strwidth(words[i], cex = size[i], ...):\n",
            "“font family 'Microsoft YaHei' not found, will use 'wqy-microhei' instead”\n",
            "Warning message in text.default(x1, y1, words[i], cex = size[i], offset = 0, srt = rotWord * :\n",
            "“font family 'Microsoft YaHei' not found, will use 'wqy-microhei' instead”\n",
            "Warning message in text.default(x1, y1, words[i], cex = size[i], offset = 0, srt = rotWord * :\n",
            "“font family 'Microsoft YaHei' not found, will use 'wqy-microhei' instead”\n",
            "Warning message in text.default(x1, y1, words[i], cex = size[i], offset = 0, srt = rotWord * :\n",
            "“font family 'Microsoft YaHei' not found, will use 'wqy-microhei' instead”\n",
            "Warning message in text.default(x1, y1, words[i], cex = size[i], offset = 0, srt = rotWord * :\n",
            "“font family 'Microsoft YaHei' not found, will use 'wqy-microhei' instead”\n",
            "Warning message in strwidth(words[i], cex = size[i], ...):\n",
            "“font family 'Microsoft YaHei' not found, will use 'wqy-microhei' instead”\n",
            "Warning message in text.default(x1, y1, words[i], cex = size[i], offset = 0, srt = rotWord * :\n",
            "“font family 'Microsoft YaHei' not found, will use 'wqy-microhei' instead”\n",
            "Warning message in text.default(x1, y1, words[i], cex = size[i], offset = 0, srt = rotWord * :\n",
            "“font family 'Microsoft YaHei' not found, will use 'wqy-microhei' instead”\n",
            "Warning message in text.default(x1, y1, words[i], cex = size[i], offset = 0, srt = rotWord * :\n",
            "“font family 'Microsoft YaHei' not found, will use 'wqy-microhei' instead”\n",
            "Warning message in text.default(x1, y1, words[i], cex = size[i], offset = 0, srt = rotWord * :\n",
            "“font family 'Microsoft YaHei' not found, will use 'wqy-microhei' instead”\n",
            "Warning message in strwidth(words[i], cex = size[i], ...):\n",
            "“font family 'Microsoft YaHei' not found, will use 'wqy-microhei' instead”\n",
            "Warning message in strheight(words[i], cex = size[i], ...):\n",
            "“font family 'Microsoft YaHei' not found, will use 'sans' instead”\n",
            "Warning message in text.default(x1, y1, words[i], cex = size[i], offset = 0, srt = rotWord * :\n",
            "“font family 'Microsoft YaHei' not found, will use 'wqy-microhei' instead”\n",
            "Warning message in text.default(x1, y1, words[i], cex = size[i], offset = 0, srt = rotWord * :\n",
            "“font family 'Microsoft YaHei' not found, will use 'wqy-microhei' instead”\n",
            "Warning message in text.default(x1, y1, words[i], cex = size[i], offset = 0, srt = rotWord * :\n",
            "“font family 'Microsoft YaHei' not found, will use 'wqy-microhei' instead”\n",
            "Warning message in text.default(x1, y1, words[i], cex = size[i], offset = 0, srt = rotWord * :\n",
            "“font family 'Microsoft YaHei' not found, will use 'wqy-microhei' instead”\n",
            "Warning message in strwidth(words[i], cex = size[i], ...):\n",
            "“font family 'Microsoft YaHei' not found, will use 'wqy-microhei' instead”\n",
            "Warning message in text.default(x1, y1, words[i], cex = size[i], offset = 0, srt = rotWord * :\n",
            "“font family 'Microsoft YaHei' not found, will use 'wqy-microhei' instead”\n",
            "Warning message in text.default(x1, y1, words[i], cex = size[i], offset = 0, srt = rotWord * :\n",
            "“font family 'Microsoft YaHei' not found, will use 'wqy-microhei' instead”\n",
            "Warning message in text.default(x1, y1, words[i], cex = size[i], offset = 0, srt = rotWord * :\n",
            "“font family 'Microsoft YaHei' not found, will use 'wqy-microhei' instead”\n",
            "Warning message in text.default(x1, y1, words[i], cex = size[i], offset = 0, srt = rotWord * :\n",
            "“font family 'Microsoft YaHei' not found, will use 'wqy-microhei' instead”\n",
            "Warning message in strwidth(words[i], cex = size[i], ...):\n",
            "“font family 'Microsoft YaHei' not found, will use 'wqy-microhei' instead”\n",
            "Warning message in text.default(x1, y1, words[i], cex = size[i], offset = 0, srt = rotWord * :\n",
            "“font family 'Microsoft YaHei' not found, will use 'wqy-microhei' instead”\n",
            "Warning message in text.default(x1, y1, words[i], cex = size[i], offset = 0, srt = rotWord * :\n",
            "“font family 'Microsoft YaHei' not found, will use 'wqy-microhei' instead”\n",
            "Warning message in text.default(x1, y1, words[i], cex = size[i], offset = 0, srt = rotWord * :\n",
            "“font family 'Microsoft YaHei' not found, will use 'wqy-microhei' instead”\n",
            "Warning message in text.default(x1, y1, words[i], cex = size[i], offset = 0, srt = rotWord * :\n",
            "“font family 'Microsoft YaHei' not found, will use 'wqy-microhei' instead”\n",
            "Warning message in strwidth(words[i], cex = size[i], ...):\n",
            "“font family 'Microsoft YaHei' not found, will use 'wqy-microhei' instead”\n",
            "Warning message in text.default(x1, y1, words[i], cex = size[i], offset = 0, srt = rotWord * :\n",
            "“font family 'Microsoft YaHei' not found, will use 'wqy-microhei' instead”\n",
            "Warning message in text.default(x1, y1, words[i], cex = size[i], offset = 0, srt = rotWord * :\n",
            "“font family 'Microsoft YaHei' not found, will use 'wqy-microhei' instead”\n",
            "Warning message in text.default(x1, y1, words[i], cex = size[i], offset = 0, srt = rotWord * :\n",
            "“font family 'Microsoft YaHei' not found, will use 'wqy-microhei' instead”\n",
            "Warning message in text.default(x1, y1, words[i], cex = size[i], offset = 0, srt = rotWord * :\n",
            "“font family 'Microsoft YaHei' not found, will use 'wqy-microhei' instead”\n",
            "Warning message in text.default(x1, y1, words[i], cex = size[i], offset = 0, srt = rotWord * :\n",
            "“font family 'Microsoft YaHei' not found, will use 'wqy-microhei' instead”\n",
            "Warning message in strwidth(words[i], cex = size[i], ...):\n",
            "“font family 'Microsoft YaHei' not found, will use 'wqy-microhei' instead”\n",
            "Warning message in text.default(x1, y1, words[i], cex = size[i], offset = 0, srt = rotWord * :\n",
            "“font family 'Microsoft YaHei' not found, will use 'wqy-microhei' instead”\n",
            "Warning message in text.default(x1, y1, words[i], cex = size[i], offset = 0, srt = rotWord * :\n",
            "“font family 'Microsoft YaHei' not found, will use 'wqy-microhei' instead”\n",
            "Warning message in text.default(x1, y1, words[i], cex = size[i], offset = 0, srt = rotWord * :\n",
            "“font family 'Microsoft YaHei' not found, will use 'wqy-microhei' instead”\n",
            "Warning message in text.default(x1, y1, words[i], cex = size[i], offset = 0, srt = rotWord * :\n",
            "“font family 'Microsoft YaHei' not found, will use 'wqy-microhei' instead”\n",
            "Warning message in strwidth(words[i], cex = size[i], ...):\n",
            "“font family 'Microsoft YaHei' not found, will use 'wqy-microhei' instead”\n",
            "Warning message in text.default(x1, y1, words[i], cex = size[i], offset = 0, srt = rotWord * :\n",
            "“font family 'Microsoft YaHei' not found, will use 'wqy-microhei' instead”\n",
            "Warning message in text.default(x1, y1, words[i], cex = size[i], offset = 0, srt = rotWord * :\n",
            "“font family 'Microsoft YaHei' not found, will use 'wqy-microhei' instead”\n",
            "Warning message in text.default(x1, y1, words[i], cex = size[i], offset = 0, srt = rotWord * :\n",
            "“font family 'Microsoft YaHei' not found, will use 'wqy-microhei' instead”\n",
            "Warning message in text.default(x1, y1, words[i], cex = size[i], offset = 0, srt = rotWord * :\n",
            "“font family 'Microsoft YaHei' not found, will use 'wqy-microhei' instead”\n",
            "Warning message in strwidth(words[i], cex = size[i], ...):\n",
            "“font family 'Microsoft YaHei' not found, will use 'wqy-microhei' instead”\n",
            "Warning message in text.default(x1, y1, words[i], cex = size[i], offset = 0, srt = rotWord * :\n",
            "“font family 'Microsoft YaHei' not found, will use 'wqy-microhei' instead”\n",
            "Warning message in text.default(x1, y1, words[i], cex = size[i], offset = 0, srt = rotWord * :\n",
            "“font family 'Microsoft YaHei' not found, will use 'wqy-microhei' instead”\n",
            "Warning message in text.default(x1, y1, words[i], cex = size[i], offset = 0, srt = rotWord * :\n",
            "“font family 'Microsoft YaHei' not found, will use 'wqy-microhei' instead”\n",
            "Warning message in strwidth(words[i], cex = size[i], ...):\n",
            "“font family 'Microsoft YaHei' not found, will use 'wqy-microhei' instead”\n",
            "Warning message in text.default(x1, y1, words[i], cex = size[i], offset = 0, srt = rotWord * :\n",
            "“font family 'Microsoft YaHei' not found, will use 'wqy-microhei' instead”\n",
            "Warning message in text.default(x1, y1, words[i], cex = size[i], offset = 0, srt = rotWord * :\n",
            "“font family 'Microsoft YaHei' not found, will use 'wqy-microhei' instead”\n",
            "Warning message in text.default(x1, y1, words[i], cex = size[i], offset = 0, srt = rotWord * :\n",
            "“font family 'Microsoft YaHei' not found, will use 'wqy-microhei' instead”\n",
            "Warning message in strwidth(words[i], cex = size[i], ...):\n",
            "“font family 'Microsoft YaHei' not found, will use 'wqy-microhei' instead”\n",
            "Warning message in text.default(x1, y1, words[i], cex = size[i], offset = 0, srt = rotWord * :\n",
            "“font family 'Microsoft YaHei' not found, will use 'wqy-microhei' instead”\n",
            "Warning message in text.default(x1, y1, words[i], cex = size[i], offset = 0, srt = rotWord * :\n",
            "“font family 'Microsoft YaHei' not found, will use 'wqy-microhei' instead”\n",
            "Warning message in text.default(x1, y1, words[i], cex = size[i], offset = 0, srt = rotWord * :\n",
            "“font family 'Microsoft YaHei' not found, will use 'wqy-microhei' instead”\n",
            "Warning message in strwidth(words[i], cex = size[i], ...):\n",
            "“font family 'Microsoft YaHei' not found, will use 'wqy-microhei' instead”\n",
            "Warning message in text.default(x1, y1, words[i], cex = size[i], offset = 0, srt = rotWord * :\n",
            "“font family 'Microsoft YaHei' not found, will use 'wqy-microhei' instead”\n",
            "Warning message in text.default(x1, y1, words[i], cex = size[i], offset = 0, srt = rotWord * :\n",
            "“font family 'Microsoft YaHei' not found, will use 'wqy-microhei' instead”\n",
            "Warning message in text.default(x1, y1, words[i], cex = size[i], offset = 0, srt = rotWord * :\n",
            "“font family 'Microsoft YaHei' not found, will use 'wqy-microhei' instead”\n",
            "Warning message in text.default(x1, y1, words[i], cex = size[i], offset = 0, srt = rotWord * :\n",
            "“font family 'Microsoft YaHei' not found, will use 'wqy-microhei' instead”\n",
            "Warning message in strwidth(words[i], cex = size[i], ...):\n",
            "“font family 'Microsoft YaHei' not found, will use 'wqy-microhei' instead”\n",
            "Warning message in text.default(x1, y1, words[i], cex = size[i], offset = 0, srt = rotWord * :\n",
            "“font family 'Microsoft YaHei' not found, will use 'wqy-microhei' instead”\n",
            "Warning message in text.default(x1, y1, words[i], cex = size[i], offset = 0, srt = rotWord * :\n",
            "“font family 'Microsoft YaHei' not found, will use 'wqy-microhei' instead”\n",
            "Warning message in text.default(x1, y1, words[i], cex = size[i], offset = 0, srt = rotWord * :\n",
            "“font family 'Microsoft YaHei' not found, will use 'wqy-microhei' instead”\n",
            "Warning message in strwidth(words[i], cex = size[i], ...):\n",
            "“font family 'Microsoft YaHei' not found, will use 'wqy-microhei' instead”\n",
            "Warning message in text.default(x1, y1, words[i], cex = size[i], offset = 0, srt = rotWord * :\n",
            "“font family 'Microsoft YaHei' not found, will use 'wqy-microhei' instead”\n",
            "Warning message in text.default(x1, y1, words[i], cex = size[i], offset = 0, srt = rotWord * :\n",
            "“font family 'Microsoft YaHei' not found, will use 'wqy-microhei' instead”\n",
            "Warning message in text.default(x1, y1, words[i], cex = size[i], offset = 0, srt = rotWord * :\n",
            "“font family 'Microsoft YaHei' not found, will use 'wqy-microhei' instead”\n",
            "Warning message in text.default(x1, y1, words[i], cex = size[i], offset = 0, srt = rotWord * :\n",
            "“font family 'Microsoft YaHei' not found, will use 'wqy-microhei' instead”\n",
            "Warning message in text.default(x1, y1, words[i], cex = size[i], offset = 0, srt = rotWord * :\n",
            "“font family 'Microsoft YaHei' not found, will use 'wqy-microhei' instead”\n",
            "Warning message in strwidth(words[i], cex = size[i], ...):\n",
            "“font family 'Microsoft YaHei' not found, will use 'wqy-microhei' instead”\n",
            "Warning message in text.default(x1, y1, words[i], cex = size[i], offset = 0, srt = rotWord * :\n",
            "“font family 'Microsoft YaHei' not found, will use 'wqy-microhei' instead”\n",
            "Warning message in text.default(x1, y1, words[i], cex = size[i], offset = 0, srt = rotWord * :\n",
            "“font family 'Microsoft YaHei' not found, will use 'wqy-microhei' instead”\n",
            "Warning message in text.default(x1, y1, words[i], cex = size[i], offset = 0, srt = rotWord * :\n",
            "“font family 'Microsoft YaHei' not found, will use 'wqy-microhei' instead”\n",
            "Warning message in strwidth(words[i], cex = size[i], ...):\n",
            "“font family 'Microsoft YaHei' not found, will use 'wqy-microhei' instead”\n",
            "Warning message in text.default(x1, y1, words[i], cex = size[i], offset = 0, srt = rotWord * :\n",
            "“font family 'Microsoft YaHei' not found, will use 'wqy-microhei' instead”\n",
            "Warning message in text.default(x1, y1, words[i], cex = size[i], offset = 0, srt = rotWord * :\n",
            "“font family 'Microsoft YaHei' not found, will use 'wqy-microhei' instead”\n",
            "Warning message in text.default(x1, y1, words[i], cex = size[i], offset = 0, srt = rotWord * :\n",
            "“font family 'Microsoft YaHei' not found, will use 'wqy-microhei' instead”\n",
            "Warning message in text.default(x1, y1, words[i], cex = size[i], offset = 0, srt = rotWord * :\n",
            "“font family 'Microsoft YaHei' not found, will use 'wqy-microhei' instead”\n",
            "Warning message in strwidth(words[i], cex = size[i], ...):\n",
            "“font family 'Microsoft YaHei' not found, will use 'wqy-microhei' instead”\n",
            "Warning message in text.default(x1, y1, words[i], cex = size[i], offset = 0, srt = rotWord * :\n",
            "“font family 'Microsoft YaHei' not found, will use 'wqy-microhei' instead”\n",
            "Warning message in text.default(x1, y1, words[i], cex = size[i], offset = 0, srt = rotWord * :\n",
            "“font family 'Microsoft YaHei' not found, will use 'wqy-microhei' instead”\n",
            "Warning message in text.default(x1, y1, words[i], cex = size[i], offset = 0, srt = rotWord * :\n",
            "“font family 'Microsoft YaHei' not found, will use 'wqy-microhei' instead”\n",
            "Warning message in strwidth(words[i], cex = size[i], ...):\n",
            "“font family 'Microsoft YaHei' not found, will use 'wqy-microhei' instead”\n",
            "Warning message in text.default(x1, y1, words[i], cex = size[i], offset = 0, srt = rotWord * :\n",
            "“font family 'Microsoft YaHei' not found, will use 'wqy-microhei' instead”\n",
            "Warning message in text.default(x1, y1, words[i], cex = size[i], offset = 0, srt = rotWord * :\n",
            "“font family 'Microsoft YaHei' not found, will use 'wqy-microhei' instead”\n",
            "Warning message in text.default(x1, y1, words[i], cex = size[i], offset = 0, srt = rotWord * :\n",
            "“font family 'Microsoft YaHei' not found, will use 'wqy-microhei' instead”\n",
            "Warning message in text.default(x1, y1, words[i], cex = size[i], offset = 0, srt = rotWord * :\n",
            "“font family 'Microsoft YaHei' not found, will use 'wqy-microhei' instead”\n",
            "Warning message in strwidth(words[i], cex = size[i], ...):\n",
            "“font family 'Microsoft YaHei' not found, will use 'wqy-microhei' instead”\n",
            "Warning message in text.default(x1, y1, words[i], cex = size[i], offset = 0, srt = rotWord * :\n",
            "“font family 'Microsoft YaHei' not found, will use 'wqy-microhei' instead”\n",
            "Warning message in text.default(x1, y1, words[i], cex = size[i], offset = 0, srt = rotWord * :\n",
            "“font family 'Microsoft YaHei' not found, will use 'wqy-microhei' instead”\n",
            "Warning message in text.default(x1, y1, words[i], cex = size[i], offset = 0, srt = rotWord * :\n",
            "“font family 'Microsoft YaHei' not found, will use 'wqy-microhei' instead”\n",
            "Warning message in strwidth(words[i], cex = size[i], ...):\n",
            "“font family 'Microsoft YaHei' not found, will use 'wqy-microhei' instead”\n",
            "Warning message in text.default(x1, y1, words[i], cex = size[i], offset = 0, srt = rotWord * :\n",
            "“font family 'Microsoft YaHei' not found, will use 'wqy-microhei' instead”\n",
            "Warning message in text.default(x1, y1, words[i], cex = size[i], offset = 0, srt = rotWord * :\n",
            "“font family 'Microsoft YaHei' not found, will use 'wqy-microhei' instead”\n",
            "Warning message in text.default(x1, y1, words[i], cex = size[i], offset = 0, srt = rotWord * :\n",
            "“font family 'Microsoft YaHei' not found, will use 'wqy-microhei' instead”\n",
            "Warning message in text.default(x1, y1, words[i], cex = size[i], offset = 0, srt = rotWord * :\n",
            "“font family 'Microsoft YaHei' not found, will use 'wqy-microhei' instead”\n",
            "Warning message in strwidth(words[i], cex = size[i], ...):\n",
            "“font family 'Microsoft YaHei' not found, will use 'wqy-microhei' instead”\n",
            "Warning message in text.default(x1, y1, words[i], cex = size[i], offset = 0, srt = rotWord * :\n",
            "“font family 'Microsoft YaHei' not found, will use 'wqy-microhei' instead”\n",
            "Warning message in text.default(x1, y1, words[i], cex = size[i], offset = 0, srt = rotWord * :\n",
            "“font family 'Microsoft YaHei' not found, will use 'wqy-microhei' instead”\n",
            "Warning message in text.default(x1, y1, words[i], cex = size[i], offset = 0, srt = rotWord * :\n",
            "“font family 'Microsoft YaHei' not found, will use 'wqy-microhei' instead”\n",
            "Warning message in text.default(x1, y1, words[i], cex = size[i], offset = 0, srt = rotWord * :\n",
            "“font family 'Microsoft YaHei' not found, will use 'wqy-microhei' instead”\n",
            "Warning message in strwidth(words[i], cex = size[i], ...):\n",
            "“font family 'Microsoft YaHei' not found, will use 'wqy-microhei' instead”\n",
            "Warning message in text.default(x1, y1, words[i], cex = size[i], offset = 0, srt = rotWord * :\n",
            "“font family 'Microsoft YaHei' not found, will use 'wqy-microhei' instead”\n",
            "Warning message in text.default(x1, y1, words[i], cex = size[i], offset = 0, srt = rotWord * :\n",
            "“font family 'Microsoft YaHei' not found, will use 'wqy-microhei' instead”\n",
            "Warning message in text.default(x1, y1, words[i], cex = size[i], offset = 0, srt = rotWord * :\n",
            "“font family 'Microsoft YaHei' not found, will use 'wqy-microhei' instead”\n",
            "Warning message in text.default(x1, y1, words[i], cex = size[i], offset = 0, srt = rotWord * :\n",
            "“font family 'Microsoft YaHei' not found, will use 'wqy-microhei' instead”\n",
            "Warning message in strwidth(words[i], cex = size[i], ...):\n",
            "“font family 'Microsoft YaHei' not found, will use 'wqy-microhei' instead”\n",
            "Warning message in text.default(x1, y1, words[i], cex = size[i], offset = 0, srt = rotWord * :\n",
            "“font family 'Microsoft YaHei' not found, will use 'wqy-microhei' instead”\n",
            "Warning message in text.default(x1, y1, words[i], cex = size[i], offset = 0, srt = rotWord * :\n",
            "“font family 'Microsoft YaHei' not found, will use 'wqy-microhei' instead”\n",
            "Warning message in text.default(x1, y1, words[i], cex = size[i], offset = 0, srt = rotWord * :\n",
            "“font family 'Microsoft YaHei' not found, will use 'wqy-microhei' instead”\n",
            "Warning message in text.default(x1, y1, words[i], cex = size[i], offset = 0, srt = rotWord * :\n",
            "“font family 'Microsoft YaHei' not found, will use 'wqy-microhei' instead”\n",
            "Warning message in strwidth(words[i], cex = size[i], ...):\n",
            "“font family 'Microsoft YaHei' not found, will use 'wqy-microhei' instead”\n",
            "Warning message in text.default(x1, y1, words[i], cex = size[i], offset = 0, srt = rotWord * :\n",
            "“font family 'Microsoft YaHei' not found, will use 'wqy-microhei' instead”\n",
            "Warning message in text.default(x1, y1, words[i], cex = size[i], offset = 0, srt = rotWord * :\n",
            "“font family 'Microsoft YaHei' not found, will use 'wqy-microhei' instead”\n",
            "Warning message in text.default(x1, y1, words[i], cex = size[i], offset = 0, srt = rotWord * :\n",
            "“font family 'Microsoft YaHei' not found, will use 'wqy-microhei' instead”\n",
            "Warning message in text.default(x1, y1, words[i], cex = size[i], offset = 0, srt = rotWord * :\n",
            "“font family 'Microsoft YaHei' not found, will use 'wqy-microhei' instead”\n",
            "Warning message in strwidth(words[i], cex = size[i], ...):\n",
            "“font family 'Microsoft YaHei' not found, will use 'wqy-microhei' instead”\n",
            "Warning message in text.default(x1, y1, words[i], cex = size[i], offset = 0, srt = rotWord * :\n",
            "“font family 'Microsoft YaHei' not found, will use 'wqy-microhei' instead”\n",
            "Warning message in text.default(x1, y1, words[i], cex = size[i], offset = 0, srt = rotWord * :\n",
            "“font family 'Microsoft YaHei' not found, will use 'wqy-microhei' instead”\n",
            "Warning message in text.default(x1, y1, words[i], cex = size[i], offset = 0, srt = rotWord * :\n",
            "“font family 'Microsoft YaHei' not found, will use 'wqy-microhei' instead”\n",
            "Warning message in strwidth(words[i], cex = size[i], ...):\n",
            "“font family 'Microsoft YaHei' not found, will use 'wqy-microhei' instead”\n",
            "Warning message in text.default(x1, y1, words[i], cex = size[i], offset = 0, srt = rotWord * :\n",
            "“font family 'Microsoft YaHei' not found, will use 'wqy-microhei' instead”\n",
            "Warning message in text.default(x1, y1, words[i], cex = size[i], offset = 0, srt = rotWord * :\n",
            "“font family 'Microsoft YaHei' not found, will use 'wqy-microhei' instead”\n",
            "Warning message in text.default(x1, y1, words[i], cex = size[i], offset = 0, srt = rotWord * :\n",
            "“font family 'Microsoft YaHei' not found, will use 'wqy-microhei' instead”\n",
            "Warning message in strwidth(words[i], cex = size[i], ...):\n",
            "“font family 'Microsoft YaHei' not found, will use 'wqy-microhei' instead”\n",
            "Warning message in text.default(x1, y1, words[i], cex = size[i], offset = 0, srt = rotWord * :\n",
            "“font family 'Microsoft YaHei' not found, will use 'wqy-microhei' instead”\n",
            "Warning message in text.default(x1, y1, words[i], cex = size[i], offset = 0, srt = rotWord * :\n",
            "“font family 'Microsoft YaHei' not found, will use 'wqy-microhei' instead”\n",
            "Warning message in text.default(x1, y1, words[i], cex = size[i], offset = 0, srt = rotWord * :\n",
            "“font family 'Microsoft YaHei' not found, will use 'wqy-microhei' instead”\n",
            "Warning message in strwidth(words[i], cex = size[i], ...):\n",
            "“font family 'Microsoft YaHei' not found, will use 'wqy-microhei' instead”\n",
            "Warning message in text.default(x1, y1, words[i], cex = size[i], offset = 0, srt = rotWord * :\n",
            "“font family 'Microsoft YaHei' not found, will use 'wqy-microhei' instead”\n",
            "Warning message in text.default(x1, y1, words[i], cex = size[i], offset = 0, srt = rotWord * :\n",
            "“font family 'Microsoft YaHei' not found, will use 'wqy-microhei' instead”\n",
            "Warning message in text.default(x1, y1, words[i], cex = size[i], offset = 0, srt = rotWord * :\n",
            "“font family 'Microsoft YaHei' not found, will use 'wqy-microhei' instead”\n",
            "Warning message in text.default(x1, y1, words[i], cex = size[i], offset = 0, srt = rotWord * :\n",
            "“font family 'Microsoft YaHei' not found, will use 'wqy-microhei' instead”\n",
            "Warning message in strwidth(words[i], cex = size[i], ...):\n",
            "“font family 'Microsoft YaHei' not found, will use 'wqy-microhei' instead”\n",
            "Warning message in text.default(x1, y1, words[i], cex = size[i], offset = 0, srt = rotWord * :\n",
            "“font family 'Microsoft YaHei' not found, will use 'wqy-microhei' instead”\n",
            "Warning message in text.default(x1, y1, words[i], cex = size[i], offset = 0, srt = rotWord * :\n",
            "“font family 'Microsoft YaHei' not found, will use 'wqy-microhei' instead”\n",
            "Warning message in text.default(x1, y1, words[i], cex = size[i], offset = 0, srt = rotWord * :\n",
            "“font family 'Microsoft YaHei' not found, will use 'wqy-microhei' instead”\n",
            "Warning message in text.default(x1, y1, words[i], cex = size[i], offset = 0, srt = rotWord * :\n",
            "“font family 'Microsoft YaHei' not found, will use 'wqy-microhei' instead”\n",
            "Warning message in strwidth(words[i], cex = size[i], ...):\n",
            "“font family 'Microsoft YaHei' not found, will use 'wqy-microhei' instead”\n",
            "Warning message in text.default(x1, y1, words[i], cex = size[i], offset = 0, srt = rotWord * :\n",
            "“font family 'Microsoft YaHei' not found, will use 'wqy-microhei' instead”\n",
            "Warning message in text.default(x1, y1, words[i], cex = size[i], offset = 0, srt = rotWord * :\n",
            "“font family 'Microsoft YaHei' not found, will use 'wqy-microhei' instead”\n",
            "Warning message in text.default(x1, y1, words[i], cex = size[i], offset = 0, srt = rotWord * :\n",
            "“font family 'Microsoft YaHei' not found, will use 'wqy-microhei' instead”\n",
            "Warning message in text.default(x1, y1, words[i], cex = size[i], offset = 0, srt = rotWord * :\n",
            "“font family 'Microsoft YaHei' not found, will use 'wqy-microhei' instead”\n",
            "Warning message in strwidth(words[i], cex = size[i], ...):\n",
            "“font family 'Microsoft YaHei' not found, will use 'wqy-microhei' instead”\n",
            "Warning message in text.default(x1, y1, words[i], cex = size[i], offset = 0, srt = rotWord * :\n",
            "“font family 'Microsoft YaHei' not found, will use 'wqy-microhei' instead”\n",
            "Warning message in text.default(x1, y1, words[i], cex = size[i], offset = 0, srt = rotWord * :\n",
            "“font family 'Microsoft YaHei' not found, will use 'wqy-microhei' instead”\n",
            "Warning message in text.default(x1, y1, words[i], cex = size[i], offset = 0, srt = rotWord * :\n",
            "“font family 'Microsoft YaHei' not found, will use 'wqy-microhei' instead”\n",
            "Warning message in strwidth(words[i], cex = size[i], ...):\n",
            "“font family 'Microsoft YaHei' not found, will use 'wqy-microhei' instead”\n",
            "Warning message in text.default(x1, y1, words[i], cex = size[i], offset = 0, srt = rotWord * :\n",
            "“font family 'Microsoft YaHei' not found, will use 'wqy-microhei' instead”\n",
            "Warning message in text.default(x1, y1, words[i], cex = size[i], offset = 0, srt = rotWord * :\n",
            "“font family 'Microsoft YaHei' not found, will use 'wqy-microhei' instead”\n",
            "Warning message in text.default(x1, y1, words[i], cex = size[i], offset = 0, srt = rotWord * :\n",
            "“font family 'Microsoft YaHei' not found, will use 'wqy-microhei' instead”\n",
            "Warning message in text.default(x1, y1, words[i], cex = size[i], offset = 0, srt = rotWord * :\n",
            "“font family 'Microsoft YaHei' not found, will use 'wqy-microhei' instead”\n",
            "Warning message in strwidth(words[i], cex = size[i], ...):\n",
            "“font family 'Microsoft YaHei' not found, will use 'wqy-microhei' instead”\n",
            "Warning message in text.default(x1, y1, words[i], cex = size[i], offset = 0, srt = rotWord * :\n",
            "“font family 'Microsoft YaHei' not found, will use 'wqy-microhei' instead”\n",
            "Warning message in text.default(x1, y1, words[i], cex = size[i], offset = 0, srt = rotWord * :\n",
            "“font family 'Microsoft YaHei' not found, will use 'wqy-microhei' instead”\n",
            "Warning message in text.default(x1, y1, words[i], cex = size[i], offset = 0, srt = rotWord * :\n",
            "“font family 'Microsoft YaHei' not found, will use 'wqy-microhei' instead”\n",
            "Warning message in text.default(x1, y1, words[i], cex = size[i], offset = 0, srt = rotWord * :\n",
            "“font family 'Microsoft YaHei' not found, will use 'wqy-microhei' instead”\n",
            "Warning message in strwidth(words[i], cex = size[i], ...):\n",
            "“font family 'Microsoft YaHei' not found, will use 'wqy-microhei' instead”\n",
            "Warning message in text.default(x1, y1, words[i], cex = size[i], offset = 0, srt = rotWord * :\n",
            "“font family 'Microsoft YaHei' not found, will use 'wqy-microhei' instead”\n",
            "Warning message in text.default(x1, y1, words[i], cex = size[i], offset = 0, srt = rotWord * :\n",
            "“font family 'Microsoft YaHei' not found, will use 'wqy-microhei' instead”\n",
            "Warning message in text.default(x1, y1, words[i], cex = size[i], offset = 0, srt = rotWord * :\n",
            "“font family 'Microsoft YaHei' not found, will use 'wqy-microhei' instead”\n",
            "Warning message in text.default(x1, y1, words[i], cex = size[i], offset = 0, srt = rotWord * :\n",
            "“font family 'Microsoft YaHei' not found, will use 'wqy-microhei' instead”\n",
            "Warning message in strwidth(words[i], cex = size[i], ...):\n",
            "“font family 'Microsoft YaHei' not found, will use 'wqy-microhei' instead”\n",
            "Warning message in text.default(x1, y1, words[i], cex = size[i], offset = 0, srt = rotWord * :\n",
            "“font family 'Microsoft YaHei' not found, will use 'wqy-microhei' instead”\n",
            "Warning message in text.default(x1, y1, words[i], cex = size[i], offset = 0, srt = rotWord * :\n",
            "“font family 'Microsoft YaHei' not found, will use 'wqy-microhei' instead”\n",
            "Warning message in text.default(x1, y1, words[i], cex = size[i], offset = 0, srt = rotWord * :\n",
            "“font family 'Microsoft YaHei' not found, will use 'wqy-microhei' instead”\n",
            "Warning message in text.default(x1, y1, words[i], cex = size[i], offset = 0, srt = rotWord * :\n",
            "“font family 'Microsoft YaHei' not found, will use 'wqy-microhei' instead”\n",
            "Warning message in strwidth(words[i], cex = size[i], ...):\n",
            "“font family 'Microsoft YaHei' not found, will use 'wqy-microhei' instead”\n",
            "Warning message in text.default(x1, y1, words[i], cex = size[i], offset = 0, srt = rotWord * :\n",
            "“font family 'Microsoft YaHei' not found, will use 'wqy-microhei' instead”\n",
            "Warning message in text.default(x1, y1, words[i], cex = size[i], offset = 0, srt = rotWord * :\n",
            "“font family 'Microsoft YaHei' not found, will use 'wqy-microhei' instead”\n",
            "Warning message in text.default(x1, y1, words[i], cex = size[i], offset = 0, srt = rotWord * :\n",
            "“font family 'Microsoft YaHei' not found, will use 'wqy-microhei' instead”\n",
            "Warning message in strwidth(words[i], cex = size[i], ...):\n",
            "“font family 'Microsoft YaHei' not found, will use 'wqy-microhei' instead”\n",
            "Warning message in text.default(x1, y1, words[i], cex = size[i], offset = 0, srt = rotWord * :\n",
            "“font family 'Microsoft YaHei' not found, will use 'wqy-microhei' instead”\n",
            "Warning message in text.default(x1, y1, words[i], cex = size[i], offset = 0, srt = rotWord * :\n",
            "“font family 'Microsoft YaHei' not found, will use 'wqy-microhei' instead”\n",
            "Warning message in text.default(x1, y1, words[i], cex = size[i], offset = 0, srt = rotWord * :\n",
            "“font family 'Microsoft YaHei' not found, will use 'wqy-microhei' instead”\n",
            "Warning message in strwidth(words[i], cex = size[i], ...):\n",
            "“font family 'Microsoft YaHei' not found, will use 'wqy-microhei' instead”\n",
            "Warning message in text.default(x1, y1, words[i], cex = size[i], offset = 0, srt = rotWord * :\n",
            "“font family 'Microsoft YaHei' not found, will use 'wqy-microhei' instead”\n",
            "Warning message in text.default(x1, y1, words[i], cex = size[i], offset = 0, srt = rotWord * :\n",
            "“font family 'Microsoft YaHei' not found, will use 'wqy-microhei' instead”\n",
            "Warning message in text.default(x1, y1, words[i], cex = size[i], offset = 0, srt = rotWord * :\n",
            "“font family 'Microsoft YaHei' not found, will use 'wqy-microhei' instead”\n",
            "Warning message in text.default(x1, y1, words[i], cex = size[i], offset = 0, srt = rotWord * :\n",
            "“font family 'Microsoft YaHei' not found, will use 'wqy-microhei' instead”\n",
            "Warning message in strwidth(words[i], cex = size[i], ...):\n",
            "“font family 'Microsoft YaHei' not found, will use 'wqy-microhei' instead”\n",
            "Warning message in text.default(x1, y1, words[i], cex = size[i], offset = 0, srt = rotWord * :\n",
            "“font family 'Microsoft YaHei' not found, will use 'wqy-microhei' instead”\n",
            "Warning message in text.default(x1, y1, words[i], cex = size[i], offset = 0, srt = rotWord * :\n",
            "“font family 'Microsoft YaHei' not found, will use 'wqy-microhei' instead”\n",
            "Warning message in text.default(x1, y1, words[i], cex = size[i], offset = 0, srt = rotWord * :\n",
            "“font family 'Microsoft YaHei' not found, will use 'wqy-microhei' instead”\n",
            "Warning message in strwidth(words[i], cex = size[i], ...):\n",
            "“font family 'Microsoft YaHei' not found, will use 'wqy-microhei' instead”\n",
            "Warning message in text.default(x1, y1, words[i], cex = size[i], offset = 0, srt = rotWord * :\n",
            "“font family 'Microsoft YaHei' not found, will use 'wqy-microhei' instead”\n",
            "Warning message in text.default(x1, y1, words[i], cex = size[i], offset = 0, srt = rotWord * :\n",
            "“font family 'Microsoft YaHei' not found, will use 'wqy-microhei' instead”\n",
            "Warning message in text.default(x1, y1, words[i], cex = size[i], offset = 0, srt = rotWord * :\n",
            "“font family 'Microsoft YaHei' not found, will use 'wqy-microhei' instead”\n",
            "Warning message in text.default(x1, y1, words[i], cex = size[i], offset = 0, srt = rotWord * :\n",
            "“font family 'Microsoft YaHei' not found, will use 'wqy-microhei' instead”\n",
            "Warning message in strwidth(words[i], cex = size[i], ...):\n",
            "“font family 'Microsoft YaHei' not found, will use 'wqy-microhei' instead”\n",
            "Warning message in text.default(x1, y1, words[i], cex = size[i], offset = 0, srt = rotWord * :\n",
            "“font family 'Microsoft YaHei' not found, will use 'wqy-microhei' instead”\n",
            "Warning message in text.default(x1, y1, words[i], cex = size[i], offset = 0, srt = rotWord * :\n",
            "“font family 'Microsoft YaHei' not found, will use 'wqy-microhei' instead”\n",
            "Warning message in text.default(x1, y1, words[i], cex = size[i], offset = 0, srt = rotWord * :\n",
            "“font family 'Microsoft YaHei' not found, will use 'wqy-microhei' instead”\n",
            "Warning message in text.default(x1, y1, words[i], cex = size[i], offset = 0, srt = rotWord * :\n",
            "“font family 'Microsoft YaHei' not found, will use 'wqy-microhei' instead”\n",
            "Warning message in strwidth(words[i], cex = size[i], ...):\n",
            "“font family 'Microsoft YaHei' not found, will use 'wqy-microhei' instead”\n",
            "Warning message in text.default(x1, y1, words[i], cex = size[i], offset = 0, srt = rotWord * :\n",
            "“font family 'Microsoft YaHei' not found, will use 'wqy-microhei' instead”\n",
            "Warning message in text.default(x1, y1, words[i], cex = size[i], offset = 0, srt = rotWord * :\n",
            "“font family 'Microsoft YaHei' not found, will use 'wqy-microhei' instead”\n",
            "Warning message in text.default(x1, y1, words[i], cex = size[i], offset = 0, srt = rotWord * :\n",
            "“font family 'Microsoft YaHei' not found, will use 'wqy-microhei' instead”\n",
            "Warning message in text.default(x1, y1, words[i], cex = size[i], offset = 0, srt = rotWord * :\n",
            "“font family 'Microsoft YaHei' not found, will use 'wqy-microhei' instead”\n",
            "Warning message in strwidth(words[i], cex = size[i], ...):\n",
            "“font family 'Microsoft YaHei' not found, will use 'wqy-microhei' instead”\n",
            "Warning message in text.default(x1, y1, words[i], cex = size[i], offset = 0, srt = rotWord * :\n",
            "“font family 'Microsoft YaHei' not found, will use 'wqy-microhei' instead”\n",
            "Warning message in text.default(x1, y1, words[i], cex = size[i], offset = 0, srt = rotWord * :\n",
            "“font family 'Microsoft YaHei' not found, will use 'wqy-microhei' instead”\n",
            "Warning message in text.default(x1, y1, words[i], cex = size[i], offset = 0, srt = rotWord * :\n",
            "“font family 'Microsoft YaHei' not found, will use 'wqy-microhei' instead”\n",
            "Warning message in text.default(x1, y1, words[i], cex = size[i], offset = 0, srt = rotWord * :\n",
            "“font family 'Microsoft YaHei' not found, will use 'wqy-microhei' instead”\n"
          ],
          "name": "stderr"
        },
        {
          "output_type": "display_data",
          "data": {
            "image/png": "[encoded data removed]",
            "text/plain": [
              "plot without title"
            ]
          },
          "metadata": {
            "tags": [],
            "image/png": {
              "width": 420,
              "height": 420
            }
          }
        }
      ]
    }
  ]
}