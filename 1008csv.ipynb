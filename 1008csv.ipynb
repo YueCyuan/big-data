{
  "nbformat": 4,
  "nbformat_minor": 0,
  "metadata": {
    "colab": {
      "name": "1008csv.ipynb",
      "provenance": [],
      "collapsed_sections": [],
      "include_colab_link": true
    },
    "kernelspec": {
      "name": "ir",
      "display_name": "R"
    }
  },
  "cells": [
    {
      "cell_type": "markdown",
      "metadata": {
        "id": "view-in-github",
        "colab_type": "text"
      },
      "source": [
        "<a href=\"https://colab.research.google.com/github/YueCyuan/big-data/blob/master/1008csv.ipynb\" target=\"_parent\"><img src=\"https://colab.research.google.com/assets/colab-badge.svg\" alt=\"Open In Colab\"/></a>"
      ]
    },
    {
      "cell_type": "code",
      "metadata": {
        "id": "HbYFZFI6VJun",
        "outputId": "60ea6782-6aa4-43ed-c817-6b568ca4ee50",
        "colab": {
          "base_uri": "https://localhost:8080/",
          "height": 34
        }
      },
      "source": [
        "system(\"ls\",TRUE)"
      ],
      "execution_count": 2,
      "outputs": [
        {
          "output_type": "display_data",
          "data": {
            "text/plain": [
              "[1] \"sample_data\""
            ],
            "text/latex": "'sample\\_data'",
            "text/markdown": "'sample_data'",
            "text/html": [
              "'sample_data'"
            ]
          },
          "metadata": {
            "tags": []
          }
        }
      ]
    },
    {
      "cell_type": "code",
      "metadata": {
        "id": "M-DjK_XaZB0_"
      },
      "source": [
        "library(reader)"
      ],
      "execution_count": null,
      "outputs": []
    },
    {
      "cell_type": "code",
      "metadata": {
        "id": "_VxFkU2aZaTC"
      },
      "source": [
        "dataset <- read.csv(\"20191203動物資料.csv\")"
      ],
      "execution_count": 3,
      "outputs": []
    },
    {
      "cell_type": "code",
      "metadata": {
        "id": "dEup2663Zn_I",
        "outputId": "551b1b83-ff0c-465b-bf7c-a3a0f4754e90",
        "colab": {
          "base_uri": "https://localhost:8080/",
          "height": 34
        }
      },
      "source": [
        "head(dataset$A_Name_Ch,n=10)"
      ],
      "execution_count": 4,
      "outputs": [
        {
          "output_type": "display_data",
          "data": {
            "text/plain": [
              " [1] \"大貓熊\"     \"國王企鵝\"   \"黑腳企鵝\"   \"弓角羚羊\"   \"非洲野驢\"  \n",
              " [6] \"單峰駱駝\"   \"雙峰駱駝\"   \"人猿\"       \"大長臂猿\"   \"印度大犀鳥\""
            ],
            "text/latex": "\\begin{enumerate*}\n\\item '大貓熊'\n\\item '國王企鵝'\n\\item '黑腳企鵝'\n\\item '弓角羚羊'\n\\item '非洲野驢'\n\\item '單峰駱駝'\n\\item '雙峰駱駝'\n\\item '人猿'\n\\item '大長臂猿'\n\\item '印度大犀鳥'\n\\end{enumerate*}\n",
            "text/markdown": "1. '大貓熊'\n2. '國王企鵝'\n3. '黑腳企鵝'\n4. '弓角羚羊'\n5. '非洲野驢'\n6. '單峰駱駝'\n7. '雙峰駱駝'\n8. '人猿'\n9. '大長臂猿'\n10. '印度大犀鳥'\n\n\n",
            "text/html": [
              "<style>\n",
              ".list-inline {list-style: none; margin:0; padding: 0}\n",
              ".list-inline>li {display: inline-block}\n",
              ".list-inline>li:not(:last-child)::after {content: \"\\00b7\"; padding: 0 .5ex}\n",
              "</style>\n",
              "<ol class=list-inline><li>'大貓熊'</li><li>'國王企鵝'</li><li>'黑腳企鵝'</li><li>'弓角羚羊'</li><li>'非洲野驢'</li><li>'單峰駱駝'</li><li>'雙峰駱駝'</li><li>'人猿'</li><li>'大長臂猿'</li><li>'印度大犀鳥'</li></ol>\n"
            ]
          },
          "metadata": {
            "tags": []
          }
        }
      ]
    },
    {
      "cell_type": "code",
      "metadata": {
        "id": "ae9X2DgLdRTD",
        "outputId": "4ba325f3-6b64-4230-84f2-f59bb4a15792",
        "colab": {
          "base_uri": "https://localhost:8080/",
          "height": 34
        }
      },
      "source": [
        "tail(dataset$A_Name_Ch,n=10)"
      ],
      "execution_count": 6,
      "outputs": [
        {
          "output_type": "display_data",
          "data": {
            "text/plain": [
              " [1] \"棉頭絹猴\"     \"阿氏夜猴\"     \"小懶猴\"       \"粗尾侏儒狐猴\" \"蜜熊(未展出)\"\n",
              " [6] \"金色箭毒蛙\"   \"黃帶箭毒蛙\"   \"迷彩箭毒蛙\"   \"鈷藍箭毒蛙\"   \"象魚\"        "
            ],
            "text/latex": "\\begin{enumerate*}\n\\item '棉頭絹猴'\n\\item '阿氏夜猴'\n\\item '小懶猴'\n\\item '粗尾侏儒狐猴'\n\\item '蜜熊(未展出)'\n\\item '金色箭毒蛙'\n\\item '黃帶箭毒蛙'\n\\item '迷彩箭毒蛙'\n\\item '鈷藍箭毒蛙'\n\\item '象魚'\n\\end{enumerate*}\n",
            "text/markdown": "1. '棉頭絹猴'\n2. '阿氏夜猴'\n3. '小懶猴'\n4. '粗尾侏儒狐猴'\n5. '蜜熊(未展出)'\n6. '金色箭毒蛙'\n7. '黃帶箭毒蛙'\n8. '迷彩箭毒蛙'\n9. '鈷藍箭毒蛙'\n10. '象魚'\n\n\n",
            "text/html": [
              "<style>\n",
              ".list-inline {list-style: none; margin:0; padding: 0}\n",
              ".list-inline>li {display: inline-block}\n",
              ".list-inline>li:not(:last-child)::after {content: \"\\00b7\"; padding: 0 .5ex}\n",
              "</style>\n",
              "<ol class=list-inline><li>'棉頭絹猴'</li><li>'阿氏夜猴'</li><li>'小懶猴'</li><li>'粗尾侏儒狐猴'</li><li>'蜜熊(未展出)'</li><li>'金色箭毒蛙'</li><li>'黃帶箭毒蛙'</li><li>'迷彩箭毒蛙'</li><li>'鈷藍箭毒蛙'</li><li>'象魚'</li></ol>\n"
            ]
          },
          "metadata": {
            "tags": []
          }
        }
      ]
    },
    {
      "cell_type": "code",
      "metadata": {
        "id": "46GKTKlgeWmz",
        "outputId": "8181716a-8b28-4ea0-dfa7-f7bff6412560",
        "colab": {
          "base_uri": "https://localhost:8080/",
          "height": 555
        }
      },
      "source": [
        "dataset[grepl(\"蛙\",dataset$A_Name_Ch),]"
      ],
      "execution_count": 8,
      "outputs": [
        {
          "output_type": "display_data",
          "data": {
            "text/plain": [
              "    A_Name_Ch  A_Summary A_Keywords A_AlsoKnown\n",
              "65  莫氏樹蛙                                   \n",
              "73  圓眼珍珠蛙                                 \n",
              "74  飾紋角蛙                                   \n",
              "78  翡翠樹蛙                                   \n",
              "360 金色箭毒蛙                                 \n",
              "361 黃帶箭毒蛙                                 \n",
              "362 迷彩箭毒蛙                                 \n",
              "363 鈷藍箭毒蛙                                 \n",
              "    A_Geo                                 A_Location              \n",
              "65  MULTIPOINT ((121.5898494 24.9940697)) 兩棲爬蟲動物館          \n",
              "73  MULTIPOINT ((121.5898494 24.9940697)) 兩棲爬蟲動物館          \n",
              "74  MULTIPOINT ((121.5898494 24.9940697)) 兩棲爬蟲動物館          \n",
              "78  MULTIPOINT ((121.5898494 24.9940697)) 兩棲爬蟲動物館          \n",
              "360 MULTIPOINT ((121.5832747 24.9958021)) 熱帶雨林室內館(穿山甲館)\n",
              "361 MULTIPOINT ((121.5832747 24.9958021)) 熱帶雨林室內館(穿山甲館)\n",
              "362 MULTIPOINT ((121.5832747 24.9958021)) 熱帶雨林室內館(穿山甲館)\n",
              "363 MULTIPOINT ((121.5832747 24.9958021)) 熱帶雨林室內館(穿山甲館)\n",
              "    A_POIGroup     A_Name_En                         A_Name_Latin          \n",
              "65  兩棲爬蟲動物館 Moltrecht’s green treefrog        Rhacophorus moltrechti\n",
              "73  兩棲爬蟲動物館 Budgett's frog                    Lepidobatrachus laevis\n",
              "74  兩棲爬蟲動物館 Ornate horned frog                Ceratophrys ornata    \n",
              "78  兩棲爬蟲動物館  Emerald green tree frog          Rhacophorus prasinatus\n",
              "360                Golden Poison Frog                Phyllobates terribilis\n",
              "361                Yellow-headed Poison Frog         Dendrobates leucomelas\n",
              "362                Green and Black Poison-arrow Frog Dendrobates auratus   \n",
              "363                Dyeing Poison-arrow Frog          Dendrobates tinctorius\n",
              "    A_Phylum    ⋯ A_pdf02_URL A_Voice01_ALT A_Voice01_URL A_Voice02_ALT\n",
              "65  脊索動物門  ⋯                                                      \n",
              "73  脊索動物門  ⋯                                                      \n",
              "74  脊索動物門  ⋯                                                      \n",
              "78  脊索動物門  ⋯                                                      \n",
              "360 ?脊索動物門 ⋯                                                      \n",
              "361 脊索動物門  ⋯                                                      \n",
              "362 脊索動物門  ⋯                                                      \n",
              "363 脊索動物門  ⋯                                                      \n",
              "    A_Voice02_URL A_Voice03_ALT A_Voice03_URL\n",
              "65                                           \n",
              "73                                           \n",
              "74                                           \n",
              "78                                           \n",
              "360                                          \n",
              "361                                          \n",
              "362                                          \n",
              "363                                          \n",
              "    A_Vedio_URL                                                             \n",
              "65  https://www.youtube.com/playlist?list=PLWYak5Af5-DsI0VcGEZspDS1JIwL5dmvF\n",
              "73                                                                          \n",
              "74                                                                          \n",
              "78                                                                          \n",
              "360                                                                         \n",
              "361                                                                         \n",
              "362                                                                         \n",
              "363                                                                         \n",
              "    A_Update   A_CID\n",
              "65  2017/9/29  68   \n",
              "73  2015/11/23 76   \n",
              "74  2015/11/23 77   \n",
              "78  2015/11/23 81   \n",
              "360            NA   \n",
              "361            NA   \n",
              "362            NA   \n",
              "363            NA   "
            ],
            "text/latex": "A data.frame: 8 × 46\n\\begin{tabular}{r|lllllllllllllllllllll}\n  & A\\_Name\\_Ch & A\\_Summary & A\\_Keywords & A\\_AlsoKnown & A\\_Geo & A\\_Location & A\\_POIGroup & A\\_Name\\_En & A\\_Name\\_Latin & A\\_Phylum & ⋯ & A\\_pdf02\\_URL & A\\_Voice01\\_ALT & A\\_Voice01\\_URL & A\\_Voice02\\_ALT & A\\_Voice02\\_URL & A\\_Voice03\\_ALT & A\\_Voice03\\_URL & A\\_Vedio\\_URL & A\\_Update & A\\_CID\\\\\n  & <chr> & <chr> & <chr> & <chr> & <chr> & <chr> & <chr> & <chr> & <chr> & <chr> & ⋯ & <chr> & <chr> & <chr> & <chr> & <chr> & <chr> & <chr> & <chr> & <chr> & <int>\\\\\n\\hline\n\t65 & 莫氏樹蛙   &  &  &  & MULTIPOINT ((121.5898494 24.9940697)) & 兩棲爬蟲動物館           & 兩棲爬蟲動物館 & Moltrecht’s green treefrog        & Rhacophorus moltrechti & 脊索動物門  & ⋯ &  &  &  &  &  &  &  & https://www.youtube.com/playlist?list=PLWYak5Af5-DsI0VcGEZspDS1JIwL5dmvF & 2017/9/29  & 68\\\\\n\t73 & 圓眼珍珠蛙 &  &  &  & MULTIPOINT ((121.5898494 24.9940697)) & 兩棲爬蟲動物館           & 兩棲爬蟲動物館 & Budgett's frog                    & Lepidobatrachus laevis & 脊索動物門  & ⋯ &  &  &  &  &  &  &  &                                                                          & 2015/11/23 & 76\\\\\n\t74 & 飾紋角蛙   &  &  &  & MULTIPOINT ((121.5898494 24.9940697)) & 兩棲爬蟲動物館           & 兩棲爬蟲動物館 & Ornate horned frog                & Ceratophrys ornata     & 脊索動物門  & ⋯ &  &  &  &  &  &  &  &                                                                          & 2015/11/23 & 77\\\\\n\t78 & 翡翠樹蛙   &  &  &  & MULTIPOINT ((121.5898494 24.9940697)) & 兩棲爬蟲動物館           & 兩棲爬蟲動物館 &  Emerald green tree frog          & Rhacophorus prasinatus & 脊索動物門  & ⋯ &  &  &  &  &  &  &  &                                                                          & 2015/11/23 & 81\\\\\n\t360 & 金色箭毒蛙 &  &  &  & MULTIPOINT ((121.5832747 24.9958021)) & 熱帶雨林室內館(穿山甲館) &                & Golden Poison Frog                & Phyllobates terribilis & ?脊索動物門 & ⋯ &  &  &  &  &  &  &  &                                                                          &            & NA\\\\\n\t361 & 黃帶箭毒蛙 &  &  &  & MULTIPOINT ((121.5832747 24.9958021)) & 熱帶雨林室內館(穿山甲館) &                & Yellow-headed Poison Frog         & Dendrobates leucomelas & 脊索動物門  & ⋯ &  &  &  &  &  &  &  &                                                                          &            & NA\\\\\n\t362 & 迷彩箭毒蛙 &  &  &  & MULTIPOINT ((121.5832747 24.9958021)) & 熱帶雨林室內館(穿山甲館) &                & Green and Black Poison-arrow Frog & Dendrobates auratus    & 脊索動物門  & ⋯ &  &  &  &  &  &  &  &                                                                          &            & NA\\\\\n\t363 & 鈷藍箭毒蛙 &  &  &  & MULTIPOINT ((121.5832747 24.9958021)) & 熱帶雨林室內館(穿山甲館) &                & Dyeing Poison-arrow Frog          & Dendrobates tinctorius & 脊索動物門  & ⋯ &  &  &  &  &  &  &  &                                                                          &            & NA\\\\\n\\end{tabular}\n",
            "text/markdown": "\nA data.frame: 8 × 46\n\n| <!--/--> | A_Name_Ch &lt;chr&gt; | A_Summary &lt;chr&gt; | A_Keywords &lt;chr&gt; | A_AlsoKnown &lt;chr&gt; | A_Geo &lt;chr&gt; | A_Location &lt;chr&gt; | A_POIGroup &lt;chr&gt; | A_Name_En &lt;chr&gt; | A_Name_Latin &lt;chr&gt; | A_Phylum &lt;chr&gt; | ⋯ ⋯ | A_pdf02_URL &lt;chr&gt; | A_Voice01_ALT &lt;chr&gt; | A_Voice01_URL &lt;chr&gt; | A_Voice02_ALT &lt;chr&gt; | A_Voice02_URL &lt;chr&gt; | A_Voice03_ALT &lt;chr&gt; | A_Voice03_URL &lt;chr&gt; | A_Vedio_URL &lt;chr&gt; | A_Update &lt;chr&gt; | A_CID &lt;int&gt; |\n|---|---|---|---|---|---|---|---|---|---|---|---|---|---|---|---|---|---|---|---|---|---|\n| 65 | 莫氏樹蛙   | <!----> | <!----> | <!----> | MULTIPOINT ((121.5898494 24.9940697)) | 兩棲爬蟲動物館           | 兩棲爬蟲動物館 | Moltrecht’s green treefrog        | Rhacophorus moltrechti | 脊索動物門  | ⋯ | <!----> | <!----> | <!----> | <!----> | <!----> | <!----> | <!----> | https://www.youtube.com/playlist?list=PLWYak5Af5-DsI0VcGEZspDS1JIwL5dmvF | 2017/9/29  | 68 |\n| 73 | 圓眼珍珠蛙 | <!----> | <!----> | <!----> | MULTIPOINT ((121.5898494 24.9940697)) | 兩棲爬蟲動物館           | 兩棲爬蟲動物館 | Budgett's frog                    | Lepidobatrachus laevis | 脊索動物門  | ⋯ | <!----> | <!----> | <!----> | <!----> | <!----> | <!----> | <!----> | <!----> | 2015/11/23 | 76 |\n| 74 | 飾紋角蛙   | <!----> | <!----> | <!----> | MULTIPOINT ((121.5898494 24.9940697)) | 兩棲爬蟲動物館           | 兩棲爬蟲動物館 | Ornate horned frog                | Ceratophrys ornata     | 脊索動物門  | ⋯ | <!----> | <!----> | <!----> | <!----> | <!----> | <!----> | <!----> | <!----> | 2015/11/23 | 77 |\n| 78 | 翡翠樹蛙   | <!----> | <!----> | <!----> | MULTIPOINT ((121.5898494 24.9940697)) | 兩棲爬蟲動物館           | 兩棲爬蟲動物館 |  Emerald green tree frog          | Rhacophorus prasinatus | 脊索動物門  | ⋯ | <!----> | <!----> | <!----> | <!----> | <!----> | <!----> | <!----> | <!----> | 2015/11/23 | 81 |\n| 360 | 金色箭毒蛙 | <!----> | <!----> | <!----> | MULTIPOINT ((121.5832747 24.9958021)) | 熱帶雨林室內館(穿山甲館) | <!----> | Golden Poison Frog                | Phyllobates terribilis | ?脊索動物門 | ⋯ | <!----> | <!----> | <!----> | <!----> | <!----> | <!----> | <!----> | <!----> | <!----> | NA |\n| 361 | 黃帶箭毒蛙 | <!----> | <!----> | <!----> | MULTIPOINT ((121.5832747 24.9958021)) | 熱帶雨林室內館(穿山甲館) | <!----> | Yellow-headed Poison Frog         | Dendrobates leucomelas | 脊索動物門  | ⋯ | <!----> | <!----> | <!----> | <!----> | <!----> | <!----> | <!----> | <!----> | <!----> | NA |\n| 362 | 迷彩箭毒蛙 | <!----> | <!----> | <!----> | MULTIPOINT ((121.5832747 24.9958021)) | 熱帶雨林室內館(穿山甲館) | <!----> | Green and Black Poison-arrow Frog | Dendrobates auratus    | 脊索動物門  | ⋯ | <!----> | <!----> | <!----> | <!----> | <!----> | <!----> | <!----> | <!----> | <!----> | NA |\n| 363 | 鈷藍箭毒蛙 | <!----> | <!----> | <!----> | MULTIPOINT ((121.5832747 24.9958021)) | 熱帶雨林室內館(穿山甲館) | <!----> | Dyeing Poison-arrow Frog          | Dendrobates tinctorius | 脊索動物門  | ⋯ | <!----> | <!----> | <!----> | <!----> | <!----> | <!----> | <!----> | <!----> | <!----> | NA |\n\n",
            "text/html": [
              "<table>\n",
              "<caption>A data.frame: 8 × 46</caption>\n",
              "<thead>\n",
              "\t<tr><th></th><th scope=col>A_Name_Ch</th><th scope=col>A_Summary</th><th scope=col>A_Keywords</th><th scope=col>A_AlsoKnown</th><th scope=col>A_Geo</th><th scope=col>A_Location</th><th scope=col>A_POIGroup</th><th scope=col>A_Name_En</th><th scope=col>A_Name_Latin</th><th scope=col>A_Phylum</th><th scope=col>⋯</th><th scope=col>A_pdf02_URL</th><th scope=col>A_Voice01_ALT</th><th scope=col>A_Voice01_URL</th><th scope=col>A_Voice02_ALT</th><th scope=col>A_Voice02_URL</th><th scope=col>A_Voice03_ALT</th><th scope=col>A_Voice03_URL</th><th scope=col>A_Vedio_URL</th><th scope=col>A_Update</th><th scope=col>A_CID</th></tr>\n",
              "\t<tr><th></th><th scope=col>&lt;chr&gt;</th><th scope=col>&lt;chr&gt;</th><th scope=col>&lt;chr&gt;</th><th scope=col>&lt;chr&gt;</th><th scope=col>&lt;chr&gt;</th><th scope=col>&lt;chr&gt;</th><th scope=col>&lt;chr&gt;</th><th scope=col>&lt;chr&gt;</th><th scope=col>&lt;chr&gt;</th><th scope=col>&lt;chr&gt;</th><th scope=col>⋯</th><th scope=col>&lt;chr&gt;</th><th scope=col>&lt;chr&gt;</th><th scope=col>&lt;chr&gt;</th><th scope=col>&lt;chr&gt;</th><th scope=col>&lt;chr&gt;</th><th scope=col>&lt;chr&gt;</th><th scope=col>&lt;chr&gt;</th><th scope=col>&lt;chr&gt;</th><th scope=col>&lt;chr&gt;</th><th scope=col>&lt;int&gt;</th></tr>\n",
              "</thead>\n",
              "<tbody>\n",
              "\t<tr><th scope=row>65</th><td>莫氏樹蛙  </td><td></td><td></td><td></td><td>MULTIPOINT ((121.5898494 24.9940697))</td><td>兩棲爬蟲動物館          </td><td>兩棲爬蟲動物館</td><td>Moltrecht’s green treefrog       </td><td>Rhacophorus moltrechti</td><td>脊索動物門 </td><td>⋯</td><td></td><td></td><td></td><td></td><td></td><td></td><td></td><td>https://www.youtube.com/playlist?list=PLWYak5Af5-DsI0VcGEZspDS1JIwL5dmvF</td><td>2017/9/29 </td><td>68</td></tr>\n",
              "\t<tr><th scope=row>73</th><td>圓眼珍珠蛙</td><td></td><td></td><td></td><td>MULTIPOINT ((121.5898494 24.9940697))</td><td>兩棲爬蟲動物館          </td><td>兩棲爬蟲動物館</td><td>Budgett's frog                   </td><td>Lepidobatrachus laevis</td><td>脊索動物門 </td><td>⋯</td><td></td><td></td><td></td><td></td><td></td><td></td><td></td><td>                                                                        </td><td>2015/11/23</td><td>76</td></tr>\n",
              "\t<tr><th scope=row>74</th><td>飾紋角蛙  </td><td></td><td></td><td></td><td>MULTIPOINT ((121.5898494 24.9940697))</td><td>兩棲爬蟲動物館          </td><td>兩棲爬蟲動物館</td><td>Ornate horned frog               </td><td>Ceratophrys ornata    </td><td>脊索動物門 </td><td>⋯</td><td></td><td></td><td></td><td></td><td></td><td></td><td></td><td>                                                                        </td><td>2015/11/23</td><td>77</td></tr>\n",
              "\t<tr><th scope=row>78</th><td>翡翠樹蛙  </td><td></td><td></td><td></td><td>MULTIPOINT ((121.5898494 24.9940697))</td><td>兩棲爬蟲動物館          </td><td>兩棲爬蟲動物館</td><td> Emerald green tree frog         </td><td>Rhacophorus prasinatus</td><td>脊索動物門 </td><td>⋯</td><td></td><td></td><td></td><td></td><td></td><td></td><td></td><td>                                                                        </td><td>2015/11/23</td><td>81</td></tr>\n",
              "\t<tr><th scope=row>360</th><td>金色箭毒蛙</td><td></td><td></td><td></td><td>MULTIPOINT ((121.5832747 24.9958021))</td><td>熱帶雨林室內館(穿山甲館)</td><td>              </td><td>Golden Poison Frog               </td><td>Phyllobates terribilis</td><td>?脊索動物門</td><td>⋯</td><td></td><td></td><td></td><td></td><td></td><td></td><td></td><td>                                                                        </td><td>          </td><td>NA</td></tr>\n",
              "\t<tr><th scope=row>361</th><td>黃帶箭毒蛙</td><td></td><td></td><td></td><td>MULTIPOINT ((121.5832747 24.9958021))</td><td>熱帶雨林室內館(穿山甲館)</td><td>              </td><td>Yellow-headed Poison Frog        </td><td>Dendrobates leucomelas</td><td>脊索動物門 </td><td>⋯</td><td></td><td></td><td></td><td></td><td></td><td></td><td></td><td>                                                                        </td><td>          </td><td>NA</td></tr>\n",
              "\t<tr><th scope=row>362</th><td>迷彩箭毒蛙</td><td></td><td></td><td></td><td>MULTIPOINT ((121.5832747 24.9958021))</td><td>熱帶雨林室內館(穿山甲館)</td><td>              </td><td>Green and Black Poison-arrow Frog</td><td>Dendrobates auratus   </td><td>脊索動物門 </td><td>⋯</td><td></td><td></td><td></td><td></td><td></td><td></td><td></td><td>                                                                        </td><td>          </td><td>NA</td></tr>\n",
              "\t<tr><th scope=row>363</th><td>鈷藍箭毒蛙</td><td></td><td></td><td></td><td>MULTIPOINT ((121.5832747 24.9958021))</td><td>熱帶雨林室內館(穿山甲館)</td><td>              </td><td>Dyeing Poison-arrow Frog         </td><td>Dendrobates tinctorius</td><td>脊索動物門 </td><td>⋯</td><td></td><td></td><td></td><td></td><td></td><td></td><td></td><td>                                                                        </td><td>          </td><td>NA</td></tr>\n",
              "</tbody>\n",
              "</table>\n"
            ]
          },
          "metadata": {
            "tags": []
          }
        }
      ]
    }
  ]
}